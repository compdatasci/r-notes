{
 "cells": [
  {
   "cell_type": "markdown",
   "metadata": {},
   "source": [
    "# Handout 3. Probability and distributions\n",
    "\n",
    "## 1.\tRandom sampling\n",
    "The basic notion of a random sample is to deal from a well-shuffled pack of cards or picking numbered balls from a well-stirred urn.\n",
    "\n",
    "In R, you can simulate these situations with the sample function. If you want to pick five numbers at random from the set 1:40, then you can write"
   ]
  },
  {
   "cell_type": "code",
   "execution_count": 1,
   "metadata": {
    "collapsed": false
   },
   "outputs": [
    {
     "data": {
      "text/html": [
       "<ol class=list-inline>\n",
       "\t<li>11</li>\n",
       "\t<li>31</li>\n",
       "\t<li>13</li>\n",
       "\t<li>35</li>\n",
       "\t<li>6</li>\n",
       "</ol>\n"
      ],
      "text/latex": [
       "\\begin{enumerate*}\n",
       "\\item 11\n",
       "\\item 31\n",
       "\\item 13\n",
       "\\item 35\n",
       "\\item 6\n",
       "\\end{enumerate*}\n"
      ],
      "text/markdown": [
       "1. 11\n",
       "2. 31\n",
       "3. 13\n",
       "4. 35\n",
       "5. 6\n",
       "\n",
       "\n"
      ],
      "text/plain": [
       "[1] 11 31 13 35  6"
      ]
     },
     "metadata": {},
     "output_type": "display_data"
    },
    {
     "data": {
      "text/html": [
       "<ol class=list-inline>\n",
       "\t<li>'T'</li>\n",
       "\t<li>'T'</li>\n",
       "\t<li>'H'</li>\n",
       "\t<li>'H'</li>\n",
       "\t<li>'H'</li>\n",
       "\t<li>'T'</li>\n",
       "\t<li>'T'</li>\n",
       "\t<li>'H'</li>\n",
       "\t<li>'T'</li>\n",
       "\t<li>'H'</li>\n",
       "</ol>\n"
      ],
      "text/latex": [
       "\\begin{enumerate*}\n",
       "\\item 'T'\n",
       "\\item 'T'\n",
       "\\item 'H'\n",
       "\\item 'H'\n",
       "\\item 'H'\n",
       "\\item 'T'\n",
       "\\item 'T'\n",
       "\\item 'H'\n",
       "\\item 'T'\n",
       "\\item 'H'\n",
       "\\end{enumerate*}\n"
      ],
      "text/markdown": [
       "1. 'T'\n",
       "2. 'T'\n",
       "3. 'H'\n",
       "4. 'H'\n",
       "5. 'H'\n",
       "6. 'T'\n",
       "7. 'T'\n",
       "8. 'H'\n",
       "9. 'T'\n",
       "10. 'H'\n",
       "\n",
       "\n"
      ],
      "text/plain": [
       " [1] \"T\" \"T\" \"H\" \"H\" \"H\" \"T\" \"T\" \"H\" \"T\" \"H\""
      ]
     },
     "metadata": {},
     "output_type": "display_data"
    },
    {
     "data": {
      "text/html": [
       "<ol class=list-inline>\n",
       "\t<li>'succ'</li>\n",
       "\t<li>'succ'</li>\n",
       "\t<li>'succ'</li>\n",
       "\t<li>'succ'</li>\n",
       "\t<li>'succ'</li>\n",
       "\t<li>'fail'</li>\n",
       "\t<li>'succ'</li>\n",
       "\t<li>'succ'</li>\n",
       "\t<li>'succ'</li>\n",
       "\t<li>'fail'</li>\n",
       "</ol>\n"
      ],
      "text/latex": [
       "\\begin{enumerate*}\n",
       "\\item 'succ'\n",
       "\\item 'succ'\n",
       "\\item 'succ'\n",
       "\\item 'succ'\n",
       "\\item 'succ'\n",
       "\\item 'fail'\n",
       "\\item 'succ'\n",
       "\\item 'succ'\n",
       "\\item 'succ'\n",
       "\\item 'fail'\n",
       "\\end{enumerate*}\n"
      ],
      "text/markdown": [
       "1. 'succ'\n",
       "2. 'succ'\n",
       "3. 'succ'\n",
       "4. 'succ'\n",
       "5. 'succ'\n",
       "6. 'fail'\n",
       "7. 'succ'\n",
       "8. 'succ'\n",
       "9. 'succ'\n",
       "10. 'fail'\n",
       "\n",
       "\n"
      ],
      "text/plain": [
       " [1] \"succ\" \"succ\" \"succ\" \"succ\" \"succ\" \"fail\" \"succ\" \"succ\" \"succ\" \"fail\""
      ]
     },
     "metadata": {},
     "output_type": "display_data"
    }
   ],
   "source": [
    "sample(1:40,5)\n",
    "sample(c(\"H\",\"T\"), 10, replace=T)\n",
    "sample(c(\"succ\", \"fail\"), 10, replace=T, prob=c(0.9, 0.1))"
   ]
  },
  {
   "cell_type": "markdown",
   "metadata": {},
   "source": [
    "## 2.\tProbability calculations and combinatorics\n",
    "In R, the `choose` function can be used to calculate the number of ways to choose 5 numbers out of 40."
   ]
  },
  {
   "cell_type": "code",
   "execution_count": 2,
   "metadata": {
    "collapsed": false
   },
   "outputs": [
    {
     "data": {
      "text/html": [
       "658008"
      ],
      "text/latex": [
       "658008"
      ],
      "text/markdown": [
       "658008"
      ],
      "text/plain": [
       "[1] 658008"
      ]
     },
     "metadata": {},
     "output_type": "display_data"
    }
   ],
   "source": [
    "choose(40,5)"
   ]
  },
  {
   "cell_type": "markdown",
   "metadata": {},
   "source": [
    "## 3.\tDiscrete and continuous distributions\n",
    "\n",
    "**Discrete**:\tBinomial distribution, geometric distribution, Poisson distribution\n",
    "\n",
    "**Continuous**:\tNormal, Beta, Gamma, log-normal, ….\n",
    "\n",
    "\n",
    "|**Distribution**  |    **R name** |  **additional arguments** |\n",
    "|------------------|---------------| --------------------------|\n",
    "|beta \t\t       | `beta`        |  `shape1`, `shape2`, `ncp` |\n",
    "|binomial          | `binom`       |  `size`, `prob`            |\n",
    "|Cauchy | `cauchy`  | `location`, `scale` |\n",
    "|chi-squared | `chisq` | `df`, `ncp`  |\n",
    "|exponential | `exp` | `rate` |\n",
    "|F  | `f`  | `df1`, `df2`, `ncp`  |\n",
    "|gamma | `gamma`  | `shape`, `scale` |\n",
    "|geometric | `geom` | `prob` |\n",
    "|log-normal | `lnorm` | `meanlog`, `sdlog` |\n",
    "|logistic  | `logis` | `location`, `scale` |\n",
    "|negative binomial |  `nbinom` | `size`, `prob` |\n",
    "|normal | \t`norm` | `mean`, `sd` |\n",
    "|Poisson | `pois` | `lambda` |\n",
    "|Student’s t | `t` | `df`, `ncp` |\n",
    "|uniform |  `unif` | `min`, `max` |\n",
    "|Weibull |  `weibull` | `shape`, `scale` |\n",
    "\n"
   ]
  },
  {
   "cell_type": "markdown",
   "metadata": {},
   "source": [
    "Prefix the name given here by `d` for the density, `p` for the CDF, `q` for the quantile\n",
    "function and `r` for simulation (random deviates). The first argument is `x` for `dxxx`, `q` for\n",
    "`pxxx`, `p` for `qxxx` and `n` for `rxxx`. We next discuss and give some examples on these functions.\n",
    "\n",
    "(1)\t**Densities**"
   ]
  },
  {
   "cell_type": "code",
   "execution_count": 6,
   "metadata": {
    "collapsed": false
   },
   "outputs": [
    {
     "data": {
      "image/png": "[encoded data removed]",
      "text/plain": [
       "plot without title"
      ]
     },
     "metadata": {},
     "output_type": "display_data"
    }
   ],
   "source": [
    "x <- seq(-4,4,0.1)\n",
    "plot(x,dnorm(x),type=\"l\")"
   ]
  },
  {
   "cell_type": "markdown",
   "metadata": {},
   "source": [
    "For discrete distributions, where variables can take on only distinct values, it is preferable to draw a pin diagram, here for the binomial distribution with n = 50 and p = 0.33:"
   ]
  },
  {
   "cell_type": "code",
   "execution_count": 7,
   "metadata": {
    "collapsed": false
   },
   "outputs": [
    {
     "data": {
      "image/png": "[encoded data removed]",
      "text/plain": [
       "plot without title"
      ]
     },
     "metadata": {},
     "output_type": "display_data"
    }
   ],
   "source": [
    "x <- 0:50\n",
    "plot(x,dbinom(x,size=50,prob=.33),type=\"h\")"
   ]
  },
  {
   "cell_type": "markdown",
   "metadata": {},
   "source": [
    "(2)\t**Cumulative distribution functions**"
   ]
  },
  {
   "cell_type": "code",
   "execution_count": 8,
   "metadata": {
    "collapsed": false
   },
   "outputs": [
    {
     "data": {
      "text/html": [
       "0.984373880571531"
      ],
      "text/latex": [
       "0.984373880571531"
      ],
      "text/markdown": [
       "0.984373880571531"
      ],
      "text/plain": [
       "[1] 0.9843739"
      ]
     },
     "metadata": {},
     "output_type": "display_data"
    },
    {
     "data": {
      "text/html": [
       "0.998711585998535"
      ],
      "text/latex": [
       "0.998711585998535"
      ],
      "text/markdown": [
       "0.998711585998535"
      ],
      "text/plain": [
       "[1] 0.9987116"
      ]
     },
     "metadata": {},
     "output_type": "display_data"
    }
   ],
   "source": [
    "pnorm(160,mean=132,sd=13)\n",
    "pbinom(16,size=20,prob=.5)"
   ]
  },
  {
   "cell_type": "markdown",
   "metadata": {},
   "source": [
    "(3)\t**Quantiles**\n",
    "\n",
    "If we have $n$ normally distributed observations with the same mean $\\mu$ and standard deviation sigma, then it is known that the average $\\bar{x}$ is normally distributed around $\\mu$ with standard deviation $\\sigma/\\sqrt{n}$. A 95% confidence interval for $\\mu$ can be obtained as\n",
    "\n",
    "$$\\bar{x} + \\sigma/\\sqrt{n} × N0.025  \\leq \\mu \\leq \\bar{x} + s/pn × N0.975$$\n",
    "\n",
    "where N0.025 is the 2.5% quantile in the normal distribution."
   ]
  },
  {
   "cell_type": "markdown",
   "metadata": {},
   "source": [
    "(4)\t**Random numbers**\n",
    "\n",
    "Computer generates sequences of “pseudo-random” numbers, which for practical purposes behave as if they were drawn randomly."
   ]
  },
  {
   "cell_type": "code",
   "execution_count": 9,
   "metadata": {
    "collapsed": false
   },
   "outputs": [
    {
     "data": {
      "text/html": [
       "<ol class=list-inline>\n",
       "\t<li>7.36068792521279</li>\n",
       "\t<li>9.65089706840357</li>\n",
       "\t<li>15.1191550207816</li>\n",
       "\t<li>6.47840676870642</li>\n",
       "\t<li>6.71157605726558</li>\n",
       "\t<li>-0.97193872185453</li>\n",
       "\t<li>2.61920643085679</li>\n",
       "\t<li>10.122171865098</li>\n",
       "\t<li>10.4836697732672</li>\n",
       "\t<li>13.5026781499313</li>\n",
       "</ol>\n"
      ],
      "text/latex": [
       "\\begin{enumerate*}\n",
       "\\item 7.36068792521279\n",
       "\\item 9.65089706840357\n",
       "\\item 15.1191550207816\n",
       "\\item 6.47840676870642\n",
       "\\item 6.71157605726558\n",
       "\\item -0.97193872185453\n",
       "\\item 2.61920643085679\n",
       "\\item 10.122171865098\n",
       "\\item 10.4836697732672\n",
       "\\item 13.5026781499313\n",
       "\\end{enumerate*}\n"
      ],
      "text/markdown": [
       "1. 7.36068792521279\n",
       "2. 9.65089706840357\n",
       "3. 15.1191550207816\n",
       "4. 6.47840676870642\n",
       "5. 6.71157605726558\n",
       "6. -0.97193872185453\n",
       "7. 2.61920643085679\n",
       "8. 10.122171865098\n",
       "9. 10.4836697732672\n",
       "10. 13.5026781499313\n",
       "\n",
       "\n"
      ],
      "text/plain": [
       " [1]  7.3606879  9.6508971 15.1191550  6.4784068  6.7115761 -0.9719387\n",
       " [7]  2.6192064 10.1221719 10.4836698 13.5026781"
      ]
     },
     "metadata": {},
     "output_type": "display_data"
    },
    {
     "data": {
      "text/html": [
       "<ol class=list-inline>\n",
       "\t<li>9</li>\n",
       "\t<li>11</li>\n",
       "\t<li>11</li>\n",
       "\t<li>11</li>\n",
       "\t<li>11</li>\n",
       "\t<li>8</li>\n",
       "\t<li>14</li>\n",
       "\t<li>7</li>\n",
       "\t<li>10</li>\n",
       "\t<li>11</li>\n",
       "</ol>\n"
      ],
      "text/latex": [
       "\\begin{enumerate*}\n",
       "\\item 9\n",
       "\\item 11\n",
       "\\item 11\n",
       "\\item 11\n",
       "\\item 11\n",
       "\\item 8\n",
       "\\item 14\n",
       "\\item 7\n",
       "\\item 10\n",
       "\\item 11\n",
       "\\end{enumerate*}\n"
      ],
      "text/markdown": [
       "1. 9\n",
       "2. 11\n",
       "3. 11\n",
       "4. 11\n",
       "5. 11\n",
       "6. 8\n",
       "7. 14\n",
       "8. 7\n",
       "9. 10\n",
       "10. 11\n",
       "\n",
       "\n"
      ],
      "text/plain": [
       " [1]  9 11 11 11 11  8 14  7 10 11"
      ]
     },
     "metadata": {},
     "output_type": "display_data"
    }
   ],
   "source": [
    "rnorm(10,mean=7,sd=5)\n",
    "rbinom(10,size=20,prob=.5)"
   ]
  }
 ],
 "metadata": {
  "kernelspec": {
   "display_name": "R",
   "language": "R",
   "name": "ir"
  },
  "language_info": {
   "codemirror_mode": "r",
   "file_extension": ".r",
   "mimetype": "text/x-r-source",
   "name": "R",
   "pygments_lexer": "r",
   "version": "3.3.3"
  },
  "latex_envs": {
   "LaTeX_envs_menu_present": true,
   "autocomplete": true,
   "bibliofile": "biblio.bib",
   "cite_by": "apalike",
   "current_citInitial": 1,
   "eqLabelWithNumbers": true,
   "eqNumInitial": 1,
   "hotkeys": {
    "equation": "Ctrl-E",
    "itemize": "Ctrl-I"
   },
   "labels_anchors": false,
   "latex_user_defs": false,
   "report_style_numbering": false,
   "user_envs_cfg": false
  }
 },
 "nbformat": 4,
 "nbformat_minor": 2
}
