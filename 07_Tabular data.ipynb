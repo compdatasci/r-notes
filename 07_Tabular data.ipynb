{
 "cells": [
  {
   "cell_type": "markdown",
   "metadata": {},
   "source": [
    "# Handout 7. Tabular data\n",
    "\n",
    "## 1.\tSingle proportions \n",
    "Tests of single proportions are generally based on the binomial distribution with size parameter N and probability parameter p. For large sample sizes, this can be well approximated by a normal distribution with mean Np and variance Np(1 − p). As a rule of thumb, the approximation is satisfactory when the expected numbers of “successes” and “failures” are both larger than 5."
   ]
  },
  {
   "cell_type": "markdown",
   "metadata": {},
   "source": [
    "Denoting the observed number of “successes” by $x$, the test for the hypothesis that $p=p_0$ can be based on \n",
    "\n",
    "$$ u = \\frac{x-Np_0}{\\sqrt{Np_0(1-p_0}}$$\n",
    "\n",
    "which has an approximate normal distribution with mean zero and standard deviation 1. "
   ]
  },
  {
   "cell_type": "markdown",
   "metadata": {},
   "source": [
    "We consider an example (Altman, 1991, p. 230) where 39 of 215 randomly chosen patients are observed to have asthma and one wants to test the hypothesis that the probability of a “random patient” having asthma is 0.15. This can be done using `prop.test`:"
   ]
  },
  {
   "cell_type": "code",
   "execution_count": 1,
   "metadata": {
    "collapsed": false
   },
   "outputs": [
    {
     "data": {
      "text/plain": [
       "\n",
       "\t1-sample proportions test with continuity correction\n",
       "\n",
       "data:  39 out of 215, null probability 0.15\n",
       "X-squared = 1.425, df = 1, p-value = 0.2326\n",
       "alternative hypothesis: true p is not equal to 0.15\n",
       "95 percent confidence interval:\n",
       " 0.1335937 0.2408799\n",
       "sample estimates:\n",
       "        p \n",
       "0.1813953 \n"
      ]
     },
     "metadata": {},
     "output_type": "display_data"
    }
   ],
   "source": [
    "prop.test(39, 215, 0.15)"
   ]
  },
  {
   "cell_type": "code",
   "execution_count": 2,
   "metadata": {
    "collapsed": false
   },
   "outputs": [
    {
     "data": {
      "text/plain": [
       "\n",
       "\tExact binomial test\n",
       "\n",
       "data:  39 and 215\n",
       "number of successes = 39, number of trials = 215, p-value = 0.2135\n",
       "alternative hypothesis: true probability of success is not equal to 0.15\n",
       "95 percent confidence interval:\n",
       " 0.1322842 0.2395223\n",
       "sample estimates:\n",
       "probability of success \n",
       "             0.1813953 \n"
      ]
     },
     "metadata": {},
     "output_type": "display_data"
    }
   ],
   "source": [
    "binom.test(39, 215, 0.15)"
   ]
  },
  {
   "cell_type": "markdown",
   "metadata": {},
   "source": [
    "## 2.\tTwo independent proportions\n",
    "The function `prop.test` can also be used to compare two or more proportions. For that purpose, the arguments should be given as two vectors, where the first contains the number of positive outcomes and the second the total number for each group.\n",
    "\n",
    "The theory is similar to that for a single proportion. Consider the difference in the two proportions $d = x1/N1 − x2/N2$, which will be approximately normally distributed with mean zero and variance $V^2(p) =(1/N1 + 1/N2) \\times p(1 − p)$ if the counts are binomially distributed with the same $p$ parameter. So to test the hypothesis that $p1 = p2$, plug the common estimate $\\mbox{phat} = (x1 + x2)/(n1 + n2)$ into the variance formula and look at $u = d/V(\\mbox{phat})$, which approximately follows a standard normal distribution. See the following example for illustration."
   ]
  },
  {
   "cell_type": "code",
   "execution_count": 3,
   "metadata": {
    "collapsed": false
   },
   "outputs": [
    {
     "data": {
      "text/plain": [
       "\n",
       "\t2-sample test for equality of proportions with continuity correction\n",
       "\n",
       "data:  lewitt.machin.success out of lewitt.machin.total\n",
       "X-squared = 3.2793, df = 1, p-value = 0.07016\n",
       "alternative hypothesis: two.sided\n",
       "95 percent confidence interval:\n",
       " 0.01151032 0.87310506\n",
       "sample estimates:\n",
       "   prop 1    prop 2 \n",
       "0.7500000 0.3076923 \n"
      ]
     },
     "metadata": {},
     "output_type": "display_data"
    }
   ],
   "source": [
    "lewitt.machin.success <- c(9,4)\n",
    "lewitt.machin.total <- c(12,13)\n",
    "prop.test(lewitt.machin.success,lewitt.machin.total)"
   ]
  },
  {
   "cell_type": "markdown",
   "metadata": {},
   "source": [
    "The confidence interval given is for the difference in proportions."
   ]
  },
  {
   "cell_type": "markdown",
   "metadata": {},
   "source": [
    "## 3.\tr X c tables\n",
    "For the analysis of tables with more than two classes on both sides, you can use `chisq.test` or `fisher.test`, although you should note that the latter can be very computationally demanding if the cell counts are large and there are more than two rows or columns. An r × c table looks like this:\n",
    "\n",
    "\\begin{array}{cccc|c}\n",
    "n_{11} & n_{12} & \\cdots & n_{1c} & n_{1} \\\\\n",
    "n_{21} & n_{22} & \\cdots & n_{2c} & n_{2} \\\\\n",
    "\\vdots & \\vdots &        & \\vdots & \\vdots \\\\\n",
    "n_{r1} & n_{r2} & \\cdots & n_{rc} & n_{r} \\\\\n",
    "\\hline\n",
    "n_{.1} & n_{.2} & \\cdots & n_{.c} & n_{..} \\\\\n",
    "\\end{array}"
   ]
  },
  {
   "cell_type": "markdown",
   "metadata": {},
   "source": [
    "Such a table can arise from several different sampling plans, and the notion of “no relation between rows and columns” is correspondingly different. The total in each row might be fixed in advance, and you would be interested in testing whether the distribution over columns is the same for each row, or vice versa if the column totals were fixed. It might also be the case that only the total number is chosen and the individuals are grouped randomly according to the row and column criteria. In the latter case, you would be interested in testing the hypothesis of statistical independence, that the probability of an individual falling into the $ij$th cell is the product $p_ip_j$ of the marginal probabilities. However, the analysis of the table turns out to be the same in all cases."
   ]
  },
  {
   "cell_type": "markdown",
   "metadata": {},
   "source": [
    "If there is no relation between rows and columns, then you would expect to have the following cell values:\n",
    "\n",
    "$$E_ij = \\frac{n_{i.}\\times n{.j}}{n_{..}}$$"
   ]
  },
  {
   "cell_type": "markdown",
   "metadata": {},
   "source": [
    "This can be interpreted as distributing each row total according to the proportions in each column (or vice versa) or as distributing the grand total according to the products of the row and column proportions. The test statistic\n",
    "\n",
    "$$X^2 = \\sum\\frac{(O-E)^2}{E}$$\n",
    "\n",
    "has an approximate *chi-squared* distribution with $(r − 1) × (c − 1)$ degrees of freedom. Here the sum is over the entire table and the $ij$ indices have been omitted. $O$ denotes the observed values and $E$ the expected values as described above."
   ]
  },
  {
   "cell_type": "code",
   "execution_count": 4,
   "metadata": {
    "collapsed": false
   },
   "outputs": [
    {
     "data": {
      "text/html": [
       "<table>\n",
       "<thead><tr><th></th><th scope=col>0</th><th scope=col>1-150</th><th scope=col>151-300</th><th scope=col>&gt;300</th></tr></thead>\n",
       "<tbody>\n",
       "\t<tr><th scope=row>Married</th><td>652 </td><td>1537</td><td>598 </td><td>242 </td></tr>\n",
       "\t<tr><th scope=row>Prev.married</th><td> 36 </td><td>  46</td><td> 38 </td><td> 21 </td></tr>\n",
       "\t<tr><th scope=row>Single</th><td>218 </td><td> 327</td><td>106 </td><td> 67 </td></tr>\n",
       "</tbody>\n",
       "</table>\n"
      ],
      "text/latex": [
       "\\begin{tabular}{r|llll}\n",
       "  & 0 & 1-150 & 151-300 & >300\\\\\n",
       "\\hline\n",
       "\tMarried & 652  & 1537 & 598  & 242 \\\\\n",
       "\tPrev.married &  36  &   46 &  38  &  21 \\\\\n",
       "\tSingle & 218  &  327 & 106  &  67 \\\\\n",
       "\\end{tabular}\n"
      ],
      "text/markdown": [
       "\n",
       "| <!--/--> | 0 | 1-150 | 151-300 | >300 | \n",
       "|---|---|---|\n",
       "| Married | 652  | 1537 | 598  | 242  | \n",
       "| Prev.married |  36  |   46 |  38  |  21  | \n",
       "| Single | 218  |  327 | 106  |  67  | \n",
       "\n",
       "\n"
      ],
      "text/plain": [
       "             0   1-150 151-300 >300\n",
       "Married      652 1537  598     242 \n",
       "Prev.married  36   46   38      21 \n",
       "Single       218  327  106      67 "
      ]
     },
     "metadata": {},
     "output_type": "display_data"
    }
   ],
   "source": [
    "caff.marital <-matrix(c(652,1537,598,242,36,46,38,21,218,327, 106,67), nrow=3,byrow=T)\n",
    "colnames(caff.marital) <- c(\"0\",\"1-150\",\"151-300\",\">300\")\n",
    "rownames(caff.marital) <- c(\"Married\",\"Prev.married\",\"Single\")\n",
    "caff.marital"
   ]
  },
  {
   "cell_type": "code",
   "execution_count": 5,
   "metadata": {
    "collapsed": false
   },
   "outputs": [
    {
     "data": {
      "text/plain": [
       "\n",
       "\tPearson's Chi-squared test\n",
       "\n",
       "data:  caff.marital\n",
       "X-squared = 51.656, df = 6, p-value = 2.187e-09\n"
      ]
     },
     "metadata": {},
     "output_type": "display_data"
    }
   ],
   "source": [
    "chisq.test(caff.marital)"
   ]
  },
  {
   "cell_type": "markdown",
   "metadata": {},
   "source": [
    "The test is highly significant, so we can safely conclude that the data contradict the hypothesis of independence. However, you would generally also like to know the nature of the deviations. To that end, you can look at some extra components of the return value of `chisq.test`."
   ]
  },
  {
   "cell_type": "code",
   "execution_count": 6,
   "metadata": {
    "collapsed": false
   },
   "outputs": [
    {
     "data": {
      "text/html": [
       "<table>\n",
       "<thead><tr><th></th><th scope=col>0</th><th scope=col>1-150</th><th scope=col>151-300</th><th scope=col>&gt;300</th></tr></thead>\n",
       "<tbody>\n",
       "\t<tr><th scope=row>Married</th><td>705.83179 </td><td>1488.01183</td><td>578.06533 </td><td>257.09105 </td></tr>\n",
       "\t<tr><th scope=row>Prev.married</th><td> 32.85648 </td><td>  69.26698</td><td> 26.90895 </td><td> 11.96759 </td></tr>\n",
       "\t<tr><th scope=row>Single</th><td>167.31173 </td><td> 352.72119</td><td>137.02572 </td><td> 60.94136 </td></tr>\n",
       "</tbody>\n",
       "</table>\n"
      ],
      "text/latex": [
       "\\begin{tabular}{r|llll}\n",
       "  & 0 & 1-150 & 151-300 & >300\\\\\n",
       "\\hline\n",
       "\tMarried & 705.83179  & 1488.01183 & 578.06533  & 257.09105 \\\\\n",
       "\tPrev.married &  32.85648  &   69.26698 &  26.90895  &  11.96759 \\\\\n",
       "\tSingle & 167.31173  &  352.72119 & 137.02572  &  60.94136 \\\\\n",
       "\\end{tabular}\n"
      ],
      "text/markdown": [
       "\n",
       "| <!--/--> | 0 | 1-150 | 151-300 | >300 | \n",
       "|---|---|---|\n",
       "| Married | 705.83179  | 1488.01183 | 578.06533  | 257.09105  | \n",
       "| Prev.married |  32.85648  |   69.26698 |  26.90895  |  11.96759  | \n",
       "| Single | 167.31173  |  352.72119 | 137.02572  |  60.94136  | \n",
       "\n",
       "\n"
      ],
      "text/plain": [
       "             0         1-150      151-300   >300     \n",
       "Married      705.83179 1488.01183 578.06533 257.09105\n",
       "Prev.married  32.85648   69.26698  26.90895  11.96759\n",
       "Single       167.31173  352.72119 137.02572  60.94136"
      ]
     },
     "metadata": {},
     "output_type": "display_data"
    }
   ],
   "source": [
    "chisq.test(caff.marital)$expected"
   ]
  },
  {
   "cell_type": "code",
   "execution_count": 7,
   "metadata": {
    "collapsed": false
   },
   "outputs": [
    {
     "data": {
      "text/html": [
       "<table>\n",
       "<thead><tr><th></th><th scope=col>0</th><th scope=col>1-150</th><th scope=col>151-300</th><th scope=col>&gt;300</th></tr></thead>\n",
       "<tbody>\n",
       "\t<tr><th scope=row>Married</th><td>652 </td><td>1537</td><td>598 </td><td>242 </td></tr>\n",
       "\t<tr><th scope=row>Prev.married</th><td> 36 </td><td>  46</td><td> 38 </td><td> 21 </td></tr>\n",
       "\t<tr><th scope=row>Single</th><td>218 </td><td> 327</td><td>106 </td><td> 67 </td></tr>\n",
       "</tbody>\n",
       "</table>\n"
      ],
      "text/latex": [
       "\\begin{tabular}{r|llll}\n",
       "  & 0 & 1-150 & 151-300 & >300\\\\\n",
       "\\hline\n",
       "\tMarried & 652  & 1537 & 598  & 242 \\\\\n",
       "\tPrev.married &  36  &   46 &  38  &  21 \\\\\n",
       "\tSingle & 218  &  327 & 106  &  67 \\\\\n",
       "\\end{tabular}\n"
      ],
      "text/markdown": [
       "\n",
       "| <!--/--> | 0 | 1-150 | 151-300 | >300 | \n",
       "|---|---|---|\n",
       "| Married | 652  | 1537 | 598  | 242  | \n",
       "| Prev.married |  36  |   46 |  38  |  21  | \n",
       "| Single | 218  |  327 | 106  |  67  | \n",
       "\n",
       "\n"
      ],
      "text/plain": [
       "             0   1-150 151-300 >300\n",
       "Married      652 1537  598     242 \n",
       "Prev.married  36   46   38      21 \n",
       "Single       218  327  106      67 "
      ]
     },
     "metadata": {},
     "output_type": "display_data"
    }
   ],
   "source": [
    "chisq.test(caff.marital)$observed"
   ]
  },
  {
   "cell_type": "code",
   "execution_count": 8,
   "metadata": {
    "collapsed": false
   },
   "outputs": [
    {
     "data": {
      "text/html": [
       "<table>\n",
       "<thead><tr><th></th><th scope=col>0</th><th scope=col>1-150</th><th scope=col>151-300</th><th scope=col>&gt;300</th></tr></thead>\n",
       "<tbody>\n",
       "\t<tr><th scope=row>Married</th><td> 4.1055981</td><td>1.612783  </td><td>0.6874502 </td><td>0.8858331 </td></tr>\n",
       "\t<tr><th scope=row>Prev.married</th><td> 0.3007537</td><td>7.815444  </td><td>4.5713926 </td><td>6.8171090 </td></tr>\n",
       "\t<tr><th scope=row>Single</th><td>15.3563704</td><td>1.875645  </td><td>7.0249243 </td><td>0.6023355 </td></tr>\n",
       "</tbody>\n",
       "</table>\n"
      ],
      "text/latex": [
       "\\begin{tabular}{r|llll}\n",
       "  & 0 & 1-150 & 151-300 & >300\\\\\n",
       "\\hline\n",
       "\tMarried &  4.1055981 & 1.612783   & 0.6874502  & 0.8858331 \\\\\n",
       "\tPrev.married &  0.3007537 & 7.815444   & 4.5713926  & 6.8171090 \\\\\n",
       "\tSingle & 15.3563704 & 1.875645   & 7.0249243  & 0.6023355 \\\\\n",
       "\\end{tabular}\n"
      ],
      "text/markdown": [
       "\n",
       "| <!--/--> | 0 | 1-150 | 151-300 | >300 | \n",
       "|---|---|---|\n",
       "| Married |  4.1055981 | 1.612783   | 0.6874502  | 0.8858331  | \n",
       "| Prev.married |  0.3007537 | 7.815444   | 4.5713926  | 6.8171090  | \n",
       "| Single | 15.3563704 | 1.875645   | 7.0249243  | 0.6023355  | \n",
       "\n",
       "\n"
      ],
      "text/plain": [
       "             0          1-150    151-300   >300     \n",
       "Married       4.1055981 1.612783 0.6874502 0.8858331\n",
       "Prev.married  0.3007537 7.815444 4.5713926 6.8171090\n",
       "Single       15.3563704 1.875645 7.0249243 0.6023355"
      ]
     },
     "metadata": {},
     "output_type": "display_data"
    }
   ],
   "source": [
    "E <- chisq.test(caff.marital)$expected\n",
    "O <- chisq.test(caff.marital)$observed\n",
    "(O-E)^2/E"
   ]
  }
 ],
 "metadata": {
  "kernelspec": {
   "display_name": "R",
   "language": "R",
   "name": "ir"
  },
  "language_info": {
   "codemirror_mode": "r",
   "file_extension": ".r",
   "mimetype": "text/x-r-source",
   "name": "R",
   "pygments_lexer": "r",
   "version": "3.3.3"
  },
  "latex_envs": {
   "LaTeX_envs_menu_present": true,
   "autocomplete": true,
   "bibliofile": "biblio.bib",
   "cite_by": "apalike",
   "current_citInitial": 1,
   "eqLabelWithNumbers": true,
   "eqNumInitial": 1,
   "hotkeys": {
    "equation": "Ctrl-E",
    "itemize": "Ctrl-I"
   },
   "labels_anchors": false,
   "latex_user_defs": false,
   "report_style_numbering": false,
   "user_envs_cfg": false
  }
 },
 "nbformat": 4,
 "nbformat_minor": 2
}
