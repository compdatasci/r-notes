{
 "cells": [
  {
   "cell_type": "markdown",
   "metadata": {
    "deletable": true,
    "editable": true
   },
   "source": [
    "# Handout 2. The R Environment\n",
    "\n",
    "## 1.\tSession Management\n",
    "### 1.1 The workplace\n",
    "\n",
    "All variables created in R are stored in a common workspace. To see which variables are defined in the workspace, you can use the function `ls (list)`. you can delete some of the objects and this is done using `rm (remove)`."
   ]
  },
  {
   "cell_type": "code",
   "execution_count": null,
   "metadata": {
    "collapsed": false,
    "deletable": true,
    "editable": true
   },
   "outputs": [],
   "source": [
    "# Continue the example from lecture 1\n",
    "height <- c(1.75, 1.80, 1.65, 1.90, 1.74, 1.91)\n",
    "weight <- c(60, 72, 57, 90, 95, 72)\n",
    "bmi <- weight/height^2\n",
    "\n",
    "ls()"
   ]
  },
  {
   "cell_type": "code",
   "execution_count": null,
   "metadata": {
    "collapsed": false,
    "deletable": true,
    "editable": true
   },
   "outputs": [],
   "source": [
    "rm(height, weight)\n",
    "ls()"
   ]
  },
  {
   "cell_type": "code",
   "execution_count": null,
   "metadata": {
    "collapsed": true,
    "deletable": true,
    "editable": true
   },
   "outputs": [],
   "source": [
    "rm(list=ls())"
   ]
  },
  {
   "cell_type": "code",
   "execution_count": null,
   "metadata": {
    "collapsed": true,
    "deletable": true,
    "editable": true
   },
   "outputs": [],
   "source": [
    "save.image()  ## save the workplace to a file called “.RData”"
   ]
  },
  {
   "cell_type": "markdown",
   "metadata": {
    "deletable": true,
    "editable": true
   },
   "source": [
    "## 1.2 Textual output\n",
    "\n",
    "It is important to note that the workspace consists only of R objects, not of any of the output that you have generated during a session. If you want to save your output, use “Save to File” from the File menu in Windows or use standard cut-and-paste facilities.\n",
    "\n",
    "An alternative way of diverting output to a file is to use the `sink` function."
   ]
  },
  {
   "cell_type": "code",
   "execution_count": null,
   "metadata": {
    "collapsed": false,
    "deletable": true,
    "editable": true
   },
   "outputs": [],
   "source": [
    "sink(\"myfile\")\n",
    "ls()\n",
    "sink()"
   ]
  },
  {
   "cell_type": "markdown",
   "metadata": {
    "deletable": true,
    "editable": true
   },
   "source": [
    "The current working directory can be obtained by `getwd()`..."
   ]
  },
  {
   "cell_type": "code",
   "execution_count": null,
   "metadata": {
    "collapsed": false,
    "deletable": true,
    "editable": true
   },
   "outputs": [],
   "source": [
    "getwd()"
   ]
  },
  {
   "cell_type": "markdown",
   "metadata": {
    "deletable": true,
    "editable": true
   },
   "source": [
    "and changed by `setwd(mydir)`, where `mydir` is a character string."
   ]
  },
  {
   "cell_type": "code",
   "execution_count": null,
   "metadata": {
    "collapsed": false,
    "deletable": true,
    "editable": true
   },
   "outputs": [],
   "source": [
    "setwd('/home/datacomputing')\n",
    "getwd()"
   ]
  },
  {
   "cell_type": "code",
   "execution_count": null,
   "metadata": {
    "collapsed": true,
    "deletable": true,
    "editable": true
   },
   "outputs": [],
   "source": [
    "setwd('/home/datacomputing/shared')"
   ]
  },
  {
   "cell_type": "markdown",
   "metadata": {
    "deletable": true,
    "editable": true
   },
   "source": [
    "### 1.3 Scripting\n",
    "Beyond a certain level of complexity, you will not want to work with R on a line-by-line basis. In such cases, it is better to work with R scripts, collections of lines of R code stored either in a file.\n",
    "\n",
    "You could use the `source` function, which takes the input (i.e., the commands from a file) and runs them."
   ]
  },
  {
   "cell_type": "markdown",
   "metadata": {
    "deletable": true,
    "editable": true
   },
   "source": [
    "### 1.4 Getting help"
   ]
  },
  {
   "cell_type": "code",
   "execution_count": null,
   "metadata": {
    "collapsed": true,
    "deletable": true,
    "editable": true
   },
   "outputs": [],
   "source": [
    "help(source)"
   ]
  },
  {
   "cell_type": "code",
   "execution_count": null,
   "metadata": {
    "collapsed": false,
    "deletable": true,
    "editable": true
   },
   "outputs": [],
   "source": [
    "help.search(\"kendal\")"
   ]
  },
  {
   "cell_type": "code",
   "execution_count": null,
   "metadata": {
    "collapsed": false,
    "deletable": true,
    "editable": true
   },
   "outputs": [],
   "source": [
    "??kendal"
   ]
  },
  {
   "cell_type": "markdown",
   "metadata": {
    "deletable": true,
    "editable": true
   },
   "source": [
    "### 1.5 Packages\n",
    "An R installation contains one or more libraries of packages. Some of these packages are part of the basic installation. Others can be downloaded from CRAN, which currently hosts over 1000 packages for various purposes. You can even create your own packages. \n",
    "\n",
    "A package is loaded into R using the `library` command. For example, to load the `survival` package you should enter:"
   ]
  },
  {
   "cell_type": "code",
   "execution_count": null,
   "metadata": {
    "collapsed": false,
    "deletable": true,
    "editable": true
   },
   "outputs": [],
   "source": [
    "library(survival)"
   ]
  },
  {
   "cell_type": "markdown",
   "metadata": {
    "deletable": true,
    "editable": true
   },
   "source": [
    "### 1.6 Built-in data\n",
    "\n",
    "Many packages, both inside and outside the standard R distribution, come with built-in data sets. Such data sets can be rather large, so it is not a good idea to keep them all in computer memory at all times.\n",
    "\n",
    "**Note:** On your system, you may need to install the package ISwR using the command \n",
    "```\n",
    "install.packages('ISwR')\n",
    "```"
   ]
  },
  {
   "cell_type": "code",
   "execution_count": null,
   "metadata": {
    "collapsed": false,
    "deletable": true,
    "editable": true
   },
   "outputs": [],
   "source": [
    "library( package = ISwR )\n",
    "data(thuesen)"
   ]
  },
  {
   "cell_type": "markdown",
   "metadata": {
    "deletable": true,
    "editable": true
   },
   "source": [
    "### 1.7 Subset and transform functions"
   ]
  },
  {
   "cell_type": "code",
   "execution_count": 1,
   "metadata": {
    "collapsed": false,
    "deletable": true,
    "editable": true
   },
   "outputs": [
    {
     "ename": "ERROR",
     "evalue": "Error in subset(thuesen, blood.glucose < 7): object 'thuesen' not found\n",
     "output_type": "error",
     "traceback": [
      "Error in subset(thuesen, blood.glucose < 7): object 'thuesen' not found\nTraceback:\n",
      "1. subset(thuesen, blood.glucose < 7)"
     ]
    }
   ],
   "source": [
    "thue2 <- subset(thuesen,blood.glucose<7)\n",
    "thue2"
   ]
  },
  {
   "cell_type": "code",
   "execution_count": 2,
   "metadata": {
    "collapsed": false,
    "deletable": true,
    "editable": true
   },
   "outputs": [
    {
     "ename": "ERROR",
     "evalue": "Error in transform(thuesen, log.gluc = log(blood.glucose)): object 'thuesen' not found\n",
     "output_type": "error",
     "traceback": [
      "Error in transform(thuesen, log.gluc = log(blood.glucose)): object 'thuesen' not found\nTraceback:\n",
      "1. transform(thuesen, log.gluc = log(blood.glucose))"
     ]
    }
   ],
   "source": [
    "thue3 <- transform(thuesen,log.gluc=log(blood.glucose))"
   ]
  },
  {
   "cell_type": "code",
   "execution_count": 3,
   "metadata": {
    "collapsed": false,
    "deletable": true,
    "editable": true
   },
   "outputs": [
    {
     "ename": "ERROR",
     "evalue": "Error in eval(expr, envir, enclos): object 'thue3' not found\n",
     "output_type": "error",
     "traceback": [
      "Error in eval(expr, envir, enclos): object 'thue3' not found\nTraceback:\n"
     ]
    }
   ],
   "source": [
    "thue3"
   ]
  },
  {
   "cell_type": "markdown",
   "metadata": {
    "deletable": true,
    "editable": true
   },
   "source": [
    "## 2.\tThe graphics subsystem\n",
    "### 2.1 Plot layout\n",
    "A standard x–y plot has an $x$ and a $y$ title label generated from the expressions being plotted.\n",
    "```\n",
    "x <- runif(50,0,2)\n",
    "y <- runif(50,0,2)\n",
    "plot(x, y, main=\"Main title\", sub=\"subtitle\", xlab=\"x-label\", ylab=\"y-label\")\n",
    "```\n",
    "\n",
    "Inside the plotting region, you can place points and lines that are either specified in the plot call or added later with points and lines. You can also place a text with\n",
    "\n",
    "```\n",
    "text(0.6,0.6,\"text at (0.6,0.6)\")\n",
    "abline(h=.6, v=.6)\n",
    "```\n",
    "\n",
    "The margin coordinates are used by the `mtext` function. They can be demonstrated as follows:\n",
    "```\n",
    "for (side in 1:4) mtext(-1:4,side=side,at=.7,line=-1:4)\n",
    "mtext(paste(\"side\",1:4), side=1:4, line=-1,font=2)\n",
    "```"
   ]
  },
  {
   "cell_type": "code",
   "execution_count": 4,
   "metadata": {
    "collapsed": false,
    "deletable": true,
    "editable": true
   },
   "outputs": [
    {
     "data": {
      "image/png": "[encoded data removed]",
      "text/plain": [
       "Plot with title “Main title”"
      ]
     },
     "metadata": {},
     "output_type": "display_data"
    }
   ],
   "source": [
    "x <- runif(50,0,2)\n",
    "y <- runif(50,0,2)\n",
    "plot(x, y, main=\"Main title\", sub=\"subtitle\", xlab=\"x-label\", ylab=\"y-label\")\n",
    "\n",
    "text(0.6,0.6,\"text at (0.6,0.6)\")\n",
    "abline(h=.6, v=.6)\n",
    "\n",
    "# Continue from above example\n",
    "for (side in 1:4) mtext(-1:4,side=side,at=.7,line=-1:4)\n",
    "mtext(paste(\"side\",1:4), side=1:4, line=-1,font=2)"
   ]
  },
  {
   "cell_type": "markdown",
   "metadata": {
    "deletable": true,
    "editable": true
   },
   "source": [
    "### 2.2 Building a plot from pieces\n",
    "High-level plots are composed of elements, each of which can also be drawn separately."
   ]
  },
  {
   "cell_type": "code",
   "execution_count": 5,
   "metadata": {
    "collapsed": false,
    "deletable": true,
    "editable": true
   },
   "outputs": [
    {
     "data": {
      "image/png": "[encoded data removed]",
      "text/plain": [
       "plot without title"
      ]
     },
     "metadata": {},
     "output_type": "display_data"
    }
   ],
   "source": [
    "plot(x, y, type=\"n\", xlab=\"\", ylab=\"\")"
   ]
  },
  {
   "cell_type": "markdown",
   "metadata": {
    "deletable": true,
    "editable": true
   },
   "source": [
    "To add the plot elements, evaluate the following:"
   ]
  },
  {
   "cell_type": "code",
   "execution_count": 6,
   "metadata": {
    "collapsed": false,
    "deletable": true,
    "editable": true
   },
   "outputs": [
    {
     "data": {
      "image/png": "[encoded data removed]",
      "text/plain": [
       "Plot with title “Main title”"
      ]
     },
     "metadata": {},
     "output_type": "display_data"
    }
   ],
   "source": [
    "plot(x, y, type=\"n\", xlab=\"\", ylab=\"\", axes=F)\n",
    "points(x,y)\n",
    "axis(1)\n",
    "axis(2,at=seq(0.2,1.8,0.2))\n",
    "box()\n",
    "title(main=\"Main title\", sub=\"subtitle\", xlab=\"x-label\", ylab=\"y-label\")"
   ]
  },
  {
   "cell_type": "markdown",
   "metadata": {
    "deletable": true,
    "editable": true
   },
   "source": [
    "### 2.3 Combining plots\n",
    "Consider overlaying a histogram with a normal density"
   ]
  },
  {
   "cell_type": "code",
   "execution_count": 7,
   "metadata": {
    "collapsed": false,
    "deletable": true,
    "editable": true
   },
   "outputs": [
    {
     "data": {
      "image/png": "[encoded data removed]",
      "text/plain": [
       "Plot with title “Histogram of x”"
      ]
     },
     "metadata": {},
     "output_type": "display_data"
    }
   ],
   "source": [
    "x <- rnorm(100)\n",
    "hist(x,freq=F)\n",
    "curve(dnorm(x),add=T)"
   ]
  },
  {
   "cell_type": "code",
   "execution_count": 8,
   "metadata": {
    "collapsed": false,
    "deletable": true,
    "editable": true
   },
   "outputs": [
    {
     "data": {
      "image/png": "[encoded data removed]",
      "text/plain": [
       "Plot with title “Histogram of x”"
      ]
     },
     "metadata": {},
     "output_type": "display_data"
    }
   ],
   "source": [
    "h <- hist(x, plot=F)\n",
    "ylim <- range(0, h$density, dnorm(0))\n",
    "hist(x, freq=F, ylim=ylim)\n",
    "curve(dnorm(x), add=T)"
   ]
  },
  {
   "cell_type": "markdown",
   "metadata": {
    "deletable": true,
    "editable": true
   },
   "source": [
    "### 3.\tR programming\n",
    "It is possible to write your own R functions."
   ]
  },
  {
   "cell_type": "code",
   "execution_count": 9,
   "metadata": {
    "collapsed": true,
    "deletable": true,
    "editable": true
   },
   "outputs": [],
   "source": [
    "hist.with.normal <- function(x, \n",
    "xlab=deparse(substitute(x)),...){\n",
    "  h <- hist(x, plot=F, ...)\n",
    "  s <- sd(x)\n",
    "  m <- mean(x)\n",
    "  ylim <- range(0,h$density,dnorm(0,sd=s))\n",
    "  hist(x, freq=F, ylim=ylim, xlab=xlab, ...)\n",
    "  curve(dnorm(x,m,s), add=T)\n",
    " }"
   ]
  },
  {
   "cell_type": "markdown",
   "metadata": {
    "deletable": true,
    "editable": true
   },
   "source": [
    "### 3.1 Flow control\n",
    "Consider the following code that implements a version of Newton’s method for calculating the square root of y.\n",
    "\n",
    "(1)\t**while (condition) expression** construction."
   ]
  },
  {
   "cell_type": "code",
   "execution_count": 10,
   "metadata": {
    "collapsed": false,
    "deletable": true,
    "editable": true
   },
   "outputs": [
    {
     "data": {
      "text/html": [
       "111.108055513541"
      ],
      "text/latex": [
       "111.108055513541"
      ],
      "text/markdown": [
       "111.108055513541"
      ],
      "text/plain": [
       "[1] 111.1081"
      ]
     },
     "metadata": {},
     "output_type": "display_data"
    }
   ],
   "source": [
    "y <- 12345\n",
    "x <- y/2\n",
    "while (abs(x*x-y) > 1e-10) x <- (x + y/x)/2\n",
    "x"
   ]
  },
  {
   "cell_type": "code",
   "execution_count": 11,
   "metadata": {
    "collapsed": false,
    "deletable": true,
    "editable": true
   },
   "outputs": [
    {
     "data": {
      "text/html": [
       "12345"
      ],
      "text/latex": [
       "12345"
      ],
      "text/markdown": [
       "12345"
      ],
      "text/plain": [
       "[1] 12345"
      ]
     },
     "metadata": {},
     "output_type": "display_data"
    }
   ],
   "source": [
    "x^2"
   ]
  },
  {
   "cell_type": "markdown",
   "metadata": {
    "deletable": true,
    "editable": true
   },
   "source": [
    "(2) **repeat** construction"
   ]
  },
  {
   "cell_type": "code",
   "execution_count": 12,
   "metadata": {
    "collapsed": false,
    "deletable": true,
    "editable": true
   },
   "outputs": [
    {
     "data": {
      "text/html": [
       "111.108055513541"
      ],
      "text/latex": [
       "111.108055513541"
      ],
      "text/markdown": [
       "111.108055513541"
      ],
      "text/plain": [
       "[1] 111.1081"
      ]
     },
     "metadata": {},
     "output_type": "display_data"
    }
   ],
   "source": [
    "x <- y/2\n",
    "repeat {\n",
    "  x <- (x + y/x)/2\n",
    "  if (abs(x*x-y) < 1e-10) break\n",
    "}\n",
    "x  "
   ]
  },
  {
   "cell_type": "markdown",
   "metadata": {
    "deletable": true,
    "editable": true
   },
   "source": [
    "(3) **for** loop "
   ]
  },
  {
   "cell_type": "code",
   "execution_count": 13,
   "metadata": {
    "collapsed": false,
    "deletable": true,
    "editable": true
   },
   "outputs": [
    {
     "data": {
      "image/png": "[encoded data removed]",
      "text/plain": [
       "plot without title"
      ]
     },
     "metadata": {},
     "output_type": "display_data"
    }
   ],
   "source": [
    "x <- seq(0, 1,.05)\n",
    "plot(x, x, ylab=\"y\", type=\"l\")\n",
    "for ( j in 2:8 ) lines(x, x^j)"
   ]
  },
  {
   "cell_type": "markdown",
   "metadata": {
    "deletable": true,
    "editable": true
   },
   "source": [
    "### 3.2 Classes and generic functions\n",
    "Object-oriented programming is about creating coherent systems of data and methods that work upon them. A prototype example is the print method: It makes sense to print many kinds of data objects, but the print layout will depend on what the data object is."
   ]
  },
  {
   "cell_type": "code",
   "execution_count": 14,
   "metadata": {
    "collapsed": false,
    "deletable": true,
    "editable": true
   },
   "outputs": [
    {
     "ename": "ERROR",
     "evalue": "Error in t.test(bmi, mu = 22.5): object 'bmi' not found\n",
     "output_type": "error",
     "traceback": [
      "Error in t.test(bmi, mu = 22.5): object 'bmi' not found\nTraceback:\n",
      "1. t.test(bmi, mu = 22.5)"
     ]
    }
   ],
   "source": [
    "t.test(bmi, mu=22.5)$p.value"
   ]
  },
  {
   "cell_type": "markdown",
   "metadata": {
    "deletable": true,
    "editable": true
   },
   "source": [
    "## 4.\tReading data from a file\n",
    "The most convenient way of reading data into R is via the function called `read.table`. "
   ]
  },
  {
   "cell_type": "code",
   "execution_count": 15,
   "metadata": {
    "collapsed": false,
    "deletable": true,
    "editable": true
   },
   "outputs": [
    {
     "data": {
      "text/html": [
       "<table>\n",
       "<thead><tr><th scope=col>Date</th><th scope=col>AAPL</th><th scope=col>ADBE</th><th scope=col>ADP</th><th scope=col>AMD</th><th scope=col>DELL</th><th scope=col>GTW</th><th scope=col>HP</th><th scope=col>IBM</th><th scope=col>MSFT</th><th scope=col>ORCL</th></tr></thead>\n",
       "<tbody>\n",
       "\t<tr><td>1/3/1994    </td><td> 0.048913361</td><td> 0.135255005</td><td>-0.022895763</td><td> 0.062310900</td><td>-0.012589127</td><td> 0.089235820</td><td>-0.004332150</td><td> 0.000000000</td><td> 0.023481096</td><td> 0.049108780</td></tr>\n",
       "\t<tr><td>2/1/1994    </td><td> 0.048848568</td><td>-0.014934233</td><td>-0.009507324</td><td> 0.020684599</td><td> 0.059585690</td><td>-0.002166062</td><td>-0.014385591</td><td>-0.026849988</td><td>-0.013542573</td><td> 0.010790480</td></tr>\n",
       "\t<tr><td>3/1/1994    </td><td>-0.040760913</td><td>-0.078928087</td><td> 0.000872954</td><td> 0.162272565</td><td> 0.000000000</td><td>-0.071433468</td><td>-0.007948095</td><td> 0.014168956</td><td> 0.011633584</td><td>-0.010790480</td></tr>\n",
       "\t<tr><td>4/4/1994    </td><td>-0.044394486</td><td> 0.041944521</td><td> 0.002174739</td><td>-0.073436234</td><td>-0.059585690</td><td>-0.117886057</td><td> 0.002285766</td><td> 0.022294267</td><td> 0.038425824</td><td>-0.031135409</td></tr>\n",
       "\t<tr><td>5/2/1994    </td><td>-0.009571616</td><td> 0.031889144</td><td> 0.015763276</td><td> 0.010088973</td><td> 0.121733597</td><td>-0.018288786</td><td> 0.003406249</td><td> 0.041423553</td><td> 0.064940807</td><td> 0.057624989</td></tr>\n",
       "\t<tr><td>6/1/1994    </td><td>-0.042543456</td><td>-0.022343827</td><td>-0.000837598</td><td>-0.033423755</td><td>-0.040428657</td><td>-0.126498144</td><td> 0.006733383</td><td>-0.030360262</td><td>-0.016912719</td><td> 0.039285024</td></tr>\n",
       "\t<tr><td>7/1/1994    </td><td> 0.103924521</td><td> 0.056810193</td><td>-0.013626043</td><td> 0.033423755</td><td> 0.030668820</td><td> 0.100023248</td><td> 0.021719250</td><td> 0.022574208</td><td>-0.001570687</td><td> 0.009290076</td></tr>\n",
       "\t<tr><td>8/1/1994    </td><td> 0.032859345</td><td> 0.009365203</td><td> 0.021518747</td><td> 0.031034234</td><td> 0.064117500</td><td> 0.022958322</td><td>-0.017287635</td><td> 0.045883173</td><td> 0.053245512</td><td> 0.047820651</td></tr>\n",
       "\t<tr><td>9/1/1994    </td><td>-0.031286762</td><td> 0.011429462</td><td> 0.018140226</td><td> 0.011234929</td><td> 0.055857817</td><td> 0.101359551</td><td> 0.025680060</td><td> 0.007011687</td><td>-0.015588098</td><td> 0.002053406</td></tr>\n",
       "\t<tr><td>10/3/1994   </td><td> 0.107863536</td><td> 0.044967146</td><td> 0.015892959</td><td>-0.052358136</td><td> 0.081670046</td><td> 0.099511699</td><td> 0.045341699</td><td> 0.029313568</td><td> 0.050350205</td><td> 0.029689996</td></tr>\n",
       "\t<tr><td>11/1/1994   </td><td>-0.062681998</td><td>-0.038251118</td><td>-0.019063006</td><td>-0.019185441</td><td>-0.019023237</td><td>-0.029910290</td><td>-0.043268690</td><td>-0.020773408</td><td>-0.001286799</td><td>-0.046395690</td></tr>\n",
       "\t<tr><td>12/1/1994   </td><td> 0.019817404</td><td>-0.044402052</td><td> 0.021340780</td><td>-0.006238975</td><td>-0.019894829</td><td>-0.004790061</td><td>-0.038918066</td><td> 0.016592442</td><td>-0.011756057</td><td> 0.028826326</td></tr>\n",
       "\t<tr><td>1/3/1995    </td><td> 0.015053507</td><td>-0.011216263</td><td> 0.005268802</td><td> 0.072201415</td><td> 0.019894829</td><td>-0.015526762</td><td>-0.002267861</td><td>-0.008484655</td><td>-0.013446724</td><td>-0.014174038</td></tr>\n",
       "\t<tr><td>2/1/1995    </td><td>-0.008347849</td><td> 0.091830487</td><td> 0.017234715</td><td> 0.014535978</td><td>-0.013161446</td><td>-0.055857817</td><td> 0.013432859</td><td> 0.020142529</td><td> 0.026489580</td><td> 0.041205530</td></tr>\n",
       "\t<tr><td>3/1/1995    </td><td>-0.049271259</td><td> 0.142463082</td><td> 0.010653710</td><td> 0.047355632</td><td> 0.019595556</td><td> 0.009360157</td><td> 0.018345600</td><td> 0.037916351</td><td> 0.052008275</td><td>-0.001876005</td></tr>\n",
       "\t<tr><td>4/3/1995    </td><td> 0.035296905</td><td> 0.070507459</td><td> 0.008338710</td><td> 0.026359099</td><td> 0.101989539</td><td> 0.003688298</td><td> 0.038404519</td><td> 0.061491519</td><td> 0.060549135</td><td>-0.009503541</td></tr>\n",
       "\t<tr><td>5/1/1995    </td><td> 0.037291984</td><td>-0.048967781</td><td>-0.013632898</td><td>-0.037788561</td><td>-0.036871360</td><td>-0.032396620</td><td> 0.006718502</td><td>-0.006349148</td><td> 0.015581742</td><td> 0.055824684</td></tr>\n",
       "\t<tr><td>6/1/1995    </td><td> 0.048105487</td><td> 0.047086358</td><td> 0.005644849</td><td> 0.043778925</td><td> 0.075500762</td><td> 0.112647746</td><td>-0.005752329</td><td> 0.013807626</td><td> 0.027789509</td><td> 0.046432910</td></tr>\n",
       "\t<tr><td>7/3/1995    </td><td>-0.013764005</td><td> 0.027989440</td><td> 0.007643780</td><td>-0.048542714</td><td> 0.035472318</td><td> 0.103424931</td><td>-0.010747994</td><td> 0.054580977</td><td> 0.000896377</td><td> 0.034995661</td></tr>\n",
       "\t<tr><td>8/1/1995    </td><td>-0.018247018</td><td>-0.082850195</td><td> 0.006834043</td><td> 0.014652288</td><td> 0.070581074</td><td>-0.035062968</td><td> 0.001974069</td><td>-0.021497856</td><td> 0.009739938</td><td>-0.018605245</td></tr>\n",
       "\t<tr><td>9/1/1995    </td><td>-0.062646809</td><td> 0.006371182</td><td> 0.021495930</td><td>-0.064211067</td><td> 0.044670395</td><td> 0.060754540</td><td>-0.007950693</td><td>-0.038918066</td><td>-0.009739938</td><td>-0.019438109</td></tr>\n",
       "\t<tr><td>10/2/1995   </td><td>-0.010899397</td><td> 0.042795900</td><td> 0.020789637</td><td>-0.093123508</td><td> 0.040501215</td><td> 0.036937281</td><td>-0.035515001</td><td> 0.012380727</td><td> 0.043423051</td><td> 0.055884182</td></tr>\n",
       "\t<tr><td>11/1/1995   </td><td> 0.022444321</td><td> 0.074164147</td><td> 0.046064956</td><td>-0.059314001</td><td>-0.024473769</td><td>-0.081688003</td><td> 0.026392961</td><td>-0.001775451</td><td>-0.059847909</td><td> 0.017136755</td></tr>\n",
       "\t<tr><td>12/1/1995   </td><td>-0.077634579</td><td>-0.037544616</td><td>-0.028582318</td><td>-0.094269917</td><td>-0.106455331</td><td>-0.052017573</td><td> 0.038215134</td><td>-0.024184514</td><td> 0.002780977</td><td>-0.029409629</td></tr>\n",
       "\t<tr><td>1/2/1996    </td><td>-0.061980274</td><td>-0.259743742</td><td> 0.031339752</td><td> 0.078302996</td><td>-0.098925304</td><td> 0.023443806</td><td> 0.028145958</td><td> 0.074699612</td><td> 0.023383819</td><td> 0.052073614</td></tr>\n",
       "\t<tr><td>2/1/1996    </td><td>-0.001889609</td><td>-0.006434110</td><td>-0.012548707</td><td>-0.008433168</td><td> 0.094885326</td><td> 0.056563207</td><td> 0.024774740</td><td> 0.054036657</td><td> 0.027973996</td><td> 0.036457467</td></tr>\n",
       "\t<tr><td>3/1/1996    </td><td>-0.049420067</td><td>-0.016515088</td><td> 0.008128369</td><td>-0.047304001</td><td>-0.008194479</td><td>-0.024234710</td><td> 0.004953983</td><td>-0.042232563</td><td> 0.019269459</td><td>-0.042635303</td></tr>\n",
       "\t<tr><td>4/1/1996    </td><td>-0.003551079</td><td> 0.126618795</td><td>-0.005589453</td><td> 0.029929905</td><td> 0.134146738</td><td> 0.097283707</td><td> 0.038472166</td><td>-0.013920887</td><td> 0.040463560</td><td> 0.031205841</td></tr>\n",
       "\t<tr><td>5/1/1996    </td><td> 0.030295889</td><td>-0.064022237</td><td>-0.005662329</td><td>-0.023973773</td><td> 0.082710066</td><td> 0.035833494</td><td>-0.003773216</td><td>-0.002660583</td><td> 0.020950741</td><td>-0.008183449</td></tr>\n",
       "\t<tr><td>6/3/1996    </td><td>-0.094753878</td><td>-0.014823776</td><td> 0.003971368</td><td>-0.111191534</td><td>-0.036648979</td><td>-0.046931053</td><td> 0.003773216</td><td>-0.032691357</td><td> 0.004746435</td><td> 0.075626292</td></tr>\n",
       "\t<tr><td>⋮</td><td>⋮</td><td>⋮</td><td>⋮</td><td>⋮</td><td>⋮</td><td>⋮</td><td>⋮</td><td>⋮</td><td>⋮</td><td>⋮</td></tr>\n",
       "\t<tr><td>7/1/2004    </td><td>-0.002677533</td><td>-0.042178603</td><td> 0.001088609</td><td>-0.104834686</td><td>-0.004264393</td><td> 0.000000000</td><td>-0.014149900</td><td>-0.005350930</td><td>-0.001231543</td><td>-0.055037728</td></tr>\n",
       "\t<tr><td>8/2/2004    </td><td> 0.028079080</td><td> 0.036344007</td><td>-0.023581778</td><td>-0.038516208</td><td>-0.007783042</td><td>-0.010747994</td><td> 0.010740977</td><td>-0.011116197</td><td>-0.017251863</td><td>-0.022907558</td></tr>\n",
       "\t<tr><td>9/1/2004    </td><td> 0.050564673</td><td> 0.032833853</td><td> 0.018111237</td><td> 0.055897122</td><td> 0.009371852</td><td> 0.052140679</td><td> 0.045141033</td><td> 0.005383885</td><td> 0.005646181</td><td> 0.053613941</td></tr>\n",
       "\t<tr><td>10/1/2004   </td><td> 0.130947519</td><td> 0.054109565</td><td> 0.021247551</td><td> 0.111882639</td><td>-0.006638086</td><td> 0.072550667</td><td>-0.002164520</td><td> 0.019840802</td><td> 0.005037441</td><td> 0.050124606</td></tr>\n",
       "\t<tr><td>11/1/2004   </td><td> 0.107132262</td><td> 0.033854390</td><td> 0.020922942</td><td> 0.102145632</td><td> 0.062857525</td><td> 0.065991246</td><td> 0.059307406</td><td> 0.022033270</td><td> 0.028553834</td><td> 0.002735722</td></tr>\n",
       "\t<tr><td>12/1/2004   </td><td>-0.017577682</td><td> 0.015363633</td><td>-0.009880963</td><td> 0.014845691</td><td> 0.017025095</td><td>-0.054272640</td><td> 0.018269270</td><td> 0.019559828</td><td>-0.001341969</td><td> 0.032184683</td></tr>\n",
       "\t<tr><td>1/3/2005    </td><td> 0.077040472</td><td>-0.042446462</td><td>-0.008602443</td><td>-0.144160228</td><td>-0.003934041</td><td>-0.104013331</td><td> 0.046664025</td><td>-0.023339446</td><td>-0.007285001</td><td> 0.001579829</td></tr>\n",
       "\t<tr><td>2/1/2005    </td><td> 0.066962925</td><td> 0.035607037</td><td>-0.005244462</td><td> 0.043138344</td><td>-0.017724434</td><td>-0.002763283</td><td> 0.024888264</td><td>-0.003086272</td><td>-0.017607767</td><td>-0.026664172</td></tr>\n",
       "\t<tr><td>3/1/2005    </td><td>-0.032035769</td><td> 0.036544062</td><td> 0.021166965</td><td>-0.034430394</td><td>-0.018478696</td><td>-0.066792812</td><td>-0.003976274</td><td>-0.005699421</td><td>-0.017424932</td><td>-0.016055183</td></tr>\n",
       "\t<tr><td>4/1/2005    </td><td>-0.062797778</td><td>-0.052739728</td><td>-0.014765617</td><td>-0.054160137</td><td>-0.042603886</td><td>-0.072550667</td><td>-0.013752493</td><td>-0.077878895</td><td> 0.019908649</td><td>-0.033256751</td></tr>\n",
       "\t<tr><td>5/2/2005    </td><td> 0.042420653</td><td> 0.046749364</td><td> 0.003566884</td><td> 0.061638948</td><td> 0.059345836</td><td> 0.006321720</td><td> 0.033703625</td><td>-0.003593369</td><td> 0.009795216</td><td> 0.044252136</td></tr>\n",
       "\t<tr><td>6/1/2005    </td><td>-0.033480558</td><td>-0.063572470</td><td>-0.017060842</td><td> 0.024205245</td><td>-0.005142229</td><td>-0.020562159</td><td> 0.053758790</td><td>-0.007818885</td><td>-0.016390416</td><td> 0.013363962</td></tr>\n",
       "\t<tr><td>7/1/2005    </td><td> 0.063953218</td><td> 0.015360342</td><td> 0.024558657</td><td> 0.063714615</td><td> 0.010976123</td><td> 0.081369132</td><td> 0.085410130</td><td> 0.051078906</td><td> 0.013265982</td><td> 0.012005916</td></tr>\n",
       "\t<tr><td>8/1/2005    </td><td> 0.041161197</td><td>-0.039871512</td><td>-0.016529058</td><td> 0.014672788</td><td>-0.055683206</td><td>-0.117009488</td><td> 0.017636452</td><td>-0.013983504</td><td> 0.030276680</td><td>-0.018970697</td></tr>\n",
       "\t<tr><td>9/1/2005    </td><td> 0.058165574</td><td> 0.042937648</td><td> 0.004539097</td><td> 0.083964044</td><td>-0.017423892</td><td>-0.051509819</td><td> 0.007033263</td><td>-0.002161915</td><td>-0.026979324</td><td>-0.020187466</td></tr>\n",
       "\t<tr><td>10/3/2005   </td><td> 0.031101271</td><td> 0.033585384</td><td> 0.035020310</td><td>-0.035538325</td><td>-0.030507793</td><td> 0.023481096</td><td>-0.037471558</td><td> 0.008910610</td><td>-0.000518974</td><td> 0.009697568</td></tr>\n",
       "\t<tr><td>11/1/2005   </td><td> 0.071010707</td><td> 0.004821080</td><td> 0.003192574</td><td> 0.052107427</td><td>-0.024230996</td><td> 0.028028724</td><td> 0.020728813</td><td> 0.036730164</td><td> 0.033468630</td><td>-0.002748708</td></tr>\n",
       "\t<tr><td>12/1/2005   </td><td> 0.025310698</td><td> 0.054381164</td><td>-0.008566244</td><td> 0.067751784</td><td>-0.002890490</td><td>-0.083199862</td><td> 0.028217506</td><td>-0.034016493</td><td>-0.024559712</td><td>-0.013654881</td></tr>\n",
       "\t<tr><td>1/3/2006    </td><td> 0.021335987</td><td> 0.031386603</td><td>-0.019010325</td><td> 0.135454855</td><td>-0.009381008</td><td> 0.034895183</td><td> 0.102312035</td><td>-0.004787461</td><td> 0.031869635</td><td> 0.012619614</td></tr>\n",
       "\t<tr><td>2/1/2006    </td><td>-0.042377304</td><td>-0.013094183</td><td> 0.021705471</td><td>-0.033802110</td><td>-0.004617821</td><td>-0.061656901</td><td>-0.075550317</td><td>-0.004619613</td><td>-0.018675286</td><td>-0.005213682</td></tr>\n",
       "\t<tr><td>3/1/2006    </td><td>-0.038221117</td><td>-0.042577202</td><td>-0.003019691</td><td>-0.066759650</td><td> 0.011234929</td><td>-0.032467888</td><td> 0.025960810</td><td> 0.011942556</td><td> 0.005395032</td><td> 0.042281852</td></tr>\n",
       "\t<tr><td>4/3/2006    </td><td> 0.050104916</td><td> 0.049838887</td><td>-0.015533811</td><td>-0.010740237</td><td>-0.055331636</td><td> 0.001978566</td><td> 0.017808999</td><td>-0.000699824</td><td>-0.051701221</td><td> 0.027651844</td></tr>\n",
       "\t<tr><td>5/1/2006    </td><td>-0.071027709</td><td>-0.136464719</td><td> 0.013472712</td><td>-0.020056377</td><td>-0.013809674</td><td>-0.106894234</td><td>-0.043370702</td><td>-0.011519264</td><td>-0.026214569</td><td>-0.011155695</td></tr>\n",
       "\t<tr><td>6/1/2006    </td><td>-0.018556073</td><td> 0.025480419</td><td> 0.000651931</td><td>-0.102072249</td><td>-0.016035165</td><td> 0.043225154</td><td>-0.037909464</td><td>-0.017037765</td><td> 0.012266856</td><td> 0.008168789</td></tr>\n",
       "\t<tr><td>7/3/2006    </td><td> 0.074326187</td><td>-0.027304550</td><td>-0.015472687</td><td>-0.100167851</td><td>-0.052397175</td><td>-0.074633618</td><td>-0.036774023</td><td> 0.003324430</td><td> 0.013947714</td><td> 0.014153415</td></tr>\n",
       "\t<tr><td>8/1/2006    </td><td>-0.000703518</td><td> 0.056083628</td><td> 0.032819106</td><td> 0.110188447</td><td> 0.017087268</td><td> 0.096910013</td><td>-0.051764914</td><td> 0.021227363</td><td> 0.030219369</td><td> 0.019569957</td></tr>\n",
       "\t<tr><td>9/1/2006    </td><td> 0.054828055</td><td> 0.062486928</td><td> 0.003014863</td><td>-0.002439863</td><td> 0.005549553</td><td>-0.024568191</td><td>-0.027353166</td><td> 0.005188894</td><td> 0.026971149</td><td> 0.054161858</td></tr>\n",
       "\t<tr><td>10/2/2006   </td><td> 0.022535833</td><td> 0.009063666</td><td> 0.018854483</td><td>-0.067558903</td><td> 0.027446009</td><td>-0.051152522</td><td> 0.016909429</td><td> 0.051850443</td><td> 0.021135818</td><td> 0.017513280</td></tr>\n",
       "\t<tr><td>11/1/2006   </td><td> 0.053266113</td><td> 0.021162265</td><td>-0.010746186</td><td> 0.006082655</td><td> 0.049064994</td><td> 0.053444319</td><td> 0.045957916</td><td>-0.000524827</td><td> 0.011163446</td><td> 0.013428085</td></tr>\n",
       "\t<tr><td>12/1/2006   </td><td>-0.033579193</td><td> 0.010259402</td><td> 0.011142802</td><td>-0.025285732</td><td>-0.035706442</td><td> 0.024442456</td><td>-0.035870158</td><td> 0.024005923</td><td> 0.007383627</td><td>-0.045884162</td></tr>\n",
       "</tbody>\n",
       "</table>\n"
      ],
      "text/latex": [
       "\\begin{tabular}{r|lllllllllll}\n",
       " Date & AAPL & ADBE & ADP & AMD & DELL & GTW & HP & IBM & MSFT & ORCL\\\\\n",
       "\\hline\n",
       "\t 1/3/1994     &  0.048913361 &  0.135255005 & -0.022895763 &  0.062310900 & -0.012589127 &  0.089235820 & -0.004332150 &  0.000000000 &  0.023481096 &  0.049108780\\\\\n",
       "\t 2/1/1994     &  0.048848568 & -0.014934233 & -0.009507324 &  0.020684599 &  0.059585690 & -0.002166062 & -0.014385591 & -0.026849988 & -0.013542573 &  0.010790480\\\\\n",
       "\t 3/1/1994     & -0.040760913 & -0.078928087 &  0.000872954 &  0.162272565 &  0.000000000 & -0.071433468 & -0.007948095 &  0.014168956 &  0.011633584 & -0.010790480\\\\\n",
       "\t 4/4/1994     & -0.044394486 &  0.041944521 &  0.002174739 & -0.073436234 & -0.059585690 & -0.117886057 &  0.002285766 &  0.022294267 &  0.038425824 & -0.031135409\\\\\n",
       "\t 5/2/1994     & -0.009571616 &  0.031889144 &  0.015763276 &  0.010088973 &  0.121733597 & -0.018288786 &  0.003406249 &  0.041423553 &  0.064940807 &  0.057624989\\\\\n",
       "\t 6/1/1994     & -0.042543456 & -0.022343827 & -0.000837598 & -0.033423755 & -0.040428657 & -0.126498144 &  0.006733383 & -0.030360262 & -0.016912719 &  0.039285024\\\\\n",
       "\t 7/1/1994     &  0.103924521 &  0.056810193 & -0.013626043 &  0.033423755 &  0.030668820 &  0.100023248 &  0.021719250 &  0.022574208 & -0.001570687 &  0.009290076\\\\\n",
       "\t 8/1/1994     &  0.032859345 &  0.009365203 &  0.021518747 &  0.031034234 &  0.064117500 &  0.022958322 & -0.017287635 &  0.045883173 &  0.053245512 &  0.047820651\\\\\n",
       "\t 9/1/1994     & -0.031286762 &  0.011429462 &  0.018140226 &  0.011234929 &  0.055857817 &  0.101359551 &  0.025680060 &  0.007011687 & -0.015588098 &  0.002053406\\\\\n",
       "\t 10/3/1994    &  0.107863536 &  0.044967146 &  0.015892959 & -0.052358136 &  0.081670046 &  0.099511699 &  0.045341699 &  0.029313568 &  0.050350205 &  0.029689996\\\\\n",
       "\t 11/1/1994    & -0.062681998 & -0.038251118 & -0.019063006 & -0.019185441 & -0.019023237 & -0.029910290 & -0.043268690 & -0.020773408 & -0.001286799 & -0.046395690\\\\\n",
       "\t 12/1/1994    &  0.019817404 & -0.044402052 &  0.021340780 & -0.006238975 & -0.019894829 & -0.004790061 & -0.038918066 &  0.016592442 & -0.011756057 &  0.028826326\\\\\n",
       "\t 1/3/1995     &  0.015053507 & -0.011216263 &  0.005268802 &  0.072201415 &  0.019894829 & -0.015526762 & -0.002267861 & -0.008484655 & -0.013446724 & -0.014174038\\\\\n",
       "\t 2/1/1995     & -0.008347849 &  0.091830487 &  0.017234715 &  0.014535978 & -0.013161446 & -0.055857817 &  0.013432859 &  0.020142529 &  0.026489580 &  0.041205530\\\\\n",
       "\t 3/1/1995     & -0.049271259 &  0.142463082 &  0.010653710 &  0.047355632 &  0.019595556 &  0.009360157 &  0.018345600 &  0.037916351 &  0.052008275 & -0.001876005\\\\\n",
       "\t 4/3/1995     &  0.035296905 &  0.070507459 &  0.008338710 &  0.026359099 &  0.101989539 &  0.003688298 &  0.038404519 &  0.061491519 &  0.060549135 & -0.009503541\\\\\n",
       "\t 5/1/1995     &  0.037291984 & -0.048967781 & -0.013632898 & -0.037788561 & -0.036871360 & -0.032396620 &  0.006718502 & -0.006349148 &  0.015581742 &  0.055824684\\\\\n",
       "\t 6/1/1995     &  0.048105487 &  0.047086358 &  0.005644849 &  0.043778925 &  0.075500762 &  0.112647746 & -0.005752329 &  0.013807626 &  0.027789509 &  0.046432910\\\\\n",
       "\t 7/3/1995     & -0.013764005 &  0.027989440 &  0.007643780 & -0.048542714 &  0.035472318 &  0.103424931 & -0.010747994 &  0.054580977 &  0.000896377 &  0.034995661\\\\\n",
       "\t 8/1/1995     & -0.018247018 & -0.082850195 &  0.006834043 &  0.014652288 &  0.070581074 & -0.035062968 &  0.001974069 & -0.021497856 &  0.009739938 & -0.018605245\\\\\n",
       "\t 9/1/1995     & -0.062646809 &  0.006371182 &  0.021495930 & -0.064211067 &  0.044670395 &  0.060754540 & -0.007950693 & -0.038918066 & -0.009739938 & -0.019438109\\\\\n",
       "\t 10/2/1995    & -0.010899397 &  0.042795900 &  0.020789637 & -0.093123508 &  0.040501215 &  0.036937281 & -0.035515001 &  0.012380727 &  0.043423051 &  0.055884182\\\\\n",
       "\t 11/1/1995    &  0.022444321 &  0.074164147 &  0.046064956 & -0.059314001 & -0.024473769 & -0.081688003 &  0.026392961 & -0.001775451 & -0.059847909 &  0.017136755\\\\\n",
       "\t 12/1/1995    & -0.077634579 & -0.037544616 & -0.028582318 & -0.094269917 & -0.106455331 & -0.052017573 &  0.038215134 & -0.024184514 &  0.002780977 & -0.029409629\\\\\n",
       "\t 1/2/1996     & -0.061980274 & -0.259743742 &  0.031339752 &  0.078302996 & -0.098925304 &  0.023443806 &  0.028145958 &  0.074699612 &  0.023383819 &  0.052073614\\\\\n",
       "\t 2/1/1996     & -0.001889609 & -0.006434110 & -0.012548707 & -0.008433168 &  0.094885326 &  0.056563207 &  0.024774740 &  0.054036657 &  0.027973996 &  0.036457467\\\\\n",
       "\t 3/1/1996     & -0.049420067 & -0.016515088 &  0.008128369 & -0.047304001 & -0.008194479 & -0.024234710 &  0.004953983 & -0.042232563 &  0.019269459 & -0.042635303\\\\\n",
       "\t 4/1/1996     & -0.003551079 &  0.126618795 & -0.005589453 &  0.029929905 &  0.134146738 &  0.097283707 &  0.038472166 & -0.013920887 &  0.040463560 &  0.031205841\\\\\n",
       "\t 5/1/1996     &  0.030295889 & -0.064022237 & -0.005662329 & -0.023973773 &  0.082710066 &  0.035833494 & -0.003773216 & -0.002660583 &  0.020950741 & -0.008183449\\\\\n",
       "\t 6/3/1996     & -0.094753878 & -0.014823776 &  0.003971368 & -0.111191534 & -0.036648979 & -0.046931053 &  0.003773216 & -0.032691357 &  0.004746435 &  0.075626292\\\\\n",
       "\t ⋮ & ⋮ & ⋮ & ⋮ & ⋮ & ⋮ & ⋮ & ⋮ & ⋮ & ⋮ & ⋮\\\\\n",
       "\t 7/1/2004     & -0.002677533 & -0.042178603 &  0.001088609 & -0.104834686 & -0.004264393 &  0.000000000 & -0.014149900 & -0.005350930 & -0.001231543 & -0.055037728\\\\\n",
       "\t 8/2/2004     &  0.028079080 &  0.036344007 & -0.023581778 & -0.038516208 & -0.007783042 & -0.010747994 &  0.010740977 & -0.011116197 & -0.017251863 & -0.022907558\\\\\n",
       "\t 9/1/2004     &  0.050564673 &  0.032833853 &  0.018111237 &  0.055897122 &  0.009371852 &  0.052140679 &  0.045141033 &  0.005383885 &  0.005646181 &  0.053613941\\\\\n",
       "\t 10/1/2004    &  0.130947519 &  0.054109565 &  0.021247551 &  0.111882639 & -0.006638086 &  0.072550667 & -0.002164520 &  0.019840802 &  0.005037441 &  0.050124606\\\\\n",
       "\t 11/1/2004    &  0.107132262 &  0.033854390 &  0.020922942 &  0.102145632 &  0.062857525 &  0.065991246 &  0.059307406 &  0.022033270 &  0.028553834 &  0.002735722\\\\\n",
       "\t 12/1/2004    & -0.017577682 &  0.015363633 & -0.009880963 &  0.014845691 &  0.017025095 & -0.054272640 &  0.018269270 &  0.019559828 & -0.001341969 &  0.032184683\\\\\n",
       "\t 1/3/2005     &  0.077040472 & -0.042446462 & -0.008602443 & -0.144160228 & -0.003934041 & -0.104013331 &  0.046664025 & -0.023339446 & -0.007285001 &  0.001579829\\\\\n",
       "\t 2/1/2005     &  0.066962925 &  0.035607037 & -0.005244462 &  0.043138344 & -0.017724434 & -0.002763283 &  0.024888264 & -0.003086272 & -0.017607767 & -0.026664172\\\\\n",
       "\t 3/1/2005     & -0.032035769 &  0.036544062 &  0.021166965 & -0.034430394 & -0.018478696 & -0.066792812 & -0.003976274 & -0.005699421 & -0.017424932 & -0.016055183\\\\\n",
       "\t 4/1/2005     & -0.062797778 & -0.052739728 & -0.014765617 & -0.054160137 & -0.042603886 & -0.072550667 & -0.013752493 & -0.077878895 &  0.019908649 & -0.033256751\\\\\n",
       "\t 5/2/2005     &  0.042420653 &  0.046749364 &  0.003566884 &  0.061638948 &  0.059345836 &  0.006321720 &  0.033703625 & -0.003593369 &  0.009795216 &  0.044252136\\\\\n",
       "\t 6/1/2005     & -0.033480558 & -0.063572470 & -0.017060842 &  0.024205245 & -0.005142229 & -0.020562159 &  0.053758790 & -0.007818885 & -0.016390416 &  0.013363962\\\\\n",
       "\t 7/1/2005     &  0.063953218 &  0.015360342 &  0.024558657 &  0.063714615 &  0.010976123 &  0.081369132 &  0.085410130 &  0.051078906 &  0.013265982 &  0.012005916\\\\\n",
       "\t 8/1/2005     &  0.041161197 & -0.039871512 & -0.016529058 &  0.014672788 & -0.055683206 & -0.117009488 &  0.017636452 & -0.013983504 &  0.030276680 & -0.018970697\\\\\n",
       "\t 9/1/2005     &  0.058165574 &  0.042937648 &  0.004539097 &  0.083964044 & -0.017423892 & -0.051509819 &  0.007033263 & -0.002161915 & -0.026979324 & -0.020187466\\\\\n",
       "\t 10/3/2005    &  0.031101271 &  0.033585384 &  0.035020310 & -0.035538325 & -0.030507793 &  0.023481096 & -0.037471558 &  0.008910610 & -0.000518974 &  0.009697568\\\\\n",
       "\t 11/1/2005    &  0.071010707 &  0.004821080 &  0.003192574 &  0.052107427 & -0.024230996 &  0.028028724 &  0.020728813 &  0.036730164 &  0.033468630 & -0.002748708\\\\\n",
       "\t 12/1/2005    &  0.025310698 &  0.054381164 & -0.008566244 &  0.067751784 & -0.002890490 & -0.083199862 &  0.028217506 & -0.034016493 & -0.024559712 & -0.013654881\\\\\n",
       "\t 1/3/2006     &  0.021335987 &  0.031386603 & -0.019010325 &  0.135454855 & -0.009381008 &  0.034895183 &  0.102312035 & -0.004787461 &  0.031869635 &  0.012619614\\\\\n",
       "\t 2/1/2006     & -0.042377304 & -0.013094183 &  0.021705471 & -0.033802110 & -0.004617821 & -0.061656901 & -0.075550317 & -0.004619613 & -0.018675286 & -0.005213682\\\\\n",
       "\t 3/1/2006     & -0.038221117 & -0.042577202 & -0.003019691 & -0.066759650 &  0.011234929 & -0.032467888 &  0.025960810 &  0.011942556 &  0.005395032 &  0.042281852\\\\\n",
       "\t 4/3/2006     &  0.050104916 &  0.049838887 & -0.015533811 & -0.010740237 & -0.055331636 &  0.001978566 &  0.017808999 & -0.000699824 & -0.051701221 &  0.027651844\\\\\n",
       "\t 5/1/2006     & -0.071027709 & -0.136464719 &  0.013472712 & -0.020056377 & -0.013809674 & -0.106894234 & -0.043370702 & -0.011519264 & -0.026214569 & -0.011155695\\\\\n",
       "\t 6/1/2006     & -0.018556073 &  0.025480419 &  0.000651931 & -0.102072249 & -0.016035165 &  0.043225154 & -0.037909464 & -0.017037765 &  0.012266856 &  0.008168789\\\\\n",
       "\t 7/3/2006     &  0.074326187 & -0.027304550 & -0.015472687 & -0.100167851 & -0.052397175 & -0.074633618 & -0.036774023 &  0.003324430 &  0.013947714 &  0.014153415\\\\\n",
       "\t 8/1/2006     & -0.000703518 &  0.056083628 &  0.032819106 &  0.110188447 &  0.017087268 &  0.096910013 & -0.051764914 &  0.021227363 &  0.030219369 &  0.019569957\\\\\n",
       "\t 9/1/2006     &  0.054828055 &  0.062486928 &  0.003014863 & -0.002439863 &  0.005549553 & -0.024568191 & -0.027353166 &  0.005188894 &  0.026971149 &  0.054161858\\\\\n",
       "\t 10/2/2006    &  0.022535833 &  0.009063666 &  0.018854483 & -0.067558903 &  0.027446009 & -0.051152522 &  0.016909429 &  0.051850443 &  0.021135818 &  0.017513280\\\\\n",
       "\t 11/1/2006    &  0.053266113 &  0.021162265 & -0.010746186 &  0.006082655 &  0.049064994 &  0.053444319 &  0.045957916 & -0.000524827 &  0.011163446 &  0.013428085\\\\\n",
       "\t 12/1/2006    & -0.033579193 &  0.010259402 &  0.011142802 & -0.025285732 & -0.035706442 &  0.024442456 & -0.035870158 &  0.024005923 &  0.007383627 & -0.045884162\\\\\n",
       "\\end{tabular}\n"
      ],
      "text/markdown": [
       "\n",
       "Date | AAPL | ADBE | ADP | AMD | DELL | GTW | HP | IBM | MSFT | ORCL | \n",
       "|---|---|---|---|---|---|---|---|---|---|---|---|---|---|---|---|---|---|---|---|---|---|---|---|---|---|---|---|---|---|---|---|---|---|---|---|---|---|---|---|---|---|---|---|---|---|---|---|---|---|---|---|---|---|---|---|---|---|---|---|---|\n",
       "| 1/3/1994     |  0.048913361 |  0.135255005 | -0.022895763 |  0.062310900 | -0.012589127 |  0.089235820 | -0.004332150 |  0.000000000 |  0.023481096 |  0.049108780 | \n",
       "| 2/1/1994     |  0.048848568 | -0.014934233 | -0.009507324 |  0.020684599 |  0.059585690 | -0.002166062 | -0.014385591 | -0.026849988 | -0.013542573 |  0.010790480 | \n",
       "| 3/1/1994     | -0.040760913 | -0.078928087 |  0.000872954 |  0.162272565 |  0.000000000 | -0.071433468 | -0.007948095 |  0.014168956 |  0.011633584 | -0.010790480 | \n",
       "| 4/4/1994     | -0.044394486 |  0.041944521 |  0.002174739 | -0.073436234 | -0.059585690 | -0.117886057 |  0.002285766 |  0.022294267 |  0.038425824 | -0.031135409 | \n",
       "| 5/2/1994     | -0.009571616 |  0.031889144 |  0.015763276 |  0.010088973 |  0.121733597 | -0.018288786 |  0.003406249 |  0.041423553 |  0.064940807 |  0.057624989 | \n",
       "| 6/1/1994     | -0.042543456 | -0.022343827 | -0.000837598 | -0.033423755 | -0.040428657 | -0.126498144 |  0.006733383 | -0.030360262 | -0.016912719 |  0.039285024 | \n",
       "| 7/1/1994     |  0.103924521 |  0.056810193 | -0.013626043 |  0.033423755 |  0.030668820 |  0.100023248 |  0.021719250 |  0.022574208 | -0.001570687 |  0.009290076 | \n",
       "| 8/1/1994     |  0.032859345 |  0.009365203 |  0.021518747 |  0.031034234 |  0.064117500 |  0.022958322 | -0.017287635 |  0.045883173 |  0.053245512 |  0.047820651 | \n",
       "| 9/1/1994     | -0.031286762 |  0.011429462 |  0.018140226 |  0.011234929 |  0.055857817 |  0.101359551 |  0.025680060 |  0.007011687 | -0.015588098 |  0.002053406 | \n",
       "| 10/3/1994    |  0.107863536 |  0.044967146 |  0.015892959 | -0.052358136 |  0.081670046 |  0.099511699 |  0.045341699 |  0.029313568 |  0.050350205 |  0.029689996 | \n",
       "| 11/1/1994    | -0.062681998 | -0.038251118 | -0.019063006 | -0.019185441 | -0.019023237 | -0.029910290 | -0.043268690 | -0.020773408 | -0.001286799 | -0.046395690 | \n",
       "| 12/1/1994    |  0.019817404 | -0.044402052 |  0.021340780 | -0.006238975 | -0.019894829 | -0.004790061 | -0.038918066 |  0.016592442 | -0.011756057 |  0.028826326 | \n",
       "| 1/3/1995     |  0.015053507 | -0.011216263 |  0.005268802 |  0.072201415 |  0.019894829 | -0.015526762 | -0.002267861 | -0.008484655 | -0.013446724 | -0.014174038 | \n",
       "| 2/1/1995     | -0.008347849 |  0.091830487 |  0.017234715 |  0.014535978 | -0.013161446 | -0.055857817 |  0.013432859 |  0.020142529 |  0.026489580 |  0.041205530 | \n",
       "| 3/1/1995     | -0.049271259 |  0.142463082 |  0.010653710 |  0.047355632 |  0.019595556 |  0.009360157 |  0.018345600 |  0.037916351 |  0.052008275 | -0.001876005 | \n",
       "| 4/3/1995     |  0.035296905 |  0.070507459 |  0.008338710 |  0.026359099 |  0.101989539 |  0.003688298 |  0.038404519 |  0.061491519 |  0.060549135 | -0.009503541 | \n",
       "| 5/1/1995     |  0.037291984 | -0.048967781 | -0.013632898 | -0.037788561 | -0.036871360 | -0.032396620 |  0.006718502 | -0.006349148 |  0.015581742 |  0.055824684 | \n",
       "| 6/1/1995     |  0.048105487 |  0.047086358 |  0.005644849 |  0.043778925 |  0.075500762 |  0.112647746 | -0.005752329 |  0.013807626 |  0.027789509 |  0.046432910 | \n",
       "| 7/3/1995     | -0.013764005 |  0.027989440 |  0.007643780 | -0.048542714 |  0.035472318 |  0.103424931 | -0.010747994 |  0.054580977 |  0.000896377 |  0.034995661 | \n",
       "| 8/1/1995     | -0.018247018 | -0.082850195 |  0.006834043 |  0.014652288 |  0.070581074 | -0.035062968 |  0.001974069 | -0.021497856 |  0.009739938 | -0.018605245 | \n",
       "| 9/1/1995     | -0.062646809 |  0.006371182 |  0.021495930 | -0.064211067 |  0.044670395 |  0.060754540 | -0.007950693 | -0.038918066 | -0.009739938 | -0.019438109 | \n",
       "| 10/2/1995    | -0.010899397 |  0.042795900 |  0.020789637 | -0.093123508 |  0.040501215 |  0.036937281 | -0.035515001 |  0.012380727 |  0.043423051 |  0.055884182 | \n",
       "| 11/1/1995    |  0.022444321 |  0.074164147 |  0.046064956 | -0.059314001 | -0.024473769 | -0.081688003 |  0.026392961 | -0.001775451 | -0.059847909 |  0.017136755 | \n",
       "| 12/1/1995    | -0.077634579 | -0.037544616 | -0.028582318 | -0.094269917 | -0.106455331 | -0.052017573 |  0.038215134 | -0.024184514 |  0.002780977 | -0.029409629 | \n",
       "| 1/2/1996     | -0.061980274 | -0.259743742 |  0.031339752 |  0.078302996 | -0.098925304 |  0.023443806 |  0.028145958 |  0.074699612 |  0.023383819 |  0.052073614 | \n",
       "| 2/1/1996     | -0.001889609 | -0.006434110 | -0.012548707 | -0.008433168 |  0.094885326 |  0.056563207 |  0.024774740 |  0.054036657 |  0.027973996 |  0.036457467 | \n",
       "| 3/1/1996     | -0.049420067 | -0.016515088 |  0.008128369 | -0.047304001 | -0.008194479 | -0.024234710 |  0.004953983 | -0.042232563 |  0.019269459 | -0.042635303 | \n",
       "| 4/1/1996     | -0.003551079 |  0.126618795 | -0.005589453 |  0.029929905 |  0.134146738 |  0.097283707 |  0.038472166 | -0.013920887 |  0.040463560 |  0.031205841 | \n",
       "| 5/1/1996     |  0.030295889 | -0.064022237 | -0.005662329 | -0.023973773 |  0.082710066 |  0.035833494 | -0.003773216 | -0.002660583 |  0.020950741 | -0.008183449 | \n",
       "| 6/3/1996     | -0.094753878 | -0.014823776 |  0.003971368 | -0.111191534 | -0.036648979 | -0.046931053 |  0.003773216 | -0.032691357 |  0.004746435 |  0.075626292 | \n",
       "| ⋮ | ⋮ | ⋮ | ⋮ | ⋮ | ⋮ | ⋮ | ⋮ | ⋮ | ⋮ | ⋮ | \n",
       "| 7/1/2004     | -0.002677533 | -0.042178603 |  0.001088609 | -0.104834686 | -0.004264393 |  0.000000000 | -0.014149900 | -0.005350930 | -0.001231543 | -0.055037728 | \n",
       "| 8/2/2004     |  0.028079080 |  0.036344007 | -0.023581778 | -0.038516208 | -0.007783042 | -0.010747994 |  0.010740977 | -0.011116197 | -0.017251863 | -0.022907558 | \n",
       "| 9/1/2004     |  0.050564673 |  0.032833853 |  0.018111237 |  0.055897122 |  0.009371852 |  0.052140679 |  0.045141033 |  0.005383885 |  0.005646181 |  0.053613941 | \n",
       "| 10/1/2004    |  0.130947519 |  0.054109565 |  0.021247551 |  0.111882639 | -0.006638086 |  0.072550667 | -0.002164520 |  0.019840802 |  0.005037441 |  0.050124606 | \n",
       "| 11/1/2004    |  0.107132262 |  0.033854390 |  0.020922942 |  0.102145632 |  0.062857525 |  0.065991246 |  0.059307406 |  0.022033270 |  0.028553834 |  0.002735722 | \n",
       "| 12/1/2004    | -0.017577682 |  0.015363633 | -0.009880963 |  0.014845691 |  0.017025095 | -0.054272640 |  0.018269270 |  0.019559828 | -0.001341969 |  0.032184683 | \n",
       "| 1/3/2005     |  0.077040472 | -0.042446462 | -0.008602443 | -0.144160228 | -0.003934041 | -0.104013331 |  0.046664025 | -0.023339446 | -0.007285001 |  0.001579829 | \n",
       "| 2/1/2005     |  0.066962925 |  0.035607037 | -0.005244462 |  0.043138344 | -0.017724434 | -0.002763283 |  0.024888264 | -0.003086272 | -0.017607767 | -0.026664172 | \n",
       "| 3/1/2005     | -0.032035769 |  0.036544062 |  0.021166965 | -0.034430394 | -0.018478696 | -0.066792812 | -0.003976274 | -0.005699421 | -0.017424932 | -0.016055183 | \n",
       "| 4/1/2005     | -0.062797778 | -0.052739728 | -0.014765617 | -0.054160137 | -0.042603886 | -0.072550667 | -0.013752493 | -0.077878895 |  0.019908649 | -0.033256751 | \n",
       "| 5/2/2005     |  0.042420653 |  0.046749364 |  0.003566884 |  0.061638948 |  0.059345836 |  0.006321720 |  0.033703625 | -0.003593369 |  0.009795216 |  0.044252136 | \n",
       "| 6/1/2005     | -0.033480558 | -0.063572470 | -0.017060842 |  0.024205245 | -0.005142229 | -0.020562159 |  0.053758790 | -0.007818885 | -0.016390416 |  0.013363962 | \n",
       "| 7/1/2005     |  0.063953218 |  0.015360342 |  0.024558657 |  0.063714615 |  0.010976123 |  0.081369132 |  0.085410130 |  0.051078906 |  0.013265982 |  0.012005916 | \n",
       "| 8/1/2005     |  0.041161197 | -0.039871512 | -0.016529058 |  0.014672788 | -0.055683206 | -0.117009488 |  0.017636452 | -0.013983504 |  0.030276680 | -0.018970697 | \n",
       "| 9/1/2005     |  0.058165574 |  0.042937648 |  0.004539097 |  0.083964044 | -0.017423892 | -0.051509819 |  0.007033263 | -0.002161915 | -0.026979324 | -0.020187466 | \n",
       "| 10/3/2005    |  0.031101271 |  0.033585384 |  0.035020310 | -0.035538325 | -0.030507793 |  0.023481096 | -0.037471558 |  0.008910610 | -0.000518974 |  0.009697568 | \n",
       "| 11/1/2005    |  0.071010707 |  0.004821080 |  0.003192574 |  0.052107427 | -0.024230996 |  0.028028724 |  0.020728813 |  0.036730164 |  0.033468630 | -0.002748708 | \n",
       "| 12/1/2005    |  0.025310698 |  0.054381164 | -0.008566244 |  0.067751784 | -0.002890490 | -0.083199862 |  0.028217506 | -0.034016493 | -0.024559712 | -0.013654881 | \n",
       "| 1/3/2006     |  0.021335987 |  0.031386603 | -0.019010325 |  0.135454855 | -0.009381008 |  0.034895183 |  0.102312035 | -0.004787461 |  0.031869635 |  0.012619614 | \n",
       "| 2/1/2006     | -0.042377304 | -0.013094183 |  0.021705471 | -0.033802110 | -0.004617821 | -0.061656901 | -0.075550317 | -0.004619613 | -0.018675286 | -0.005213682 | \n",
       "| 3/1/2006     | -0.038221117 | -0.042577202 | -0.003019691 | -0.066759650 |  0.011234929 | -0.032467888 |  0.025960810 |  0.011942556 |  0.005395032 |  0.042281852 | \n",
       "| 4/3/2006     |  0.050104916 |  0.049838887 | -0.015533811 | -0.010740237 | -0.055331636 |  0.001978566 |  0.017808999 | -0.000699824 | -0.051701221 |  0.027651844 | \n",
       "| 5/1/2006     | -0.071027709 | -0.136464719 |  0.013472712 | -0.020056377 | -0.013809674 | -0.106894234 | -0.043370702 | -0.011519264 | -0.026214569 | -0.011155695 | \n",
       "| 6/1/2006     | -0.018556073 |  0.025480419 |  0.000651931 | -0.102072249 | -0.016035165 |  0.043225154 | -0.037909464 | -0.017037765 |  0.012266856 |  0.008168789 | \n",
       "| 7/3/2006     |  0.074326187 | -0.027304550 | -0.015472687 | -0.100167851 | -0.052397175 | -0.074633618 | -0.036774023 |  0.003324430 |  0.013947714 |  0.014153415 | \n",
       "| 8/1/2006     | -0.000703518 |  0.056083628 |  0.032819106 |  0.110188447 |  0.017087268 |  0.096910013 | -0.051764914 |  0.021227363 |  0.030219369 |  0.019569957 | \n",
       "| 9/1/2006     |  0.054828055 |  0.062486928 |  0.003014863 | -0.002439863 |  0.005549553 | -0.024568191 | -0.027353166 |  0.005188894 |  0.026971149 |  0.054161858 | \n",
       "| 10/2/2006    |  0.022535833 |  0.009063666 |  0.018854483 | -0.067558903 |  0.027446009 | -0.051152522 |  0.016909429 |  0.051850443 |  0.021135818 |  0.017513280 | \n",
       "| 11/1/2006    |  0.053266113 |  0.021162265 | -0.010746186 |  0.006082655 |  0.049064994 |  0.053444319 |  0.045957916 | -0.000524827 |  0.011163446 |  0.013428085 | \n",
       "| 12/1/2006    | -0.033579193 |  0.010259402 |  0.011142802 | -0.025285732 | -0.035706442 |  0.024442456 | -0.035870158 |  0.024005923 |  0.007383627 | -0.045884162 | \n",
       "\n",
       "\n"
      ],
      "text/plain": [
       "    Date      AAPL         ADBE         ADP          AMD          DELL        \n",
       "1   1/3/1994   0.048913361  0.135255005 -0.022895763  0.062310900 -0.012589127\n",
       "2   2/1/1994   0.048848568 -0.014934233 -0.009507324  0.020684599  0.059585690\n",
       "3   3/1/1994  -0.040760913 -0.078928087  0.000872954  0.162272565  0.000000000\n",
       "4   4/4/1994  -0.044394486  0.041944521  0.002174739 -0.073436234 -0.059585690\n",
       "5   5/2/1994  -0.009571616  0.031889144  0.015763276  0.010088973  0.121733597\n",
       "6   6/1/1994  -0.042543456 -0.022343827 -0.000837598 -0.033423755 -0.040428657\n",
       "7   7/1/1994   0.103924521  0.056810193 -0.013626043  0.033423755  0.030668820\n",
       "8   8/1/1994   0.032859345  0.009365203  0.021518747  0.031034234  0.064117500\n",
       "9   9/1/1994  -0.031286762  0.011429462  0.018140226  0.011234929  0.055857817\n",
       "10  10/3/1994  0.107863536  0.044967146  0.015892959 -0.052358136  0.081670046\n",
       "11  11/1/1994 -0.062681998 -0.038251118 -0.019063006 -0.019185441 -0.019023237\n",
       "12  12/1/1994  0.019817404 -0.044402052  0.021340780 -0.006238975 -0.019894829\n",
       "13  1/3/1995   0.015053507 -0.011216263  0.005268802  0.072201415  0.019894829\n",
       "14  2/1/1995  -0.008347849  0.091830487  0.017234715  0.014535978 -0.013161446\n",
       "15  3/1/1995  -0.049271259  0.142463082  0.010653710  0.047355632  0.019595556\n",
       "16  4/3/1995   0.035296905  0.070507459  0.008338710  0.026359099  0.101989539\n",
       "17  5/1/1995   0.037291984 -0.048967781 -0.013632898 -0.037788561 -0.036871360\n",
       "18  6/1/1995   0.048105487  0.047086358  0.005644849  0.043778925  0.075500762\n",
       "19  7/3/1995  -0.013764005  0.027989440  0.007643780 -0.048542714  0.035472318\n",
       "20  8/1/1995  -0.018247018 -0.082850195  0.006834043  0.014652288  0.070581074\n",
       "21  9/1/1995  -0.062646809  0.006371182  0.021495930 -0.064211067  0.044670395\n",
       "22  10/2/1995 -0.010899397  0.042795900  0.020789637 -0.093123508  0.040501215\n",
       "23  11/1/1995  0.022444321  0.074164147  0.046064956 -0.059314001 -0.024473769\n",
       "24  12/1/1995 -0.077634579 -0.037544616 -0.028582318 -0.094269917 -0.106455331\n",
       "25  1/2/1996  -0.061980274 -0.259743742  0.031339752  0.078302996 -0.098925304\n",
       "26  2/1/1996  -0.001889609 -0.006434110 -0.012548707 -0.008433168  0.094885326\n",
       "27  3/1/1996  -0.049420067 -0.016515088  0.008128369 -0.047304001 -0.008194479\n",
       "28  4/1/1996  -0.003551079  0.126618795 -0.005589453  0.029929905  0.134146738\n",
       "29  5/1/1996   0.030295889 -0.064022237 -0.005662329 -0.023973773  0.082710066\n",
       "30  6/3/1996  -0.094753878 -0.014823776  0.003971368 -0.111191534 -0.036648979\n",
       "⋮   ⋮         ⋮            ⋮            ⋮            ⋮            ⋮           \n",
       "127 7/1/2004  -0.002677533 -0.042178603  0.001088609 -0.104834686 -0.004264393\n",
       "128 8/2/2004   0.028079080  0.036344007 -0.023581778 -0.038516208 -0.007783042\n",
       "129 9/1/2004   0.050564673  0.032833853  0.018111237  0.055897122  0.009371852\n",
       "130 10/1/2004  0.130947519  0.054109565  0.021247551  0.111882639 -0.006638086\n",
       "131 11/1/2004  0.107132262  0.033854390  0.020922942  0.102145632  0.062857525\n",
       "132 12/1/2004 -0.017577682  0.015363633 -0.009880963  0.014845691  0.017025095\n",
       "133 1/3/2005   0.077040472 -0.042446462 -0.008602443 -0.144160228 -0.003934041\n",
       "134 2/1/2005   0.066962925  0.035607037 -0.005244462  0.043138344 -0.017724434\n",
       "135 3/1/2005  -0.032035769  0.036544062  0.021166965 -0.034430394 -0.018478696\n",
       "136 4/1/2005  -0.062797778 -0.052739728 -0.014765617 -0.054160137 -0.042603886\n",
       "137 5/2/2005   0.042420653  0.046749364  0.003566884  0.061638948  0.059345836\n",
       "138 6/1/2005  -0.033480558 -0.063572470 -0.017060842  0.024205245 -0.005142229\n",
       "139 7/1/2005   0.063953218  0.015360342  0.024558657  0.063714615  0.010976123\n",
       "140 8/1/2005   0.041161197 -0.039871512 -0.016529058  0.014672788 -0.055683206\n",
       "141 9/1/2005   0.058165574  0.042937648  0.004539097  0.083964044 -0.017423892\n",
       "142 10/3/2005  0.031101271  0.033585384  0.035020310 -0.035538325 -0.030507793\n",
       "143 11/1/2005  0.071010707  0.004821080  0.003192574  0.052107427 -0.024230996\n",
       "144 12/1/2005  0.025310698  0.054381164 -0.008566244  0.067751784 -0.002890490\n",
       "145 1/3/2006   0.021335987  0.031386603 -0.019010325  0.135454855 -0.009381008\n",
       "146 2/1/2006  -0.042377304 -0.013094183  0.021705471 -0.033802110 -0.004617821\n",
       "147 3/1/2006  -0.038221117 -0.042577202 -0.003019691 -0.066759650  0.011234929\n",
       "148 4/3/2006   0.050104916  0.049838887 -0.015533811 -0.010740237 -0.055331636\n",
       "149 5/1/2006  -0.071027709 -0.136464719  0.013472712 -0.020056377 -0.013809674\n",
       "150 6/1/2006  -0.018556073  0.025480419  0.000651931 -0.102072249 -0.016035165\n",
       "151 7/3/2006   0.074326187 -0.027304550 -0.015472687 -0.100167851 -0.052397175\n",
       "152 8/1/2006  -0.000703518  0.056083628  0.032819106  0.110188447  0.017087268\n",
       "153 9/1/2006   0.054828055  0.062486928  0.003014863 -0.002439863  0.005549553\n",
       "154 10/2/2006  0.022535833  0.009063666  0.018854483 -0.067558903  0.027446009\n",
       "155 11/1/2006  0.053266113  0.021162265 -0.010746186  0.006082655  0.049064994\n",
       "156 12/1/2006 -0.033579193  0.010259402  0.011142802 -0.025285732 -0.035706442\n",
       "    GTW          HP           IBM          MSFT         ORCL        \n",
       "1    0.089235820 -0.004332150  0.000000000  0.023481096  0.049108780\n",
       "2   -0.002166062 -0.014385591 -0.026849988 -0.013542573  0.010790480\n",
       "3   -0.071433468 -0.007948095  0.014168956  0.011633584 -0.010790480\n",
       "4   -0.117886057  0.002285766  0.022294267  0.038425824 -0.031135409\n",
       "5   -0.018288786  0.003406249  0.041423553  0.064940807  0.057624989\n",
       "6   -0.126498144  0.006733383 -0.030360262 -0.016912719  0.039285024\n",
       "7    0.100023248  0.021719250  0.022574208 -0.001570687  0.009290076\n",
       "8    0.022958322 -0.017287635  0.045883173  0.053245512  0.047820651\n",
       "9    0.101359551  0.025680060  0.007011687 -0.015588098  0.002053406\n",
       "10   0.099511699  0.045341699  0.029313568  0.050350205  0.029689996\n",
       "11  -0.029910290 -0.043268690 -0.020773408 -0.001286799 -0.046395690\n",
       "12  -0.004790061 -0.038918066  0.016592442 -0.011756057  0.028826326\n",
       "13  -0.015526762 -0.002267861 -0.008484655 -0.013446724 -0.014174038\n",
       "14  -0.055857817  0.013432859  0.020142529  0.026489580  0.041205530\n",
       "15   0.009360157  0.018345600  0.037916351  0.052008275 -0.001876005\n",
       "16   0.003688298  0.038404519  0.061491519  0.060549135 -0.009503541\n",
       "17  -0.032396620  0.006718502 -0.006349148  0.015581742  0.055824684\n",
       "18   0.112647746 -0.005752329  0.013807626  0.027789509  0.046432910\n",
       "19   0.103424931 -0.010747994  0.054580977  0.000896377  0.034995661\n",
       "20  -0.035062968  0.001974069 -0.021497856  0.009739938 -0.018605245\n",
       "21   0.060754540 -0.007950693 -0.038918066 -0.009739938 -0.019438109\n",
       "22   0.036937281 -0.035515001  0.012380727  0.043423051  0.055884182\n",
       "23  -0.081688003  0.026392961 -0.001775451 -0.059847909  0.017136755\n",
       "24  -0.052017573  0.038215134 -0.024184514  0.002780977 -0.029409629\n",
       "25   0.023443806  0.028145958  0.074699612  0.023383819  0.052073614\n",
       "26   0.056563207  0.024774740  0.054036657  0.027973996  0.036457467\n",
       "27  -0.024234710  0.004953983 -0.042232563  0.019269459 -0.042635303\n",
       "28   0.097283707  0.038472166 -0.013920887  0.040463560  0.031205841\n",
       "29   0.035833494 -0.003773216 -0.002660583  0.020950741 -0.008183449\n",
       "30  -0.046931053  0.003773216 -0.032691357  0.004746435  0.075626292\n",
       "⋮   ⋮            ⋮            ⋮            ⋮            ⋮           \n",
       "127  0.000000000 -0.014149900 -0.005350930 -0.001231543 -0.055037728\n",
       "128 -0.010747994  0.010740977 -0.011116197 -0.017251863 -0.022907558\n",
       "129  0.052140679  0.045141033  0.005383885  0.005646181  0.053613941\n",
       "130  0.072550667 -0.002164520  0.019840802  0.005037441  0.050124606\n",
       "131  0.065991246  0.059307406  0.022033270  0.028553834  0.002735722\n",
       "132 -0.054272640  0.018269270  0.019559828 -0.001341969  0.032184683\n",
       "133 -0.104013331  0.046664025 -0.023339446 -0.007285001  0.001579829\n",
       "134 -0.002763283  0.024888264 -0.003086272 -0.017607767 -0.026664172\n",
       "135 -0.066792812 -0.003976274 -0.005699421 -0.017424932 -0.016055183\n",
       "136 -0.072550667 -0.013752493 -0.077878895  0.019908649 -0.033256751\n",
       "137  0.006321720  0.033703625 -0.003593369  0.009795216  0.044252136\n",
       "138 -0.020562159  0.053758790 -0.007818885 -0.016390416  0.013363962\n",
       "139  0.081369132  0.085410130  0.051078906  0.013265982  0.012005916\n",
       "140 -0.117009488  0.017636452 -0.013983504  0.030276680 -0.018970697\n",
       "141 -0.051509819  0.007033263 -0.002161915 -0.026979324 -0.020187466\n",
       "142  0.023481096 -0.037471558  0.008910610 -0.000518974  0.009697568\n",
       "143  0.028028724  0.020728813  0.036730164  0.033468630 -0.002748708\n",
       "144 -0.083199862  0.028217506 -0.034016493 -0.024559712 -0.013654881\n",
       "145  0.034895183  0.102312035 -0.004787461  0.031869635  0.012619614\n",
       "146 -0.061656901 -0.075550317 -0.004619613 -0.018675286 -0.005213682\n",
       "147 -0.032467888  0.025960810  0.011942556  0.005395032  0.042281852\n",
       "148  0.001978566  0.017808999 -0.000699824 -0.051701221  0.027651844\n",
       "149 -0.106894234 -0.043370702 -0.011519264 -0.026214569 -0.011155695\n",
       "150  0.043225154 -0.037909464 -0.017037765  0.012266856  0.008168789\n",
       "151 -0.074633618 -0.036774023  0.003324430  0.013947714  0.014153415\n",
       "152  0.096910013 -0.051764914  0.021227363  0.030219369  0.019569957\n",
       "153 -0.024568191 -0.027353166  0.005188894  0.026971149  0.054161858\n",
       "154 -0.051152522  0.016909429  0.051850443  0.021135818  0.017513280\n",
       "155  0.053444319  0.045957916 -0.000524827  0.011163446  0.013428085\n",
       "156  0.024442456 -0.035870158  0.024005923  0.007383627 -0.045884162"
      ]
     },
     "metadata": {},
     "output_type": "display_data"
    },
    {
     "data": {
      "text/html": [
       "<ol class=list-inline>\n",
       "\t<li>156</li>\n",
       "\t<li>11</li>\n",
       "</ol>\n"
      ],
      "text/latex": [
       "\\begin{enumerate*}\n",
       "\\item 156\n",
       "\\item 11\n",
       "\\end{enumerate*}\n"
      ],
      "text/markdown": [
       "1. 156\n",
       "2. 11\n",
       "\n",
       "\n"
      ],
      "text/plain": [
       "[1] 156  11"
      ]
     },
     "metadata": {},
     "output_type": "display_data"
    },
    {
     "data": {
      "text/html": [
       "<ol class=list-inline>\n",
       "\t<li>'Date'</li>\n",
       "\t<li>'AAPL'</li>\n",
       "\t<li>'ADBE'</li>\n",
       "\t<li>'ADP'</li>\n",
       "\t<li>'AMD'</li>\n",
       "\t<li>'DELL'</li>\n",
       "\t<li>'GTW'</li>\n",
       "\t<li>'HP'</li>\n",
       "\t<li>'IBM'</li>\n",
       "\t<li>'MSFT'</li>\n",
       "\t<li>'ORCL'</li>\n",
       "</ol>\n"
      ],
      "text/latex": [
       "\\begin{enumerate*}\n",
       "\\item 'Date'\n",
       "\\item 'AAPL'\n",
       "\\item 'ADBE'\n",
       "\\item 'ADP'\n",
       "\\item 'AMD'\n",
       "\\item 'DELL'\n",
       "\\item 'GTW'\n",
       "\\item 'HP'\n",
       "\\item 'IBM'\n",
       "\\item 'MSFT'\n",
       "\\item 'ORCL'\n",
       "\\end{enumerate*}\n"
      ],
      "text/markdown": [
       "1. 'Date'\n",
       "2. 'AAPL'\n",
       "3. 'ADBE'\n",
       "4. 'ADP'\n",
       "5. 'AMD'\n",
       "6. 'DELL'\n",
       "7. 'GTW'\n",
       "8. 'HP'\n",
       "9. 'IBM'\n",
       "10. 'MSFT'\n",
       "11. 'ORCL'\n",
       "\n",
       "\n"
      ],
      "text/plain": [
       " [1] \"Date\" \"AAPL\" \"ADBE\" \"ADP\"  \"AMD\"  \"DELL\" \"GTW\"  \"HP\"   \"IBM\"  \"MSFT\"\n",
       "[11] \"ORCL\""
      ]
     },
     "metadata": {},
     "output_type": "display_data"
    },
    {
     "data": {
      "text/html": [
       "<table>\n",
       "<thead><tr><th scope=col>Date</th><th scope=col>ADBE</th><th scope=col>AMD</th><th scope=col>DELL</th><th scope=col>GTW</th><th scope=col>HP</th><th scope=col>IBM</th><th scope=col>MSFT</th><th scope=col>ORCL</th></tr></thead>\n",
       "<tbody>\n",
       "\t<tr><td>1/3/1994    </td><td> 0.135255005</td><td> 0.06231090 </td><td>-0.01258913 </td><td> 0.089235820</td><td>-0.004332150</td><td> 0.000000000</td><td> 0.023481096</td><td> 0.049108780</td></tr>\n",
       "\t<tr><td>2/1/1994    </td><td>-0.014934233</td><td> 0.02068460 </td><td> 0.05958569 </td><td>-0.002166062</td><td>-0.014385591</td><td>-0.026849988</td><td>-0.013542573</td><td> 0.010790480</td></tr>\n",
       "\t<tr><td>3/1/1994    </td><td>-0.078928087</td><td> 0.16227257 </td><td> 0.00000000 </td><td>-0.071433468</td><td>-0.007948095</td><td> 0.014168956</td><td> 0.011633584</td><td>-0.010790480</td></tr>\n",
       "\t<tr><td>4/4/1994    </td><td> 0.041944521</td><td>-0.07343623 </td><td>-0.05958569 </td><td>-0.117886057</td><td> 0.002285766</td><td> 0.022294267</td><td> 0.038425824</td><td>-0.031135409</td></tr>\n",
       "\t<tr><td>5/2/1994    </td><td> 0.031889144</td><td> 0.01008897 </td><td> 0.12173360 </td><td>-0.018288786</td><td> 0.003406249</td><td> 0.041423553</td><td> 0.064940807</td><td> 0.057624989</td></tr>\n",
       "\t<tr><td>6/1/1994    </td><td>-0.022343827</td><td>-0.03342375 </td><td>-0.04042866 </td><td>-0.126498144</td><td> 0.006733383</td><td>-0.030360262</td><td>-0.016912719</td><td> 0.039285024</td></tr>\n",
       "\t<tr><td>7/1/1994    </td><td> 0.056810193</td><td> 0.03342375 </td><td> 0.03066882 </td><td> 0.100023248</td><td> 0.021719250</td><td> 0.022574208</td><td>-0.001570687</td><td> 0.009290076</td></tr>\n",
       "\t<tr><td>8/1/1994    </td><td> 0.009365203</td><td> 0.03103423 </td><td> 0.06411750 </td><td> 0.022958322</td><td>-0.017287635</td><td> 0.045883173</td><td> 0.053245512</td><td> 0.047820651</td></tr>\n",
       "\t<tr><td>9/1/1994    </td><td> 0.011429462</td><td> 0.01123493 </td><td> 0.05585782 </td><td> 0.101359551</td><td> 0.025680060</td><td> 0.007011687</td><td>-0.015588098</td><td> 0.002053406</td></tr>\n",
       "\t<tr><td>10/3/1994   </td><td> 0.044967146</td><td>-0.05235814 </td><td> 0.08167005 </td><td> 0.099511699</td><td> 0.045341699</td><td> 0.029313568</td><td> 0.050350205</td><td> 0.029689996</td></tr>\n",
       "</tbody>\n",
       "</table>\n"
      ],
      "text/latex": [
       "\\begin{tabular}{r|lllllllll}\n",
       " Date & ADBE & AMD & DELL & GTW & HP & IBM & MSFT & ORCL\\\\\n",
       "\\hline\n",
       "\t 1/3/1994     &  0.135255005 &  0.06231090  & -0.01258913  &  0.089235820 & -0.004332150 &  0.000000000 &  0.023481096 &  0.049108780\\\\\n",
       "\t 2/1/1994     & -0.014934233 &  0.02068460  &  0.05958569  & -0.002166062 & -0.014385591 & -0.026849988 & -0.013542573 &  0.010790480\\\\\n",
       "\t 3/1/1994     & -0.078928087 &  0.16227257  &  0.00000000  & -0.071433468 & -0.007948095 &  0.014168956 &  0.011633584 & -0.010790480\\\\\n",
       "\t 4/4/1994     &  0.041944521 & -0.07343623  & -0.05958569  & -0.117886057 &  0.002285766 &  0.022294267 &  0.038425824 & -0.031135409\\\\\n",
       "\t 5/2/1994     &  0.031889144 &  0.01008897  &  0.12173360  & -0.018288786 &  0.003406249 &  0.041423553 &  0.064940807 &  0.057624989\\\\\n",
       "\t 6/1/1994     & -0.022343827 & -0.03342375  & -0.04042866  & -0.126498144 &  0.006733383 & -0.030360262 & -0.016912719 &  0.039285024\\\\\n",
       "\t 7/1/1994     &  0.056810193 &  0.03342375  &  0.03066882  &  0.100023248 &  0.021719250 &  0.022574208 & -0.001570687 &  0.009290076\\\\\n",
       "\t 8/1/1994     &  0.009365203 &  0.03103423  &  0.06411750  &  0.022958322 & -0.017287635 &  0.045883173 &  0.053245512 &  0.047820651\\\\\n",
       "\t 9/1/1994     &  0.011429462 &  0.01123493  &  0.05585782  &  0.101359551 &  0.025680060 &  0.007011687 & -0.015588098 &  0.002053406\\\\\n",
       "\t 10/3/1994    &  0.044967146 & -0.05235814  &  0.08167005  &  0.099511699 &  0.045341699 &  0.029313568 &  0.050350205 &  0.029689996\\\\\n",
       "\\end{tabular}\n"
      ],
      "text/markdown": [
       "\n",
       "Date | ADBE | AMD | DELL | GTW | HP | IBM | MSFT | ORCL | \n",
       "|---|---|---|---|---|---|---|---|---|---|\n",
       "| 1/3/1994     |  0.135255005 |  0.06231090  | -0.01258913  |  0.089235820 | -0.004332150 |  0.000000000 |  0.023481096 |  0.049108780 | \n",
       "| 2/1/1994     | -0.014934233 |  0.02068460  |  0.05958569  | -0.002166062 | -0.014385591 | -0.026849988 | -0.013542573 |  0.010790480 | \n",
       "| 3/1/1994     | -0.078928087 |  0.16227257  |  0.00000000  | -0.071433468 | -0.007948095 |  0.014168956 |  0.011633584 | -0.010790480 | \n",
       "| 4/4/1994     |  0.041944521 | -0.07343623  | -0.05958569  | -0.117886057 |  0.002285766 |  0.022294267 |  0.038425824 | -0.031135409 | \n",
       "| 5/2/1994     |  0.031889144 |  0.01008897  |  0.12173360  | -0.018288786 |  0.003406249 |  0.041423553 |  0.064940807 |  0.057624989 | \n",
       "| 6/1/1994     | -0.022343827 | -0.03342375  | -0.04042866  | -0.126498144 |  0.006733383 | -0.030360262 | -0.016912719 |  0.039285024 | \n",
       "| 7/1/1994     |  0.056810193 |  0.03342375  |  0.03066882  |  0.100023248 |  0.021719250 |  0.022574208 | -0.001570687 |  0.009290076 | \n",
       "| 8/1/1994     |  0.009365203 |  0.03103423  |  0.06411750  |  0.022958322 | -0.017287635 |  0.045883173 |  0.053245512 |  0.047820651 | \n",
       "| 9/1/1994     |  0.011429462 |  0.01123493  |  0.05585782  |  0.101359551 |  0.025680060 |  0.007011687 | -0.015588098 |  0.002053406 | \n",
       "| 10/3/1994    |  0.044967146 | -0.05235814  |  0.08167005  |  0.099511699 |  0.045341699 |  0.029313568 |  0.050350205 |  0.029689996 | \n",
       "\n",
       "\n"
      ],
      "text/plain": [
       "   Date      ADBE         AMD         DELL        GTW          HP          \n",
       "1  1/3/1994   0.135255005  0.06231090 -0.01258913  0.089235820 -0.004332150\n",
       "2  2/1/1994  -0.014934233  0.02068460  0.05958569 -0.002166062 -0.014385591\n",
       "3  3/1/1994  -0.078928087  0.16227257  0.00000000 -0.071433468 -0.007948095\n",
       "4  4/4/1994   0.041944521 -0.07343623 -0.05958569 -0.117886057  0.002285766\n",
       "5  5/2/1994   0.031889144  0.01008897  0.12173360 -0.018288786  0.003406249\n",
       "6  6/1/1994  -0.022343827 -0.03342375 -0.04042866 -0.126498144  0.006733383\n",
       "7  7/1/1994   0.056810193  0.03342375  0.03066882  0.100023248  0.021719250\n",
       "8  8/1/1994   0.009365203  0.03103423  0.06411750  0.022958322 -0.017287635\n",
       "9  9/1/1994   0.011429462  0.01123493  0.05585782  0.101359551  0.025680060\n",
       "10 10/3/1994  0.044967146 -0.05235814  0.08167005  0.099511699  0.045341699\n",
       "   IBM          MSFT         ORCL        \n",
       "1   0.000000000  0.023481096  0.049108780\n",
       "2  -0.026849988 -0.013542573  0.010790480\n",
       "3   0.014168956  0.011633584 -0.010790480\n",
       "4   0.022294267  0.038425824 -0.031135409\n",
       "5   0.041423553  0.064940807  0.057624989\n",
       "6  -0.030360262 -0.016912719  0.039285024\n",
       "7   0.022574208 -0.001570687  0.009290076\n",
       "8   0.045883173  0.053245512  0.047820651\n",
       "9   0.007011687 -0.015588098  0.002053406\n",
       "10  0.029313568  0.050350205  0.029689996"
      ]
     },
     "metadata": {},
     "output_type": "display_data"
    },
    {
     "data": {
      "text/html": [
       "<ol class=list-inline>\n",
       "\t<li>'1/2/1996'</li>\n",
       "\t<li>'1/2/1997'</li>\n",
       "\t<li>'1/2/1998'</li>\n",
       "\t<li>'1/2/2001'</li>\n",
       "\t<li>'1/2/2002'</li>\n",
       "\t<li>'1/2/2003'</li>\n",
       "\t<li>'1/2/2004'</li>\n",
       "\t<li>'1/3/1994'</li>\n",
       "\t<li>'1/3/1995'</li>\n",
       "\t<li>'1/3/2000'</li>\n",
       "\t<li>'1/3/2005'</li>\n",
       "\t<li>'1/3/2006'</li>\n",
       "\t<li>'1/4/1999'</li>\n",
       "\t<li>'10/1/1996'</li>\n",
       "\t<li>'10/1/1997'</li>\n",
       "\t<li>'10/1/1998'</li>\n",
       "\t<li>'10/1/1999'</li>\n",
       "\t<li>'10/1/2001'</li>\n",
       "\t<li>'10/1/2002'</li>\n",
       "\t<li>'10/1/2003'</li>\n",
       "\t<li>'10/1/2004'</li>\n",
       "\t<li>'10/2/1995'</li>\n",
       "\t<li>'10/2/2000'</li>\n",
       "\t<li>'10/2/2006'</li>\n",
       "\t<li>'10/3/1994'</li>\n",
       "\t<li>'10/3/2005'</li>\n",
       "\t<li>'11/1/1994'</li>\n",
       "\t<li>'11/1/1995'</li>\n",
       "\t<li>'11/1/1996'</li>\n",
       "\t<li>'11/1/1999'</li>\n",
       "\t<li>'11/1/2000'</li>\n",
       "\t<li>'11/1/2001'</li>\n",
       "\t<li>'11/1/2002'</li>\n",
       "\t<li>'11/1/2004'</li>\n",
       "\t<li>'11/1/2005'</li>\n",
       "\t<li>'11/1/2006'</li>\n",
       "\t<li>'11/2/1998'</li>\n",
       "\t<li>'11/3/1997'</li>\n",
       "\t<li>'11/3/2003'</li>\n",
       "\t<li>'12/1/1994'</li>\n",
       "\t<li>'12/1/1995'</li>\n",
       "\t<li>'12/1/1997'</li>\n",
       "\t<li>'12/1/1998'</li>\n",
       "\t<li>'12/1/1999'</li>\n",
       "\t<li>'12/1/2000'</li>\n",
       "\t<li>'12/1/2003'</li>\n",
       "\t<li>'12/1/2004'</li>\n",
       "\t<li>'12/1/2005'</li>\n",
       "\t<li>'12/1/2006'</li>\n",
       "\t<li>'12/2/1996'</li>\n",
       "\t<li>'12/2/2002'</li>\n",
       "\t<li>'12/3/2001'</li>\n",
       "\t<li>'2/1/1994'</li>\n",
       "\t<li>'2/1/1995'</li>\n",
       "\t<li>'2/1/1996'</li>\n",
       "\t<li>'2/1/1999'</li>\n",
       "\t<li>'2/1/2000'</li>\n",
       "\t<li>'2/1/2001'</li>\n",
       "\t<li>'2/1/2002'</li>\n",
       "\t<li>'2/1/2005'</li>\n",
       "\t<li>'2/1/2006'</li>\n",
       "\t<li>'2/2/1998'</li>\n",
       "\t<li>'2/2/2004'</li>\n",
       "\t<li>'2/3/1997'</li>\n",
       "\t<li>'2/3/2003'</li>\n",
       "\t<li>'3/1/1994'</li>\n",
       "\t<li>'3/1/1995'</li>\n",
       "\t<li>'3/1/1996'</li>\n",
       "\t<li>'3/1/1999'</li>\n",
       "\t<li>'3/1/2000'</li>\n",
       "\t<li>'3/1/2001'</li>\n",
       "\t<li>'3/1/2002'</li>\n",
       "\t<li>'3/1/2004'</li>\n",
       "\t<li>'3/1/2005'</li>\n",
       "\t<li>'3/1/2006'</li>\n",
       "\t<li>'3/2/1998'</li>\n",
       "\t<li>'3/3/1997'</li>\n",
       "\t<li>'3/3/2003'</li>\n",
       "\t<li>'4/1/1996'</li>\n",
       "\t<li>'4/1/1997'</li>\n",
       "\t<li>'4/1/1998'</li>\n",
       "\t<li>'4/1/1999'</li>\n",
       "\t<li>'4/1/2002'</li>\n",
       "\t<li>'4/1/2003'</li>\n",
       "\t<li>'4/1/2004'</li>\n",
       "\t<li>'4/1/2005'</li>\n",
       "\t<li>'4/2/2001'</li>\n",
       "\t<li>'4/3/1995'</li>\n",
       "\t<li>'4/3/2000'</li>\n",
       "\t<li>'4/3/2006'</li>\n",
       "\t<li>'4/4/1994'</li>\n",
       "\t<li>'5/1/1995'</li>\n",
       "\t<li>'5/1/1996'</li>\n",
       "\t<li>'5/1/1997'</li>\n",
       "\t<li>'5/1/1998'</li>\n",
       "\t<li>'5/1/2000'</li>\n",
       "\t<li>'5/1/2001'</li>\n",
       "\t<li>'5/1/2002'</li>\n",
       "\t<li>'5/1/2003'</li>\n",
       "\t<li>'5/1/2006'</li>\n",
       "\t<li>'5/2/1994'</li>\n",
       "\t<li>'5/2/2005'</li>\n",
       "\t<li>'5/3/1999'</li>\n",
       "\t<li>'5/3/2004'</li>\n",
       "\t<li>'6/1/1994'</li>\n",
       "\t<li>'6/1/1995'</li>\n",
       "\t<li>'6/1/1998'</li>\n",
       "\t<li>'6/1/1999'</li>\n",
       "\t<li>'6/1/2000'</li>\n",
       "\t<li>'6/1/2001'</li>\n",
       "\t<li>'6/1/2004'</li>\n",
       "\t<li>'6/1/2005'</li>\n",
       "\t<li>'6/1/2006'</li>\n",
       "\t<li>'6/2/1997'</li>\n",
       "\t<li>'6/2/2003'</li>\n",
       "\t<li>'6/3/1996'</li>\n",
       "\t<li>'6/3/2002'</li>\n",
       "\t<li>'7/1/1994'</li>\n",
       "\t<li>'7/1/1996'</li>\n",
       "\t<li>'7/1/1997'</li>\n",
       "\t<li>'7/1/1998'</li>\n",
       "\t<li>'7/1/1999'</li>\n",
       "\t<li>'7/1/2002'</li>\n",
       "\t<li>'7/1/2003'</li>\n",
       "\t<li>'7/1/2004'</li>\n",
       "\t<li>'7/1/2005'</li>\n",
       "\t<li>'7/2/2001'</li>\n",
       "\t<li>'7/3/1995'</li>\n",
       "\t<li>'7/3/2000'</li>\n",
       "\t<li>'7/3/2006'</li>\n",
       "\t<li>'8/1/1994'</li>\n",
       "\t<li>'8/1/1995'</li>\n",
       "\t<li>'8/1/1996'</li>\n",
       "\t<li>'8/1/1997'</li>\n",
       "\t<li>'8/1/2000'</li>\n",
       "\t<li>'8/1/2001'</li>\n",
       "\t<li>'8/1/2002'</li>\n",
       "\t<li>'8/1/2003'</li>\n",
       "\t<li>'8/1/2005'</li>\n",
       "\t<li>'8/1/2006'</li>\n",
       "\t<li>'8/2/1999'</li>\n",
       "\t<li>'8/2/2004'</li>\n",
       "\t<li>'8/3/1998'</li>\n",
       "\t<li>'9/1/1994'</li>\n",
       "\t<li>'9/1/1995'</li>\n",
       "\t<li>'9/1/1998'</li>\n",
       "\t<li>'9/1/1999'</li>\n",
       "\t<li>'9/1/2000'</li>\n",
       "\t<li>'9/1/2004'</li>\n",
       "\t<li>'9/1/2005'</li>\n",
       "\t<li>'9/1/2006'</li>\n",
       "\t<li>'9/2/1997'</li>\n",
       "\t<li>'9/2/2003'</li>\n",
       "\t<li>'9/3/1996'</li>\n",
       "\t<li>'9/3/2002'</li>\n",
       "\t<li>'9/4/2001'</li>\n",
       "</ol>\n"
      ],
      "text/latex": [
       "\\begin{enumerate*}\n",
       "\\item '1/2/1996'\n",
       "\\item '1/2/1997'\n",
       "\\item '1/2/1998'\n",
       "\\item '1/2/2001'\n",
       "\\item '1/2/2002'\n",
       "\\item '1/2/2003'\n",
       "\\item '1/2/2004'\n",
       "\\item '1/3/1994'\n",
       "\\item '1/3/1995'\n",
       "\\item '1/3/2000'\n",
       "\\item '1/3/2005'\n",
       "\\item '1/3/2006'\n",
       "\\item '1/4/1999'\n",
       "\\item '10/1/1996'\n",
       "\\item '10/1/1997'\n",
       "\\item '10/1/1998'\n",
       "\\item '10/1/1999'\n",
       "\\item '10/1/2001'\n",
       "\\item '10/1/2002'\n",
       "\\item '10/1/2003'\n",
       "\\item '10/1/2004'\n",
       "\\item '10/2/1995'\n",
       "\\item '10/2/2000'\n",
       "\\item '10/2/2006'\n",
       "\\item '10/3/1994'\n",
       "\\item '10/3/2005'\n",
       "\\item '11/1/1994'\n",
       "\\item '11/1/1995'\n",
       "\\item '11/1/1996'\n",
       "\\item '11/1/1999'\n",
       "\\item '11/1/2000'\n",
       "\\item '11/1/2001'\n",
       "\\item '11/1/2002'\n",
       "\\item '11/1/2004'\n",
       "\\item '11/1/2005'\n",
       "\\item '11/1/2006'\n",
       "\\item '11/2/1998'\n",
       "\\item '11/3/1997'\n",
       "\\item '11/3/2003'\n",
       "\\item '12/1/1994'\n",
       "\\item '12/1/1995'\n",
       "\\item '12/1/1997'\n",
       "\\item '12/1/1998'\n",
       "\\item '12/1/1999'\n",
       "\\item '12/1/2000'\n",
       "\\item '12/1/2003'\n",
       "\\item '12/1/2004'\n",
       "\\item '12/1/2005'\n",
       "\\item '12/1/2006'\n",
       "\\item '12/2/1996'\n",
       "\\item '12/2/2002'\n",
       "\\item '12/3/2001'\n",
       "\\item '2/1/1994'\n",
       "\\item '2/1/1995'\n",
       "\\item '2/1/1996'\n",
       "\\item '2/1/1999'\n",
       "\\item '2/1/2000'\n",
       "\\item '2/1/2001'\n",
       "\\item '2/1/2002'\n",
       "\\item '2/1/2005'\n",
       "\\item '2/1/2006'\n",
       "\\item '2/2/1998'\n",
       "\\item '2/2/2004'\n",
       "\\item '2/3/1997'\n",
       "\\item '2/3/2003'\n",
       "\\item '3/1/1994'\n",
       "\\item '3/1/1995'\n",
       "\\item '3/1/1996'\n",
       "\\item '3/1/1999'\n",
       "\\item '3/1/2000'\n",
       "\\item '3/1/2001'\n",
       "\\item '3/1/2002'\n",
       "\\item '3/1/2004'\n",
       "\\item '3/1/2005'\n",
       "\\item '3/1/2006'\n",
       "\\item '3/2/1998'\n",
       "\\item '3/3/1997'\n",
       "\\item '3/3/2003'\n",
       "\\item '4/1/1996'\n",
       "\\item '4/1/1997'\n",
       "\\item '4/1/1998'\n",
       "\\item '4/1/1999'\n",
       "\\item '4/1/2002'\n",
       "\\item '4/1/2003'\n",
       "\\item '4/1/2004'\n",
       "\\item '4/1/2005'\n",
       "\\item '4/2/2001'\n",
       "\\item '4/3/1995'\n",
       "\\item '4/3/2000'\n",
       "\\item '4/3/2006'\n",
       "\\item '4/4/1994'\n",
       "\\item '5/1/1995'\n",
       "\\item '5/1/1996'\n",
       "\\item '5/1/1997'\n",
       "\\item '5/1/1998'\n",
       "\\item '5/1/2000'\n",
       "\\item '5/1/2001'\n",
       "\\item '5/1/2002'\n",
       "\\item '5/1/2003'\n",
       "\\item '5/1/2006'\n",
       "\\item '5/2/1994'\n",
       "\\item '5/2/2005'\n",
       "\\item '5/3/1999'\n",
       "\\item '5/3/2004'\n",
       "\\item '6/1/1994'\n",
       "\\item '6/1/1995'\n",
       "\\item '6/1/1998'\n",
       "\\item '6/1/1999'\n",
       "\\item '6/1/2000'\n",
       "\\item '6/1/2001'\n",
       "\\item '6/1/2004'\n",
       "\\item '6/1/2005'\n",
       "\\item '6/1/2006'\n",
       "\\item '6/2/1997'\n",
       "\\item '6/2/2003'\n",
       "\\item '6/3/1996'\n",
       "\\item '6/3/2002'\n",
       "\\item '7/1/1994'\n",
       "\\item '7/1/1996'\n",
       "\\item '7/1/1997'\n",
       "\\item '7/1/1998'\n",
       "\\item '7/1/1999'\n",
       "\\item '7/1/2002'\n",
       "\\item '7/1/2003'\n",
       "\\item '7/1/2004'\n",
       "\\item '7/1/2005'\n",
       "\\item '7/2/2001'\n",
       "\\item '7/3/1995'\n",
       "\\item '7/3/2000'\n",
       "\\item '7/3/2006'\n",
       "\\item '8/1/1994'\n",
       "\\item '8/1/1995'\n",
       "\\item '8/1/1996'\n",
       "\\item '8/1/1997'\n",
       "\\item '8/1/2000'\n",
       "\\item '8/1/2001'\n",
       "\\item '8/1/2002'\n",
       "\\item '8/1/2003'\n",
       "\\item '8/1/2005'\n",
       "\\item '8/1/2006'\n",
       "\\item '8/2/1999'\n",
       "\\item '8/2/2004'\n",
       "\\item '8/3/1998'\n",
       "\\item '9/1/1994'\n",
       "\\item '9/1/1995'\n",
       "\\item '9/1/1998'\n",
       "\\item '9/1/1999'\n",
       "\\item '9/1/2000'\n",
       "\\item '9/1/2004'\n",
       "\\item '9/1/2005'\n",
       "\\item '9/1/2006'\n",
       "\\item '9/2/1997'\n",
       "\\item '9/2/2003'\n",
       "\\item '9/3/1996'\n",
       "\\item '9/3/2002'\n",
       "\\item '9/4/2001'\n",
       "\\end{enumerate*}\n"
      ],
      "text/markdown": [
       "1. '1/2/1996'\n",
       "2. '1/2/1997'\n",
       "3. '1/2/1998'\n",
       "4. '1/2/2001'\n",
       "5. '1/2/2002'\n",
       "6. '1/2/2003'\n",
       "7. '1/2/2004'\n",
       "8. '1/3/1994'\n",
       "9. '1/3/1995'\n",
       "10. '1/3/2000'\n",
       "11. '1/3/2005'\n",
       "12. '1/3/2006'\n",
       "13. '1/4/1999'\n",
       "14. '10/1/1996'\n",
       "15. '10/1/1997'\n",
       "16. '10/1/1998'\n",
       "17. '10/1/1999'\n",
       "18. '10/1/2001'\n",
       "19. '10/1/2002'\n",
       "20. '10/1/2003'\n",
       "21. '10/1/2004'\n",
       "22. '10/2/1995'\n",
       "23. '10/2/2000'\n",
       "24. '10/2/2006'\n",
       "25. '10/3/1994'\n",
       "26. '10/3/2005'\n",
       "27. '11/1/1994'\n",
       "28. '11/1/1995'\n",
       "29. '11/1/1996'\n",
       "30. '11/1/1999'\n",
       "31. '11/1/2000'\n",
       "32. '11/1/2001'\n",
       "33. '11/1/2002'\n",
       "34. '11/1/2004'\n",
       "35. '11/1/2005'\n",
       "36. '11/1/2006'\n",
       "37. '11/2/1998'\n",
       "38. '11/3/1997'\n",
       "39. '11/3/2003'\n",
       "40. '12/1/1994'\n",
       "41. '12/1/1995'\n",
       "42. '12/1/1997'\n",
       "43. '12/1/1998'\n",
       "44. '12/1/1999'\n",
       "45. '12/1/2000'\n",
       "46. '12/1/2003'\n",
       "47. '12/1/2004'\n",
       "48. '12/1/2005'\n",
       "49. '12/1/2006'\n",
       "50. '12/2/1996'\n",
       "51. '12/2/2002'\n",
       "52. '12/3/2001'\n",
       "53. '2/1/1994'\n",
       "54. '2/1/1995'\n",
       "55. '2/1/1996'\n",
       "56. '2/1/1999'\n",
       "57. '2/1/2000'\n",
       "58. '2/1/2001'\n",
       "59. '2/1/2002'\n",
       "60. '2/1/2005'\n",
       "61. '2/1/2006'\n",
       "62. '2/2/1998'\n",
       "63. '2/2/2004'\n",
       "64. '2/3/1997'\n",
       "65. '2/3/2003'\n",
       "66. '3/1/1994'\n",
       "67. '3/1/1995'\n",
       "68. '3/1/1996'\n",
       "69. '3/1/1999'\n",
       "70. '3/1/2000'\n",
       "71. '3/1/2001'\n",
       "72. '3/1/2002'\n",
       "73. '3/1/2004'\n",
       "74. '3/1/2005'\n",
       "75. '3/1/2006'\n",
       "76. '3/2/1998'\n",
       "77. '3/3/1997'\n",
       "78. '3/3/2003'\n",
       "79. '4/1/1996'\n",
       "80. '4/1/1997'\n",
       "81. '4/1/1998'\n",
       "82. '4/1/1999'\n",
       "83. '4/1/2002'\n",
       "84. '4/1/2003'\n",
       "85. '4/1/2004'\n",
       "86. '4/1/2005'\n",
       "87. '4/2/2001'\n",
       "88. '4/3/1995'\n",
       "89. '4/3/2000'\n",
       "90. '4/3/2006'\n",
       "91. '4/4/1994'\n",
       "92. '5/1/1995'\n",
       "93. '5/1/1996'\n",
       "94. '5/1/1997'\n",
       "95. '5/1/1998'\n",
       "96. '5/1/2000'\n",
       "97. '5/1/2001'\n",
       "98. '5/1/2002'\n",
       "99. '5/1/2003'\n",
       "100. '5/1/2006'\n",
       "101. '5/2/1994'\n",
       "102. '5/2/2005'\n",
       "103. '5/3/1999'\n",
       "104. '5/3/2004'\n",
       "105. '6/1/1994'\n",
       "106. '6/1/1995'\n",
       "107. '6/1/1998'\n",
       "108. '6/1/1999'\n",
       "109. '6/1/2000'\n",
       "110. '6/1/2001'\n",
       "111. '6/1/2004'\n",
       "112. '6/1/2005'\n",
       "113. '6/1/2006'\n",
       "114. '6/2/1997'\n",
       "115. '6/2/2003'\n",
       "116. '6/3/1996'\n",
       "117. '6/3/2002'\n",
       "118. '7/1/1994'\n",
       "119. '7/1/1996'\n",
       "120. '7/1/1997'\n",
       "121. '7/1/1998'\n",
       "122. '7/1/1999'\n",
       "123. '7/1/2002'\n",
       "124. '7/1/2003'\n",
       "125. '7/1/2004'\n",
       "126. '7/1/2005'\n",
       "127. '7/2/2001'\n",
       "128. '7/3/1995'\n",
       "129. '7/3/2000'\n",
       "130. '7/3/2006'\n",
       "131. '8/1/1994'\n",
       "132. '8/1/1995'\n",
       "133. '8/1/1996'\n",
       "134. '8/1/1997'\n",
       "135. '8/1/2000'\n",
       "136. '8/1/2001'\n",
       "137. '8/1/2002'\n",
       "138. '8/1/2003'\n",
       "139. '8/1/2005'\n",
       "140. '8/1/2006'\n",
       "141. '8/2/1999'\n",
       "142. '8/2/2004'\n",
       "143. '8/3/1998'\n",
       "144. '9/1/1994'\n",
       "145. '9/1/1995'\n",
       "146. '9/1/1998'\n",
       "147. '9/1/1999'\n",
       "148. '9/1/2000'\n",
       "149. '9/1/2004'\n",
       "150. '9/1/2005'\n",
       "151. '9/1/2006'\n",
       "152. '9/2/1997'\n",
       "153. '9/2/2003'\n",
       "154. '9/3/1996'\n",
       "155. '9/3/2002'\n",
       "156. '9/4/2001'\n",
       "\n",
       "\n"
      ],
      "text/plain": [
       "  [1] \"1/2/1996\"  \"1/2/1997\"  \"1/2/1998\"  \"1/2/2001\"  \"1/2/2002\"  \"1/2/2003\" \n",
       "  [7] \"1/2/2004\"  \"1/3/1994\"  \"1/3/1995\"  \"1/3/2000\"  \"1/3/2005\"  \"1/3/2006\" \n",
       " [13] \"1/4/1999\"  \"10/1/1996\" \"10/1/1997\" \"10/1/1998\" \"10/1/1999\" \"10/1/2001\"\n",
       " [19] \"10/1/2002\" \"10/1/2003\" \"10/1/2004\" \"10/2/1995\" \"10/2/2000\" \"10/2/2006\"\n",
       " [25] \"10/3/1994\" \"10/3/2005\" \"11/1/1994\" \"11/1/1995\" \"11/1/1996\" \"11/1/1999\"\n",
       " [31] \"11/1/2000\" \"11/1/2001\" \"11/1/2002\" \"11/1/2004\" \"11/1/2005\" \"11/1/2006\"\n",
       " [37] \"11/2/1998\" \"11/3/1997\" \"11/3/2003\" \"12/1/1994\" \"12/1/1995\" \"12/1/1997\"\n",
       " [43] \"12/1/1998\" \"12/1/1999\" \"12/1/2000\" \"12/1/2003\" \"12/1/2004\" \"12/1/2005\"\n",
       " [49] \"12/1/2006\" \"12/2/1996\" \"12/2/2002\" \"12/3/2001\" \"2/1/1994\"  \"2/1/1995\" \n",
       " [55] \"2/1/1996\"  \"2/1/1999\"  \"2/1/2000\"  \"2/1/2001\"  \"2/1/2002\"  \"2/1/2005\" \n",
       " [61] \"2/1/2006\"  \"2/2/1998\"  \"2/2/2004\"  \"2/3/1997\"  \"2/3/2003\"  \"3/1/1994\" \n",
       " [67] \"3/1/1995\"  \"3/1/1996\"  \"3/1/1999\"  \"3/1/2000\"  \"3/1/2001\"  \"3/1/2002\" \n",
       " [73] \"3/1/2004\"  \"3/1/2005\"  \"3/1/2006\"  \"3/2/1998\"  \"3/3/1997\"  \"3/3/2003\" \n",
       " [79] \"4/1/1996\"  \"4/1/1997\"  \"4/1/1998\"  \"4/1/1999\"  \"4/1/2002\"  \"4/1/2003\" \n",
       " [85] \"4/1/2004\"  \"4/1/2005\"  \"4/2/2001\"  \"4/3/1995\"  \"4/3/2000\"  \"4/3/2006\" \n",
       " [91] \"4/4/1994\"  \"5/1/1995\"  \"5/1/1996\"  \"5/1/1997\"  \"5/1/1998\"  \"5/1/2000\" \n",
       " [97] \"5/1/2001\"  \"5/1/2002\"  \"5/1/2003\"  \"5/1/2006\"  \"5/2/1994\"  \"5/2/2005\" \n",
       "[103] \"5/3/1999\"  \"5/3/2004\"  \"6/1/1994\"  \"6/1/1995\"  \"6/1/1998\"  \"6/1/1999\" \n",
       "[109] \"6/1/2000\"  \"6/1/2001\"  \"6/1/2004\"  \"6/1/2005\"  \"6/1/2006\"  \"6/2/1997\" \n",
       "[115] \"6/2/2003\"  \"6/3/1996\"  \"6/3/2002\"  \"7/1/1994\"  \"7/1/1996\"  \"7/1/1997\" \n",
       "[121] \"7/1/1998\"  \"7/1/1999\"  \"7/1/2002\"  \"7/1/2003\"  \"7/1/2004\"  \"7/1/2005\" \n",
       "[127] \"7/2/2001\"  \"7/3/1995\"  \"7/3/2000\"  \"7/3/2006\"  \"8/1/1994\"  \"8/1/1995\" \n",
       "[133] \"8/1/1996\"  \"8/1/1997\"  \"8/1/2000\"  \"8/1/2001\"  \"8/1/2002\"  \"8/1/2003\" \n",
       "[139] \"8/1/2005\"  \"8/1/2006\"  \"8/2/1999\"  \"8/2/2004\"  \"8/3/1998\"  \"9/1/1994\" \n",
       "[145] \"9/1/1995\"  \"9/1/1998\"  \"9/1/1999\"  \"9/1/2000\"  \"9/1/2004\"  \"9/1/2005\" \n",
       "[151] \"9/1/2006\"  \"9/2/1997\"  \"9/2/2003\"  \"9/3/1996\"  \"9/3/2002\"  \"9/4/2001\" "
      ]
     },
     "metadata": {},
     "output_type": "display_data"
    },
    {
     "data": {
      "image/png": "[encoded data removed]",
      "text/plain": [
       "plot without title"
      ]
     },
     "metadata": {},
     "output_type": "display_data"
    }
   ],
   "source": [
    "logret<-read.table(\"http://www.ams.sunysb.edu/~songwu/AMS561/m_logret_10stocks.txt\", header=T)\n",
    "logret\n",
    "dim(logret)\n",
    "names(logret)\n",
    "logret[1:10,-c(2,4)]\n",
    "levels(logret$Date)\n",
    "subset.1<-logret[logret[,2]>0.01,seq(1,5)]\n",
    "plot(logret$AAPL, logret$ADBE)"
   ]
  },
  {
   "cell_type": "code",
   "execution_count": null,
   "metadata": {
    "collapsed": true,
    "deletable": true,
    "editable": true
   },
   "outputs": [],
   "source": []
  }
 ],
 "metadata": {
  "kernelspec": {
   "display_name": "R",
   "language": "R",
   "name": "ir"
  },
  "language_info": {
   "codemirror_mode": "r",
   "file_extension": ".r",
   "mimetype": "text/x-r-source",
   "name": "R",
   "pygments_lexer": "r",
   "version": "3.3.3"
  },
  "latex_envs": {
   "LaTeX_envs_menu_present": true,
   "autocomplete": true,
   "bibliofile": "biblio.bib",
   "cite_by": "apalike",
   "current_citInitial": 1,
   "eqLabelWithNumbers": true,
   "eqNumInitial": 1,
   "hotkeys": {
    "equation": "Ctrl-E",
    "itemize": "Ctrl-I"
   },
   "labels_anchors": false,
   "latex_user_defs": false,
   "report_style_numbering": false,
   "user_envs_cfg": false
  }
 },
 "nbformat": 4,
 "nbformat_minor": 2
}
