{
 "cells": [
  {
   "cell_type": "markdown",
   "metadata": {},
   "source": [
    "# Handout 9. Logistic and Poisson regressions\n",
    "\n",
    "## 1.\tGeneralized linear models \n",
    "Logistic and Poisson regressions belong to the class of generalized linear models. These models are characterized by their response distribution (here the binomial distribution) and a link function, which transfers the mean value to a scale in which the relation to background variables is described as linear and additive. In a logistic regression analysis, the link function is $\\mbox{logit} p = \\log[p/(1− p)]$."
   ]
  },
  {
   "cell_type": "markdown",
   "metadata": {},
   "source": [
    "In R generalized linear models are handled by the `glm` function. This function is very similar to lm. The two functions use essentially the same model formulas and extractor functions (summary, etc.), but `glm` also needs to have specified which generalized linear model is desired. This is done via the family argument. To specify a binomial model with logit link (i.e., logistic regression analysis), you write `family=binomial(\"logit\")`."
   ]
  },
  {
   "cell_type": "markdown",
   "metadata": {},
   "source": [
    "The parameters of the model can be estimated by the *method of maximum likelihood*. This is a quite general technique, similar to the least-squares method in that it finds a set of parameters that optimizes a goodness-of-fit criterion (in fact, the least-squares method itself is a slightly modified maximum-likelihood procedure). The likelihood function L(b) is simply the probability of the entire observed data set for varying parameters. "
   ]
  },
  {
   "cell_type": "markdown",
   "metadata": {},
   "source": [
    "The *deviance* is the difference between the maximized value of −2 log L and the similar quantity under a “maximal model” that fits data perfectly. Changes in deviance caused by a model reduction will be approximately chi-squared distributed with degrees of freedom equal to the change in the number of parameters."
   ]
  },
  {
   "cell_type": "markdown",
   "metadata": {},
   "source": [
    "## 2.\tLogistic regression on tabular data \n",
    "Sometimes you wish to model binary outcomes, variables that can have only two possible values: diseased or nondiseased, and so forth. A linear model for transformed probabilities can be set up as\n",
    "$$ \n",
    "\\mbox{logit} p = \\beta_0 + \\beta_1 x_1 + \\beta_2 x_2 + \\cdots + \\beta_k x_k \n",
    "$$\n",
    "in which logit p = log[p/(1− p)] is the log odds. A constant additive effect on the logit scale corresponds to a constant odds ratio. The choice of the logit function is not the only one possible, but it has some mathematically convenient properties. Other choices do exist; the `probit` function (the quantile function of the normal distribution) or $\\log(−\\log p)$, which has a connection to survival analysis models.\n",
    "\n",
    "One thing to notice about the logistic model is that there is no error term as in linear models. We are modelling the probability of an event directly, and that in itself will determine the variability of the binary outcome. There is no variance parameter as in the normal distribution."
   ]
  },
  {
   "cell_type": "code",
   "execution_count": 1,
   "metadata": {
    "collapsed": true
   },
   "outputs": [],
   "source": [
    "### Construct a dataset\n",
    "no.yes <- c(\"No\",\"Yes\")\n",
    "smoking <- gl(2,1,8,no.yes)"
   ]
  },
  {
   "cell_type": "markdown",
   "metadata": {},
   "source": [
    "The function `gl` is to generate levels. The first three\n",
    "arguments to `gl` are, respectively, the number of levels,\n",
    "the repeat count of each level, and the total length of the vector."
   ]
  },
  {
   "cell_type": "code",
   "execution_count": 2,
   "metadata": {
    "collapsed": false
   },
   "outputs": [
    {
     "data": {
      "text/html": [
       "<table>\n",
       "<thead><tr><th scope=col>smoking</th><th scope=col>obesity</th><th scope=col>snoring</th><th scope=col>n.tot</th><th scope=col>n.hyp</th></tr></thead>\n",
       "<tbody>\n",
       "\t<tr><td>No </td><td>No </td><td>No </td><td> 60</td><td> 5 </td></tr>\n",
       "\t<tr><td>Yes</td><td>No </td><td>No </td><td> 17</td><td> 2 </td></tr>\n",
       "\t<tr><td>No </td><td>Yes</td><td>No </td><td>  8</td><td> 1 </td></tr>\n",
       "\t<tr><td>Yes</td><td>Yes</td><td>No </td><td>  2</td><td> 0 </td></tr>\n",
       "\t<tr><td>No </td><td>No </td><td>Yes</td><td>187</td><td>35 </td></tr>\n",
       "\t<tr><td>Yes</td><td>No </td><td>Yes</td><td> 85</td><td>13 </td></tr>\n",
       "\t<tr><td>No </td><td>Yes</td><td>Yes</td><td> 51</td><td>15 </td></tr>\n",
       "\t<tr><td>Yes</td><td>Yes</td><td>Yes</td><td> 23</td><td> 8 </td></tr>\n",
       "</tbody>\n",
       "</table>\n"
      ],
      "text/latex": [
       "\\begin{tabular}{r|lllll}\n",
       " smoking & obesity & snoring & n.tot & n.hyp\\\\\n",
       "\\hline\n",
       "\t No  & No  & No  &  60 &  5 \\\\\n",
       "\t Yes & No  & No  &  17 &  2 \\\\\n",
       "\t No  & Yes & No  &   8 &  1 \\\\\n",
       "\t Yes & Yes & No  &   2 &  0 \\\\\n",
       "\t No  & No  & Yes & 187 & 35 \\\\\n",
       "\t Yes & No  & Yes &  85 & 13 \\\\\n",
       "\t No  & Yes & Yes &  51 & 15 \\\\\n",
       "\t Yes & Yes & Yes &  23 &  8 \\\\\n",
       "\\end{tabular}\n"
      ],
      "text/markdown": [
       "\n",
       "smoking | obesity | snoring | n.tot | n.hyp | \n",
       "|---|---|---|---|---|---|---|---|\n",
       "| No  | No  | No  |  60 |  5  | \n",
       "| Yes | No  | No  |  17 |  2  | \n",
       "| No  | Yes | No  |   8 |  1  | \n",
       "| Yes | Yes | No  |   2 |  0  | \n",
       "| No  | No  | Yes | 187 | 35  | \n",
       "| Yes | No  | Yes |  85 | 13  | \n",
       "| No  | Yes | Yes |  51 | 15  | \n",
       "| Yes | Yes | Yes |  23 |  8  | \n",
       "\n",
       "\n"
      ],
      "text/plain": [
       "  smoking obesity snoring n.tot n.hyp\n",
       "1 No      No      No       60    5   \n",
       "2 Yes     No      No       17    2   \n",
       "3 No      Yes     No        8    1   \n",
       "4 Yes     Yes     No        2    0   \n",
       "5 No      No      Yes     187   35   \n",
       "6 Yes     No      Yes      85   13   \n",
       "7 No      Yes     Yes      51   15   \n",
       "8 Yes     Yes     Yes      23    8   "
      ]
     },
     "metadata": {},
     "output_type": "display_data"
    }
   ],
   "source": [
    "obesity <- gl(2,2,8,no.yes)\n",
    "snoring <- gl(2,4,8,no.yes)\n",
    "n.tot <- c(60,17,8,2,187,85,51,23)\n",
    "n.hyp <- c(5,2,1,0,35,13,15,8)\n",
    "data.frame(smoking,obesity,snoring,n.tot,n.hyp)"
   ]
  },
  {
   "cell_type": "markdown",
   "metadata": {},
   "source": [
    "R is able to fit logistic regression analyses for tabular data in two different ways. You have to specify the response as a matrix, where one column is the number of “diseased” and the other is the number of “healthy” (or “success” and “failure”, depending on context)."
   ]
  },
  {
   "cell_type": "code",
   "execution_count": 3,
   "metadata": {
    "collapsed": false
   },
   "outputs": [
    {
     "data": {
      "text/plain": [
       "\n",
       "Call:\n",
       "glm(formula = hyp.tbl ~ smoking + obesity + snoring, family = binomial(\"logit\"))\n",
       "\n",
       "Deviance Residuals: \n",
       "       1         2         3         4         5         6         7         8  \n",
       "-0.04344   0.54145  -0.25476  -0.80051   0.19759  -0.46602  -0.21262   0.56231  \n",
       "\n",
       "Coefficients:\n",
       "            Estimate Std. Error z value Pr(>|z|)    \n",
       "(Intercept) -2.37766    0.38018  -6.254    4e-10 ***\n",
       "smokingYes  -0.06777    0.27812  -0.244   0.8075    \n",
       "obesityYes   0.69531    0.28509   2.439   0.0147 *  \n",
       "snoringYes   0.87194    0.39757   2.193   0.0283 *  \n",
       "---\n",
       "Signif. codes:  0 ‘***’ 0.001 ‘**’ 0.01 ‘*’ 0.05 ‘.’ 0.1 ‘ ’ 1\n",
       "\n",
       "(Dispersion parameter for binomial family taken to be 1)\n",
       "\n",
       "    Null deviance: 14.1259  on 7  degrees of freedom\n",
       "Residual deviance:  1.6184  on 4  degrees of freedom\n",
       "AIC: 34.537\n",
       "\n",
       "Number of Fisher Scoring iterations: 4\n"
      ]
     },
     "metadata": {},
     "output_type": "display_data"
    }
   ],
   "source": [
    "hyp.tbl <- cbind(n.hyp,n.tot-n.hyp)\n",
    "glm.hyp<-glm(hyp.tbl~smoking+obesity+snoring, family=binomial(\"logit\"))\n",
    "summary(glm.hyp)"
   ]
  },
  {
   "cell_type": "code",
   "execution_count": 4,
   "metadata": {
    "collapsed": false
   },
   "outputs": [
    {
     "data": {
      "text/html": [
       "<table>\n",
       "<thead><tr><th></th><th scope=col>Df</th><th scope=col>Deviance</th><th scope=col>Resid. Df</th><th scope=col>Resid. Dev</th><th scope=col>Pr(&gt;Chi)</th></tr></thead>\n",
       "<tbody>\n",
       "\t<tr><th scope=row>NULL</th><td>NA         </td><td>         NA</td><td>7          </td><td>14.125900  </td><td>        NA </td></tr>\n",
       "\t<tr><th scope=row>smoking</th><td> 1         </td><td>0.002184154</td><td>6          </td><td>14.123716  </td><td>0.96272449 </td></tr>\n",
       "\t<tr><th scope=row>obesity</th><td> 1         </td><td>6.827367115</td><td>5          </td><td> 7.296349  </td><td>0.00897715 </td></tr>\n",
       "\t<tr><th scope=row>snoring</th><td> 1         </td><td>5.677946593</td><td>4          </td><td> 1.618403  </td><td>0.01717946 </td></tr>\n",
       "</tbody>\n",
       "</table>\n"
      ],
      "text/latex": [
       "\\begin{tabular}{r|lllll}\n",
       "  & Df & Deviance & Resid. Df & Resid. Dev & Pr(>Chi)\\\\\n",
       "\\hline\n",
       "\tNULL & NA          &          NA & 7           & 14.125900   &         NA \\\\\n",
       "\tsmoking &  1          & 0.002184154 & 6           & 14.123716   & 0.96272449 \\\\\n",
       "\tobesity &  1          & 6.827367115 & 5           &  7.296349   & 0.00897715 \\\\\n",
       "\tsnoring &  1          & 5.677946593 & 4           &  1.618403   & 0.01717946 \\\\\n",
       "\\end{tabular}\n"
      ],
      "text/markdown": [
       "\n",
       "| <!--/--> | Df | Deviance | Resid. Df | Resid. Dev | Pr(>Chi) | \n",
       "|---|---|---|---|\n",
       "| NULL | NA          |          NA | 7           | 14.125900   |         NA  | \n",
       "| smoking |  1          | 0.002184154 | 6           | 14.123716   | 0.96272449  | \n",
       "| obesity |  1          | 6.827367115 | 5           |  7.296349   | 0.00897715  | \n",
       "| snoring |  1          | 5.677946593 | 4           |  1.618403   | 0.01717946  | \n",
       "\n",
       "\n"
      ],
      "text/plain": [
       "        Df Deviance    Resid. Df Resid. Dev Pr(>Chi)  \n",
       "NULL    NA          NA 7         14.125900          NA\n",
       "smoking  1 0.002184154 6         14.123716  0.96272449\n",
       "obesity  1 6.827367115 5          7.296349  0.00897715\n",
       "snoring  1 5.677946593 4          1.618403  0.01717946"
      ]
     },
     "metadata": {},
     "output_type": "display_data"
    }
   ],
   "source": [
    "anova(glm.hyp, test=\"Chisq\")"
   ]
  },
  {
   "cell_type": "markdown",
   "metadata": {},
   "source": [
    "Notice that the Deviance column gives differences between models as variables are added to the model in turn. The deviances are approximately chi-squared distributed with the stated degrees of freedom. It is necessary to add the test=\"chisq\" argument to get the approximate chi-square tests. *From the above, you can read that smoking is removable.*"
   ]
  },
  {
   "cell_type": "code",
   "execution_count": 5,
   "metadata": {
    "collapsed": false
   },
   "outputs": [
    {
     "data": {
      "text/html": [
       "<table>\n",
       "<thead><tr><th></th><th scope=col>Df</th><th scope=col>Deviance</th><th scope=col>Resid. Df</th><th scope=col>Resid. Dev</th><th scope=col>Pr(&gt;Chi)</th></tr></thead>\n",
       "<tbody>\n",
       "\t<tr><th scope=row>NULL</th><td>NA         </td><td>      NA   </td><td>7          </td><td>14.125900  </td><td>         NA</td></tr>\n",
       "\t<tr><th scope=row>obesity</th><td> 1         </td><td>6.825958   </td><td>6          </td><td> 7.299942  </td><td>0.008984234</td></tr>\n",
       "\t<tr><th scope=row>snoring</th><td> 1         </td><td>5.621819   </td><td>5          </td><td> 1.678123  </td><td>0.017738231</td></tr>\n",
       "</tbody>\n",
       "</table>\n"
      ],
      "text/latex": [
       "\\begin{tabular}{r|lllll}\n",
       "  & Df & Deviance & Resid. Df & Resid. Dev & Pr(>Chi)\\\\\n",
       "\\hline\n",
       "\tNULL & NA          &       NA    & 7           & 14.125900   &          NA\\\\\n",
       "\tobesity &  1          & 6.825958    & 6           &  7.299942   & 0.008984234\\\\\n",
       "\tsnoring &  1          & 5.621819    & 5           &  1.678123   & 0.017738231\\\\\n",
       "\\end{tabular}\n"
      ],
      "text/markdown": [
       "\n",
       "| <!--/--> | Df | Deviance | Resid. Df | Resid. Dev | Pr(>Chi) | \n",
       "|---|---|---|\n",
       "| NULL | NA          |       NA    | 7           | 14.125900   |          NA | \n",
       "| obesity |  1          | 6.825958    | 6           |  7.299942   | 0.008984234 | \n",
       "| snoring |  1          | 5.621819    | 5           |  1.678123   | 0.017738231 | \n",
       "\n",
       "\n"
      ],
      "text/plain": [
       "        Df Deviance Resid. Df Resid. Dev Pr(>Chi)   \n",
       "NULL    NA       NA 7         14.125900           NA\n",
       "obesity  1 6.825958 6          7.299942  0.008984234\n",
       "snoring  1 5.621819 5          1.678123  0.017738231"
      ]
     },
     "metadata": {},
     "output_type": "display_data"
    }
   ],
   "source": [
    "glm.hyp <- glm(hyp.tbl~obesity+snoring,binomial)\n",
    "anova(glm.hyp, test=\"Chisq\")"
   ]
  },
  {
   "cell_type": "markdown",
   "metadata": {},
   "source": [
    "## 3.\tPoisson regression \n",
    "Many studies often involve the calculation of rates, typically rates of death or incidence rates of a chronic or acute disease. This is based upon counts of events occurring within a certain amount of time. The Poisson regression method is often employed for the statistical analysis of such data. However, data that are not actually counts of events but rather measurements of time until an event (or nonevent) can be analyzed by a technique which is formally equivalent.\n",
    "\n",
    "The data that we wish to analyze can be in one of two forms. They be in aggregate form as an observed count x based on a number of person-years T. We may also have individual-level data, in which for each subject we have a time under observation Ti and a 0/1 indicator xi of whether the subject has had an event. \n",
    "\n",
    "The class of generalized linear models also includes the Poisson distribution, which by default uses a log link function. This is the mathematically convenient option and also a quite natural choice since it allows the linear predictor to span the entire real line. We can use this to formulate models for the log rates of the form\n",
    "$$ \n",
    "\\log p = \\beta_0 + \\beta_1 x_1 + \\beta_2 x_2 + \\cdots + \\beta_k x_k \n",
    "$$\n",
    "\n",
    "The following example was used by Erling B. Andersen in 1977. It involves the rates of lung cancer by age in four Danish cities and may be found as `eba1977` in the `ISwR` package."
   ]
  },
  {
   "cell_type": "code",
   "execution_count": 6,
   "metadata": {
    "collapsed": false
   },
   "outputs": [
    {
     "name": "stderr",
     "output_type": "stream",
     "text": [
      "Loading required package: ISwR\n"
     ]
    },
    {
     "data": {
      "text/html": [
       "<ol class=list-inline>\n",
       "\t<li>'city'</li>\n",
       "\t<li>'age'</li>\n",
       "\t<li>'pop'</li>\n",
       "\t<li>'cases'</li>\n",
       "</ol>\n"
      ],
      "text/latex": [
       "\\begin{enumerate*}\n",
       "\\item 'city'\n",
       "\\item 'age'\n",
       "\\item 'pop'\n",
       "\\item 'cases'\n",
       "\\end{enumerate*}\n"
      ],
      "text/markdown": [
       "1. 'city'\n",
       "2. 'age'\n",
       "3. 'pop'\n",
       "4. 'cases'\n",
       "\n",
       "\n"
      ],
      "text/plain": [
       "[1] \"city\"  \"age\"   \"pop\"   \"cases\""
      ]
     },
     "metadata": {},
     "output_type": "display_data"
    }
   ],
   "source": [
    "require(ISwR)\n",
    "names(eba1977)"
   ]
  },
  {
   "cell_type": "code",
   "execution_count": 7,
   "metadata": {
    "collapsed": false
   },
   "outputs": [
    {
     "data": {
      "text/plain": [
       "\n",
       "Call:\n",
       "glm(formula = cases ~ city + age, family = poisson)\n",
       "\n",
       "Deviance Residuals: \n",
       "     Min        1Q    Median        3Q       Max  \n",
       "-2.54853  -0.57942  -0.02872   0.49797   1.68933  \n",
       "\n",
       "Coefficients:\n",
       "            Estimate Std. Error z value Pr(>|z|)    \n",
       "(Intercept)  2.24374    0.20363  11.019   <2e-16 ***\n",
       "cityHorsens -0.09844    0.18129  -0.543    0.587    \n",
       "cityKolding -0.22706    0.18770  -1.210    0.226    \n",
       "cityVejle   -0.22706    0.18770  -1.210    0.226    \n",
       "age55-59    -0.03077    0.24810  -0.124    0.901    \n",
       "age60-64     0.26469    0.23143   1.144    0.253    \n",
       "age65-69     0.31015    0.22918   1.353    0.176    \n",
       "age70-74     0.19237    0.23517   0.818    0.413    \n",
       "age75+      -0.06252    0.25012  -0.250    0.803    \n",
       "---\n",
       "Signif. codes:  0 ‘***’ 0.001 ‘**’ 0.01 ‘*’ 0.05 ‘.’ 0.1 ‘ ’ 1\n",
       "\n",
       "(Dispersion parameter for poisson family taken to be 1)\n",
       "\n",
       "    Null deviance: 27.704  on 23  degrees of freedom\n",
       "Residual deviance: 20.673  on 15  degrees of freedom\n",
       "AIC: 135.06\n",
       "\n",
       "Number of Fisher Scoring iterations: 5\n"
      ]
     },
     "metadata": {},
     "output_type": "display_data"
    }
   ],
   "source": [
    "attach(eba1977)\n",
    "fit <- glm(cases~city+age, family=poisson)\n",
    "summary(fit)"
   ]
  }
 ],
 "metadata": {
  "kernelspec": {
   "display_name": "R",
   "language": "R",
   "name": "ir"
  },
  "language_info": {
   "codemirror_mode": "r",
   "file_extension": ".r",
   "mimetype": "text/x-r-source",
   "name": "R",
   "pygments_lexer": "r",
   "version": "3.3.3"
  },
  "latex_envs": {
   "LaTeX_envs_menu_present": true,
   "autocomplete": true,
   "bibliofile": "biblio.bib",
   "cite_by": "apalike",
   "current_citInitial": 1,
   "eqLabelWithNumbers": true,
   "eqNumInitial": 1,
   "hotkeys": {
    "equation": "Ctrl-E",
    "itemize": "Ctrl-I"
   },
   "labels_anchors": false,
   "latex_user_defs": false,
   "report_style_numbering": false,
   "user_envs_cfg": false
  }
 },
 "nbformat": 4,
 "nbformat_minor": 2
}
