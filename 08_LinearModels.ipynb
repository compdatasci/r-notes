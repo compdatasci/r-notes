{
 "cells": [
  {
   "cell_type": "markdown",
   "metadata": {
    "deletable": true,
    "editable": true
   },
   "source": [
    "# Handout 8. Linear models\n",
    "Many data sets are inherently too complex to be handled adequately by standard procedures and thus require the formulation of ad hoc models. The class of linear models provides a flexible framework into which many — although not all — of these cases can be fitted."
   ]
  },
  {
   "cell_type": "markdown",
   "metadata": {
    "deletable": true,
    "editable": true
   },
   "source": [
    "Note: To implement the examples in this handout, we need to install the package `ISwR`.\n",
    "```\n",
    "install.packages(\"ISwR\")\n",
    "```"
   ]
  },
  {
   "cell_type": "code",
   "execution_count": 1,
   "metadata": {
    "collapsed": false,
    "deletable": true,
    "editable": true
   },
   "outputs": [],
   "source": [
    "library(ISwR)"
   ]
  },
  {
   "cell_type": "markdown",
   "metadata": {
    "deletable": true,
    "editable": true
   },
   "source": [
    "## 1.\tPolynomial regression \n",
    "One basic observation showing that multiple regression analysis can do more than meets the eye is that you can include second-order and higher powers of a variable in the model along with the original linear term. That is, you can have a model like\n",
    "$$ y = \\alpha + \\beta_1 x + \\beta_2 x^2 + \\dots + \\beta_k x^k + \\varepsilon$$\n",
    "\n",
    "This obviously describes a nonlinear relation between $y$ and $x$, but that does not matter; the model is still a linear model."
   ]
  },
  {
   "cell_type": "code",
   "execution_count": 2,
   "metadata": {
    "collapsed": false,
    "deletable": true,
    "editable": true
   },
   "outputs": [
    {
     "name": "stderr",
     "output_type": "stream",
     "text": [
      "The following object is masked from package:ISwR:\n",
      "\n",
      "    tlc\n",
      "\n"
     ]
    },
    {
     "data": {
      "text/plain": [
       "\n",
       "Call:\n",
       "lm(formula = pemax ~ height + I(height^2))\n",
       "\n",
       "Residuals:\n",
       "    Min      1Q  Median      3Q     Max \n",
       "-51.411 -14.932  -2.288  12.787  44.933 \n",
       "\n",
       "Coefficients:\n",
       "             Estimate Std. Error t value Pr(>|t|)  \n",
       "(Intercept) 615.36248  240.95580   2.554   0.0181 *\n",
       "height       -8.08324    3.32052  -2.434   0.0235 *\n",
       "I(height^2)   0.03064    0.01126   2.721   0.0125 *\n",
       "---\n",
       "Signif. codes:  0 ‘***’ 0.001 ‘**’ 0.01 ‘*’ 0.05 ‘.’ 0.1 ‘ ’ 1\n",
       "\n",
       "Residual standard error: 24.18 on 22 degrees of freedom\n",
       "Multiple R-squared:  0.5205,\tAdjusted R-squared:  0.4769 \n",
       "F-statistic: 11.94 on 2 and 22 DF,  p-value: 0.0003081\n"
      ]
     },
     "metadata": {},
     "output_type": "display_data"
    }
   ],
   "source": [
    "attach(cystfibr)\n",
    "summary(lm(pemax~height+I(height^2)))\t### Note the output"
   ]
  },
  {
   "cell_type": "code",
   "execution_count": 3,
   "metadata": {
    "collapsed": false,
    "deletable": true,
    "editable": true
   },
   "outputs": [
    {
     "data": {
      "text/html": [
       "<table>\n",
       "<thead><tr><th></th><th scope=col>fit</th><th scope=col>lwr</th><th scope=col>upr</th></tr></thead>\n",
       "<tbody>\n",
       "\t<tr><th scope=row>1</th><td> 96.90026</td><td>37.94461 </td><td>155.8559 </td></tr>\n",
       "\t<tr><th scope=row>2</th><td> 94.33611</td><td>36.82985 </td><td>151.8424 </td></tr>\n",
       "\t<tr><th scope=row>3</th><td> 92.01705</td><td>35.73077 </td><td>148.3033 </td></tr>\n",
       "\t<tr><th scope=row>4</th><td> 89.94307</td><td>34.66449 </td><td>145.2217 </td></tr>\n",
       "\t<tr><th scope=row>5</th><td> 88.11418</td><td>33.65007 </td><td>142.5783 </td></tr>\n",
       "\t<tr><th scope=row>6</th><td> 86.53038</td><td>32.70806 </td><td>140.3527 </td></tr>\n",
       "\t<tr><th scope=row>7</th><td> 85.19166</td><td>31.85979 </td><td>138.5235 </td></tr>\n",
       "\t<tr><th scope=row>8</th><td> 84.09803</td><td>31.12689 </td><td>137.0692 </td></tr>\n",
       "\t<tr><th scope=row>9</th><td> 83.24949</td><td>30.53064 </td><td>135.9683 </td></tr>\n",
       "\t<tr><th scope=row>10</th><td> 82.64604</td><td>30.09150 </td><td>135.2006 </td></tr>\n",
       "\t<tr><th scope=row>11</th><td> 82.28767</td><td>29.82873 </td><td>134.7466 </td></tr>\n",
       "\t<tr><th scope=row>12</th><td> 82.17439</td><td>29.76004 </td><td>134.5887 </td></tr>\n",
       "\t<tr><th scope=row>13</th><td> 82.30620</td><td>29.90143 </td><td>134.7110 </td></tr>\n",
       "\t<tr><th scope=row>14</th><td> 82.68309</td><td>30.26696 </td><td>135.0992 </td></tr>\n",
       "\t<tr><th scope=row>15</th><td> 83.30507</td><td>30.86877 </td><td>135.7414 </td></tr>\n",
       "\t<tr><th scope=row>16</th><td> 84.17214</td><td>31.71697 </td><td>136.6273 </td></tr>\n",
       "\t<tr><th scope=row>17</th><td> 85.28429</td><td>32.81967 </td><td>137.7489 </td></tr>\n",
       "\t<tr><th scope=row>18</th><td> 86.64153</td><td>34.18298 </td><td>139.1001 </td></tr>\n",
       "\t<tr><th scope=row>19</th><td> 88.24386</td><td>35.81103 </td><td>140.6767 </td></tr>\n",
       "\t<tr><th scope=row>20</th><td> 90.09127</td><td>37.70599 </td><td>142.4766 </td></tr>\n",
       "\t<tr><th scope=row>21</th><td> 92.18378</td><td>39.86804 </td><td>144.4995 </td></tr>\n",
       "\t<tr><th scope=row>22</th><td> 94.52137</td><td>42.29540 </td><td>146.7473 </td></tr>\n",
       "\t<tr><th scope=row>23</th><td> 97.10404</td><td>44.98431 </td><td>149.2238 </td></tr>\n",
       "\t<tr><th scope=row>24</th><td> 99.93180</td><td>47.92894 </td><td>151.9347 </td></tr>\n",
       "\t<tr><th scope=row>25</th><td>103.00465</td><td>51.12145 </td><td>154.8879 </td></tr>\n",
       "\t<tr><th scope=row>26</th><td>106.32259</td><td>54.55189 </td><td>158.0933 </td></tr>\n",
       "\t<tr><th scope=row>27</th><td>109.88562</td><td>58.20818 </td><td>161.5631 </td></tr>\n",
       "\t<tr><th scope=row>28</th><td>113.69373</td><td>62.07617 </td><td>165.3113 </td></tr>\n",
       "\t<tr><th scope=row>29</th><td>117.74692</td><td>66.13965 </td><td>169.3542 </td></tr>\n",
       "\t<tr><th scope=row>30</th><td>122.04521</td><td>70.38050 </td><td>173.7099 </td></tr>\n",
       "\t<tr><th scope=row>31</th><td>126.58858</td><td>74.77888 </td><td>178.3983 </td></tr>\n",
       "\t<tr><th scope=row>32</th><td>131.37704</td><td>79.31354 </td><td>183.4405 </td></tr>\n",
       "\t<tr><th scope=row>33</th><td>136.41059</td><td>83.96224 </td><td>188.8589 </td></tr>\n",
       "\t<tr><th scope=row>34</th><td>141.68922</td><td>88.70229 </td><td>194.6761 </td></tr>\n",
       "\t<tr><th scope=row>35</th><td>147.21294</td><td>93.51117 </td><td>200.9147 </td></tr>\n",
       "\t<tr><th scope=row>36</th><td>152.98174</td><td>98.36718 </td><td>207.5963 </td></tr>\n",
       "</tbody>\n",
       "</table>\n"
      ],
      "text/latex": [
       "\\begin{tabular}{r|lll}\n",
       "  & fit & lwr & upr\\\\\n",
       "\\hline\n",
       "\t1 &  96.90026 & 37.94461  & 155.8559 \\\\\n",
       "\t2 &  94.33611 & 36.82985  & 151.8424 \\\\\n",
       "\t3 &  92.01705 & 35.73077  & 148.3033 \\\\\n",
       "\t4 &  89.94307 & 34.66449  & 145.2217 \\\\\n",
       "\t5 &  88.11418 & 33.65007  & 142.5783 \\\\\n",
       "\t6 &  86.53038 & 32.70806  & 140.3527 \\\\\n",
       "\t7 &  85.19166 & 31.85979  & 138.5235 \\\\\n",
       "\t8 &  84.09803 & 31.12689  & 137.0692 \\\\\n",
       "\t9 &  83.24949 & 30.53064  & 135.9683 \\\\\n",
       "\t10 &  82.64604 & 30.09150  & 135.2006 \\\\\n",
       "\t11 &  82.28767 & 29.82873  & 134.7466 \\\\\n",
       "\t12 &  82.17439 & 29.76004  & 134.5887 \\\\\n",
       "\t13 &  82.30620 & 29.90143  & 134.7110 \\\\\n",
       "\t14 &  82.68309 & 30.26696  & 135.0992 \\\\\n",
       "\t15 &  83.30507 & 30.86877  & 135.7414 \\\\\n",
       "\t16 &  84.17214 & 31.71697  & 136.6273 \\\\\n",
       "\t17 &  85.28429 & 32.81967  & 137.7489 \\\\\n",
       "\t18 &  86.64153 & 34.18298  & 139.1001 \\\\\n",
       "\t19 &  88.24386 & 35.81103  & 140.6767 \\\\\n",
       "\t20 &  90.09127 & 37.70599  & 142.4766 \\\\\n",
       "\t21 &  92.18378 & 39.86804  & 144.4995 \\\\\n",
       "\t22 &  94.52137 & 42.29540  & 146.7473 \\\\\n",
       "\t23 &  97.10404 & 44.98431  & 149.2238 \\\\\n",
       "\t24 &  99.93180 & 47.92894  & 151.9347 \\\\\n",
       "\t25 & 103.00465 & 51.12145  & 154.8879 \\\\\n",
       "\t26 & 106.32259 & 54.55189  & 158.0933 \\\\\n",
       "\t27 & 109.88562 & 58.20818  & 161.5631 \\\\\n",
       "\t28 & 113.69373 & 62.07617  & 165.3113 \\\\\n",
       "\t29 & 117.74692 & 66.13965  & 169.3542 \\\\\n",
       "\t30 & 122.04521 & 70.38050  & 173.7099 \\\\\n",
       "\t31 & 126.58858 & 74.77888  & 178.3983 \\\\\n",
       "\t32 & 131.37704 & 79.31354  & 183.4405 \\\\\n",
       "\t33 & 136.41059 & 83.96224  & 188.8589 \\\\\n",
       "\t34 & 141.68922 & 88.70229  & 194.6761 \\\\\n",
       "\t35 & 147.21294 & 93.51117  & 200.9147 \\\\\n",
       "\t36 & 152.98174 & 98.36718  & 207.5963 \\\\\n",
       "\\end{tabular}\n"
      ],
      "text/markdown": [
       "\n",
       "| <!--/--> | fit | lwr | upr | \n",
       "|---|---|---|---|---|---|---|---|---|---|---|---|---|---|---|---|---|---|---|---|---|---|---|---|---|---|---|---|---|---|---|---|---|---|---|---|\n",
       "| 1 |  96.90026 | 37.94461  | 155.8559  | \n",
       "| 2 |  94.33611 | 36.82985  | 151.8424  | \n",
       "| 3 |  92.01705 | 35.73077  | 148.3033  | \n",
       "| 4 |  89.94307 | 34.66449  | 145.2217  | \n",
       "| 5 |  88.11418 | 33.65007  | 142.5783  | \n",
       "| 6 |  86.53038 | 32.70806  | 140.3527  | \n",
       "| 7 |  85.19166 | 31.85979  | 138.5235  | \n",
       "| 8 |  84.09803 | 31.12689  | 137.0692  | \n",
       "| 9 |  83.24949 | 30.53064  | 135.9683  | \n",
       "| 10 |  82.64604 | 30.09150  | 135.2006  | \n",
       "| 11 |  82.28767 | 29.82873  | 134.7466  | \n",
       "| 12 |  82.17439 | 29.76004  | 134.5887  | \n",
       "| 13 |  82.30620 | 29.90143  | 134.7110  | \n",
       "| 14 |  82.68309 | 30.26696  | 135.0992  | \n",
       "| 15 |  83.30507 | 30.86877  | 135.7414  | \n",
       "| 16 |  84.17214 | 31.71697  | 136.6273  | \n",
       "| 17 |  85.28429 | 32.81967  | 137.7489  | \n",
       "| 18 |  86.64153 | 34.18298  | 139.1001  | \n",
       "| 19 |  88.24386 | 35.81103  | 140.6767  | \n",
       "| 20 |  90.09127 | 37.70599  | 142.4766  | \n",
       "| 21 |  92.18378 | 39.86804  | 144.4995  | \n",
       "| 22 |  94.52137 | 42.29540  | 146.7473  | \n",
       "| 23 |  97.10404 | 44.98431  | 149.2238  | \n",
       "| 24 |  99.93180 | 47.92894  | 151.9347  | \n",
       "| 25 | 103.00465 | 51.12145  | 154.8879  | \n",
       "| 26 | 106.32259 | 54.55189  | 158.0933  | \n",
       "| 27 | 109.88562 | 58.20818  | 161.5631  | \n",
       "| 28 | 113.69373 | 62.07617  | 165.3113  | \n",
       "| 29 | 117.74692 | 66.13965  | 169.3542  | \n",
       "| 30 | 122.04521 | 70.38050  | 173.7099  | \n",
       "| 31 | 126.58858 | 74.77888  | 178.3983  | \n",
       "| 32 | 131.37704 | 79.31354  | 183.4405  | \n",
       "| 33 | 136.41059 | 83.96224  | 188.8589  | \n",
       "| 34 | 141.68922 | 88.70229  | 194.6761  | \n",
       "| 35 | 147.21294 | 93.51117  | 200.9147  | \n",
       "| 36 | 152.98174 | 98.36718  | 207.5963  | \n",
       "\n",
       "\n"
      ],
      "text/plain": [
       "   fit       lwr      upr     \n",
       "1   96.90026 37.94461 155.8559\n",
       "2   94.33611 36.82985 151.8424\n",
       "3   92.01705 35.73077 148.3033\n",
       "4   89.94307 34.66449 145.2217\n",
       "5   88.11418 33.65007 142.5783\n",
       "6   86.53038 32.70806 140.3527\n",
       "7   85.19166 31.85979 138.5235\n",
       "8   84.09803 31.12689 137.0692\n",
       "9   83.24949 30.53064 135.9683\n",
       "10  82.64604 30.09150 135.2006\n",
       "11  82.28767 29.82873 134.7466\n",
       "12  82.17439 29.76004 134.5887\n",
       "13  82.30620 29.90143 134.7110\n",
       "14  82.68309 30.26696 135.0992\n",
       "15  83.30507 30.86877 135.7414\n",
       "16  84.17214 31.71697 136.6273\n",
       "17  85.28429 32.81967 137.7489\n",
       "18  86.64153 34.18298 139.1001\n",
       "19  88.24386 35.81103 140.6767\n",
       "20  90.09127 37.70599 142.4766\n",
       "21  92.18378 39.86804 144.4995\n",
       "22  94.52137 42.29540 146.7473\n",
       "23  97.10404 44.98431 149.2238\n",
       "24  99.93180 47.92894 151.9347\n",
       "25 103.00465 51.12145 154.8879\n",
       "26 106.32259 54.55189 158.0933\n",
       "27 109.88562 58.20818 161.5631\n",
       "28 113.69373 62.07617 165.3113\n",
       "29 117.74692 66.13965 169.3542\n",
       "30 122.04521 70.38050 173.7099\n",
       "31 126.58858 74.77888 178.3983\n",
       "32 131.37704 79.31354 183.4405\n",
       "33 136.41059 83.96224 188.8589\n",
       "34 141.68922 88.70229 194.6761\n",
       "35 147.21294 93.51117 200.9147\n",
       "36 152.98174 98.36718 207.5963"
      ]
     },
     "metadata": {},
     "output_type": "display_data"
    }
   ],
   "source": [
    "pred.frame <- data.frame(height=seq(110,180,2))\n",
    "lm.pemax.hq <- lm(pemax~height+I(height^2))\n",
    "predict(lm.pemax.hq,interval=\"pred\",newdata=pred.frame)"
   ]
  },
  {
   "cell_type": "code",
   "execution_count": 4,
   "metadata": {
    "collapsed": false,
    "deletable": true,
    "editable": true
   },
   "outputs": [
    {
     "data": {
      "image/png": "[encoded data removed]",
      "text/plain": [
       "plot without title"
      ]
     },
     "metadata": {},
     "output_type": "display_data"
    }
   ],
   "source": [
    "### Based on the predicted data, we have the plot\n",
    "pp <- predict(lm.pemax.hq,newdata=pred.frame,interval=\"pred\")\n",
    "pc <- predict(lm.pemax.hq,newdata=pred.frame,interval=\"conf\")\n",
    "plot(height,pemax,ylim=c(0,200))\n",
    "matlines(pred.frame$height,pp,lty=c(1,2,2),col=\"green\")\n",
    "matlines(pred.frame$height,pc,lty=c(1,3,3),col=\"red\")"
   ]
  },
  {
   "cell_type": "markdown",
   "metadata": {
    "deletable": true,
    "editable": true
   },
   "source": [
    "** Exercise**: For the same dataset, fit the response to a cubic polynomial of the dependent variable. Plot the 95% predicted and confidence bands."
   ]
  },
  {
   "cell_type": "code",
   "execution_count": null,
   "metadata": {
    "collapsed": true,
    "deletable": true,
    "editable": true
   },
   "outputs": [],
   "source": []
  },
  {
   "cell_type": "markdown",
   "metadata": {
    "deletable": true,
    "editable": true
   },
   "source": [
    "## 2.\tRegression through origin "
   ]
  },
  {
   "cell_type": "code",
   "execution_count": 5,
   "metadata": {
    "collapsed": false,
    "deletable": true,
    "editable": true
   },
   "outputs": [
    {
     "data": {
      "text/plain": [
       "\n",
       "Call:\n",
       "lm(formula = y ~ x)\n",
       "\n",
       "Residuals:\n",
       "     Min       1Q   Median       3Q      Max \n",
       "-0.53047 -0.20624  0.01266  0.21509  0.65805 \n",
       "\n",
       "Coefficients:\n",
       "            Estimate Std. Error t value Pr(>|t|)    \n",
       "(Intercept)   0.3107     0.1653   1.879   0.0766 .  \n",
       "x             1.4658     0.2574   5.694 2.12e-05 ***\n",
       "---\n",
       "Signif. codes:  0 ‘***’ 0.001 ‘**’ 0.01 ‘*’ 0.05 ‘.’ 0.1 ‘ ’ 1\n",
       "\n",
       "Residual standard error: 0.3023 on 18 degrees of freedom\n",
       "Multiple R-squared:  0.643,\tAdjusted R-squared:  0.6232 \n",
       "F-statistic: 32.42 on 1 and 18 DF,  p-value: 2.121e-05\n"
      ]
     },
     "metadata": {},
     "output_type": "display_data"
    }
   ],
   "source": [
    "x <- runif(20)\n",
    "y <- 2*x+rnorm(20,0,0.3)\n",
    "summary(lm(y~x))"
   ]
  },
  {
   "cell_type": "code",
   "execution_count": 6,
   "metadata": {
    "collapsed": false,
    "deletable": true,
    "editable": true
   },
   "outputs": [
    {
     "data": {
      "text/plain": [
       "\n",
       "Call:\n",
       "lm(formula = y ~ x - 1)\n",
       "\n",
       "Residuals:\n",
       "     Min       1Q   Median       3Q      Max \n",
       "-0.46094 -0.12153  0.04221  0.22897  0.90038 \n",
       "\n",
       "Coefficients:\n",
       "  Estimate Std. Error t value Pr(>|t|)    \n",
       "x    1.907      0.112   17.02 5.83e-13 ***\n",
       "---\n",
       "Signif. codes:  0 ‘***’ 0.001 ‘**’ 0.01 ‘*’ 0.05 ‘.’ 0.1 ‘ ’ 1\n",
       "\n",
       "Residual standard error: 0.3218 on 19 degrees of freedom\n",
       "Multiple R-squared:  0.9385,\tAdjusted R-squared:  0.9352 \n",
       "F-statistic: 289.8 on 1 and 19 DF,  p-value: 5.828e-13\n"
      ]
     },
     "metadata": {},
     "output_type": "display_data"
    }
   ],
   "source": [
    "summary(lm(y~x-1))"
   ]
  },
  {
   "cell_type": "code",
   "execution_count": 7,
   "metadata": {
    "collapsed": false,
    "deletable": true,
    "editable": true
   },
   "outputs": [
    {
     "data": {
      "text/html": [
       "<table>\n",
       "<thead><tr><th></th><th scope=col>Df</th><th scope=col>Sum Sq</th><th scope=col>Mean Sq</th><th scope=col>F value</th><th scope=col>Pr(&gt;F)</th></tr></thead>\n",
       "<tbody>\n",
       "\t<tr><th scope=row>x</th><td> 1          </td><td>2.963471    </td><td>2.96347071  </td><td>32.42388    </td><td>2.120825e-05</td></tr>\n",
       "\t<tr><th scope=row>Residuals</th><td>18          </td><td>1.645160    </td><td>0.09139779  </td><td>      NA    </td><td>          NA</td></tr>\n",
       "</tbody>\n",
       "</table>\n"
      ],
      "text/latex": [
       "\\begin{tabular}{r|lllll}\n",
       "  & Df & Sum Sq & Mean Sq & F value & Pr(>F)\\\\\n",
       "\\hline\n",
       "\tx &  1           & 2.963471     & 2.96347071   & 32.42388     & 2.120825e-05\\\\\n",
       "\tResiduals & 18           & 1.645160     & 0.09139779   &       NA     &           NA\\\\\n",
       "\\end{tabular}\n"
      ],
      "text/markdown": [
       "\n",
       "| <!--/--> | Df | Sum Sq | Mean Sq | F value | Pr(>F) | \n",
       "|---|---|\n",
       "| x |  1           | 2.963471     | 2.96347071   | 32.42388     | 2.120825e-05 | \n",
       "| Residuals | 18           | 1.645160     | 0.09139779   |       NA     |           NA | \n",
       "\n",
       "\n"
      ],
      "text/plain": [
       "          Df Sum Sq   Mean Sq    F value  Pr(>F)      \n",
       "x          1 2.963471 2.96347071 32.42388 2.120825e-05\n",
       "Residuals 18 1.645160 0.09139779       NA           NA"
      ]
     },
     "metadata": {},
     "output_type": "display_data"
    }
   ],
   "source": [
    "anova(lm(y~x))"
   ]
  },
  {
   "cell_type": "markdown",
   "metadata": {
    "deletable": true,
    "editable": true
   },
   "source": [
    "## 3.\tDesign matrices and dummy variables \n",
    "The function `model.matrix` gives the design matrix for a given model. It can look like this:"
   ]
  },
  {
   "cell_type": "code",
   "execution_count": 8,
   "metadata": {
    "collapsed": false,
    "deletable": true,
    "editable": true
   },
   "outputs": [
    {
     "data": {
      "text/html": [
       "<table>\n",
       "<thead><tr><th></th><th scope=col>(Intercept)</th><th scope=col>height</th><th scope=col>weight</th></tr></thead>\n",
       "<tbody>\n",
       "\t<tr><th scope=row>1</th><td>1   </td><td>109 </td><td>13.1</td></tr>\n",
       "\t<tr><th scope=row>2</th><td>1   </td><td>112 </td><td>12.9</td></tr>\n",
       "\t<tr><th scope=row>3</th><td>1   </td><td>124 </td><td>14.1</td></tr>\n",
       "\t<tr><th scope=row>4</th><td>1   </td><td>125 </td><td>16.2</td></tr>\n",
       "\t<tr><th scope=row>5</th><td>1   </td><td>127 </td><td>21.5</td></tr>\n",
       "\t<tr><th scope=row>6</th><td>1   </td><td>130 </td><td>17.5</td></tr>\n",
       "\t<tr><th scope=row>7</th><td>1   </td><td>139 </td><td>30.7</td></tr>\n",
       "\t<tr><th scope=row>8</th><td>1   </td><td>150 </td><td>28.4</td></tr>\n",
       "\t<tr><th scope=row>9</th><td>1   </td><td>146 </td><td>25.1</td></tr>\n",
       "\t<tr><th scope=row>10</th><td>1   </td><td>155 </td><td>31.5</td></tr>\n",
       "\t<tr><th scope=row>11</th><td>1   </td><td>156 </td><td>39.9</td></tr>\n",
       "\t<tr><th scope=row>12</th><td>1   </td><td>153 </td><td>42.1</td></tr>\n",
       "\t<tr><th scope=row>13</th><td>1   </td><td>160 </td><td>45.6</td></tr>\n",
       "\t<tr><th scope=row>14</th><td>1   </td><td>158 </td><td>51.2</td></tr>\n",
       "\t<tr><th scope=row>15</th><td>1   </td><td>160 </td><td>35.9</td></tr>\n",
       "\t<tr><th scope=row>16</th><td>1   </td><td>153 </td><td>34.8</td></tr>\n",
       "\t<tr><th scope=row>17</th><td>1   </td><td>174 </td><td>44.7</td></tr>\n",
       "\t<tr><th scope=row>18</th><td>1   </td><td>176 </td><td>60.1</td></tr>\n",
       "\t<tr><th scope=row>19</th><td>1   </td><td>171 </td><td>42.6</td></tr>\n",
       "\t<tr><th scope=row>20</th><td>1   </td><td>156 </td><td>37.2</td></tr>\n",
       "\t<tr><th scope=row>21</th><td>1   </td><td>174 </td><td>54.6</td></tr>\n",
       "\t<tr><th scope=row>22</th><td>1   </td><td>178 </td><td>64.0</td></tr>\n",
       "\t<tr><th scope=row>23</th><td>1   </td><td>180 </td><td>73.8</td></tr>\n",
       "\t<tr><th scope=row>24</th><td>1   </td><td>175 </td><td>51.1</td></tr>\n",
       "\t<tr><th scope=row>25</th><td>1   </td><td>179 </td><td>71.5</td></tr>\n",
       "</tbody>\n",
       "</table>\n"
      ],
      "text/latex": [
       "\\begin{tabular}{r|lll}\n",
       "  & (Intercept) & height & weight\\\\\n",
       "\\hline\n",
       "\t1 & 1    & 109  & 13.1\\\\\n",
       "\t2 & 1    & 112  & 12.9\\\\\n",
       "\t3 & 1    & 124  & 14.1\\\\\n",
       "\t4 & 1    & 125  & 16.2\\\\\n",
       "\t5 & 1    & 127  & 21.5\\\\\n",
       "\t6 & 1    & 130  & 17.5\\\\\n",
       "\t7 & 1    & 139  & 30.7\\\\\n",
       "\t8 & 1    & 150  & 28.4\\\\\n",
       "\t9 & 1    & 146  & 25.1\\\\\n",
       "\t10 & 1    & 155  & 31.5\\\\\n",
       "\t11 & 1    & 156  & 39.9\\\\\n",
       "\t12 & 1    & 153  & 42.1\\\\\n",
       "\t13 & 1    & 160  & 45.6\\\\\n",
       "\t14 & 1    & 158  & 51.2\\\\\n",
       "\t15 & 1    & 160  & 35.9\\\\\n",
       "\t16 & 1    & 153  & 34.8\\\\\n",
       "\t17 & 1    & 174  & 44.7\\\\\n",
       "\t18 & 1    & 176  & 60.1\\\\\n",
       "\t19 & 1    & 171  & 42.6\\\\\n",
       "\t20 & 1    & 156  & 37.2\\\\\n",
       "\t21 & 1    & 174  & 54.6\\\\\n",
       "\t22 & 1    & 178  & 64.0\\\\\n",
       "\t23 & 1    & 180  & 73.8\\\\\n",
       "\t24 & 1    & 175  & 51.1\\\\\n",
       "\t25 & 1    & 179  & 71.5\\\\\n",
       "\\end{tabular}\n"
      ],
      "text/markdown": [
       "\n",
       "| <!--/--> | (Intercept) | height | weight | \n",
       "|---|---|---|---|---|---|---|---|---|---|---|---|---|---|---|---|---|---|---|---|---|---|---|---|---|\n",
       "| 1 | 1    | 109  | 13.1 | \n",
       "| 2 | 1    | 112  | 12.9 | \n",
       "| 3 | 1    | 124  | 14.1 | \n",
       "| 4 | 1    | 125  | 16.2 | \n",
       "| 5 | 1    | 127  | 21.5 | \n",
       "| 6 | 1    | 130  | 17.5 | \n",
       "| 7 | 1    | 139  | 30.7 | \n",
       "| 8 | 1    | 150  | 28.4 | \n",
       "| 9 | 1    | 146  | 25.1 | \n",
       "| 10 | 1    | 155  | 31.5 | \n",
       "| 11 | 1    | 156  | 39.9 | \n",
       "| 12 | 1    | 153  | 42.1 | \n",
       "| 13 | 1    | 160  | 45.6 | \n",
       "| 14 | 1    | 158  | 51.2 | \n",
       "| 15 | 1    | 160  | 35.9 | \n",
       "| 16 | 1    | 153  | 34.8 | \n",
       "| 17 | 1    | 174  | 44.7 | \n",
       "| 18 | 1    | 176  | 60.1 | \n",
       "| 19 | 1    | 171  | 42.6 | \n",
       "| 20 | 1    | 156  | 37.2 | \n",
       "| 21 | 1    | 174  | 54.6 | \n",
       "| 22 | 1    | 178  | 64.0 | \n",
       "| 23 | 1    | 180  | 73.8 | \n",
       "| 24 | 1    | 175  | 51.1 | \n",
       "| 25 | 1    | 179  | 71.5 | \n",
       "\n",
       "\n"
      ],
      "text/plain": [
       "   (Intercept) height weight\n",
       "1  1           109    13.1  \n",
       "2  1           112    12.9  \n",
       "3  1           124    14.1  \n",
       "4  1           125    16.2  \n",
       "5  1           127    21.5  \n",
       "6  1           130    17.5  \n",
       "7  1           139    30.7  \n",
       "8  1           150    28.4  \n",
       "9  1           146    25.1  \n",
       "10 1           155    31.5  \n",
       "11 1           156    39.9  \n",
       "12 1           153    42.1  \n",
       "13 1           160    45.6  \n",
       "14 1           158    51.2  \n",
       "15 1           160    35.9  \n",
       "16 1           153    34.8  \n",
       "17 1           174    44.7  \n",
       "18 1           176    60.1  \n",
       "19 1           171    42.6  \n",
       "20 1           156    37.2  \n",
       "21 1           174    54.6  \n",
       "22 1           178    64.0  \n",
       "23 1           180    73.8  \n",
       "24 1           175    51.1  \n",
       "25 1           179    71.5  "
      ]
     },
     "metadata": {},
     "output_type": "display_data"
    }
   ],
   "source": [
    "model.matrix(pemax~height+weight)"
   ]
  },
  {
   "cell_type": "markdown",
   "metadata": {
    "deletable": true,
    "editable": true
   },
   "source": [
    "If the same is attempted for a model containing a factor, the following happens."
   ]
  },
  {
   "cell_type": "code",
   "execution_count": 9,
   "metadata": {
    "collapsed": false,
    "deletable": true,
    "editable": true
   },
   "outputs": [
    {
     "data": {
      "text/html": [
       "<table>\n",
       "<thead><tr><th></th><th scope=col>(Intercept)</th><th scope=col>ventilationN2O+O2,op</th><th scope=col>ventilationO2,24h</th></tr></thead>\n",
       "<tbody>\n",
       "\t<tr><th scope=row>1</th><td>1</td><td>0</td><td>0</td></tr>\n",
       "\t<tr><th scope=row>2</th><td>1</td><td>0</td><td>0</td></tr>\n",
       "\t<tr><th scope=row>3</th><td>1</td><td>0</td><td>0</td></tr>\n",
       "\t<tr><th scope=row>4</th><td>1</td><td>0</td><td>0</td></tr>\n",
       "\t<tr><th scope=row>5</th><td>1</td><td>0</td><td>0</td></tr>\n",
       "\t<tr><th scope=row>6</th><td>1</td><td>0</td><td>0</td></tr>\n",
       "\t<tr><th scope=row>7</th><td>1</td><td>0</td><td>0</td></tr>\n",
       "\t<tr><th scope=row>8</th><td>1</td><td>0</td><td>0</td></tr>\n",
       "\t<tr><th scope=row>9</th><td>1</td><td>1</td><td>0</td></tr>\n",
       "\t<tr><th scope=row>10</th><td>1</td><td>1</td><td>0</td></tr>\n",
       "\t<tr><th scope=row>11</th><td>1</td><td>1</td><td>0</td></tr>\n",
       "\t<tr><th scope=row>12</th><td>1</td><td>1</td><td>0</td></tr>\n",
       "\t<tr><th scope=row>13</th><td>1</td><td>1</td><td>0</td></tr>\n",
       "\t<tr><th scope=row>14</th><td>1</td><td>1</td><td>0</td></tr>\n",
       "\t<tr><th scope=row>15</th><td>1</td><td>1</td><td>0</td></tr>\n",
       "\t<tr><th scope=row>16</th><td>1</td><td>1</td><td>0</td></tr>\n",
       "\t<tr><th scope=row>17</th><td>1</td><td>1</td><td>0</td></tr>\n",
       "\t<tr><th scope=row>18</th><td>1</td><td>0</td><td>1</td></tr>\n",
       "\t<tr><th scope=row>19</th><td>1</td><td>0</td><td>1</td></tr>\n",
       "\t<tr><th scope=row>20</th><td>1</td><td>0</td><td>1</td></tr>\n",
       "\t<tr><th scope=row>21</th><td>1</td><td>0</td><td>1</td></tr>\n",
       "\t<tr><th scope=row>22</th><td>1</td><td>0</td><td>1</td></tr>\n",
       "</tbody>\n",
       "</table>\n"
      ],
      "text/latex": [
       "\\begin{tabular}{r|lll}\n",
       "  & (Intercept) & ventilationN2O+O2,op & ventilationO2,24h\\\\\n",
       "\\hline\n",
       "\t1 & 1 & 0 & 0\\\\\n",
       "\t2 & 1 & 0 & 0\\\\\n",
       "\t3 & 1 & 0 & 0\\\\\n",
       "\t4 & 1 & 0 & 0\\\\\n",
       "\t5 & 1 & 0 & 0\\\\\n",
       "\t6 & 1 & 0 & 0\\\\\n",
       "\t7 & 1 & 0 & 0\\\\\n",
       "\t8 & 1 & 0 & 0\\\\\n",
       "\t9 & 1 & 1 & 0\\\\\n",
       "\t10 & 1 & 1 & 0\\\\\n",
       "\t11 & 1 & 1 & 0\\\\\n",
       "\t12 & 1 & 1 & 0\\\\\n",
       "\t13 & 1 & 1 & 0\\\\\n",
       "\t14 & 1 & 1 & 0\\\\\n",
       "\t15 & 1 & 1 & 0\\\\\n",
       "\t16 & 1 & 1 & 0\\\\\n",
       "\t17 & 1 & 1 & 0\\\\\n",
       "\t18 & 1 & 0 & 1\\\\\n",
       "\t19 & 1 & 0 & 1\\\\\n",
       "\t20 & 1 & 0 & 1\\\\\n",
       "\t21 & 1 & 0 & 1\\\\\n",
       "\t22 & 1 & 0 & 1\\\\\n",
       "\\end{tabular}\n"
      ],
      "text/markdown": [
       "\n",
       "| <!--/--> | (Intercept) | ventilationN2O+O2,op | ventilationO2,24h | \n",
       "|---|---|---|---|---|---|---|---|---|---|---|---|---|---|---|---|---|---|---|---|---|---|\n",
       "| 1 | 1 | 0 | 0 | \n",
       "| 2 | 1 | 0 | 0 | \n",
       "| 3 | 1 | 0 | 0 | \n",
       "| 4 | 1 | 0 | 0 | \n",
       "| 5 | 1 | 0 | 0 | \n",
       "| 6 | 1 | 0 | 0 | \n",
       "| 7 | 1 | 0 | 0 | \n",
       "| 8 | 1 | 0 | 0 | \n",
       "| 9 | 1 | 1 | 0 | \n",
       "| 10 | 1 | 1 | 0 | \n",
       "| 11 | 1 | 1 | 0 | \n",
       "| 12 | 1 | 1 | 0 | \n",
       "| 13 | 1 | 1 | 0 | \n",
       "| 14 | 1 | 1 | 0 | \n",
       "| 15 | 1 | 1 | 0 | \n",
       "| 16 | 1 | 1 | 0 | \n",
       "| 17 | 1 | 1 | 0 | \n",
       "| 18 | 1 | 0 | 1 | \n",
       "| 19 | 1 | 0 | 1 | \n",
       "| 20 | 1 | 0 | 1 | \n",
       "| 21 | 1 | 0 | 1 | \n",
       "| 22 | 1 | 0 | 1 | \n",
       "\n",
       "\n"
      ],
      "text/plain": [
       "   (Intercept) ventilationN2O+O2,op ventilationO2,24h\n",
       "1  1           0                    0                \n",
       "2  1           0                    0                \n",
       "3  1           0                    0                \n",
       "4  1           0                    0                \n",
       "5  1           0                    0                \n",
       "6  1           0                    0                \n",
       "7  1           0                    0                \n",
       "8  1           0                    0                \n",
       "9  1           1                    0                \n",
       "10 1           1                    0                \n",
       "11 1           1                    0                \n",
       "12 1           1                    0                \n",
       "13 1           1                    0                \n",
       "14 1           1                    0                \n",
       "15 1           1                    0                \n",
       "16 1           1                    0                \n",
       "17 1           1                    0                \n",
       "18 1           0                    1                \n",
       "19 1           0                    1                \n",
       "20 1           0                    1                \n",
       "21 1           0                    1                \n",
       "22 1           0                    1                "
      ]
     },
     "metadata": {},
     "output_type": "display_data"
    }
   ],
   "source": [
    "attach(red.cell.folate)\n",
    "model.matrix(folate~ventilation)"
   ]
  },
  {
   "cell_type": "markdown",
   "metadata": {
    "deletable": true,
    "editable": true
   },
   "source": [
    "The two columns of zeros and ones are sometimes called *dummy variables*. They are interpreted exactly as above: Multiplying them by the respective regression coefficients and adding the results yields the fitted value."
   ]
  },
  {
   "cell_type": "markdown",
   "metadata": {
    "deletable": true,
    "editable": true
   },
   "source": [
    "## 4.\tLinearity over groups \n",
    "Sometimes data are grouped according to a division of a continuous scale (e.g., by age group), or an experiment was designed to take several measurements at each of a fixed set of $x$-values. In both cases it is relevant to compare the results of a linear regression with those of an analysis of variance.\n",
    "\n",
    "We thus have two alternative models for the same data. Both belong to the class of linear models that lm is capable of handling. The linear regression model is a submodel of the model for one-way analysis of variance because the former can be obtained by placing restrictions on the parameters of the latter (namely that the true group means lie on a straight line). It is possible to test whether or not a model reduction is allowable by comparing the reduction in the amount of variation explained to the residual variation in the larger model, resulting in an F test.\n",
    "\n",
    "In the following example, notice that the variable `grp` is a numeric vector, and the variable `grpf` is a factor with six levels."
   ]
  },
  {
   "cell_type": "code",
   "execution_count": 10,
   "metadata": {
    "collapsed": false,
    "deletable": true,
    "editable": true
   },
   "outputs": [
    {
     "data": {
      "text/plain": [
       "    trypsin            grp        grpf   \n",
       " Min.   :-39.96   Min.   :1.000   1: 32  \n",
       " 1st Qu.:119.52   1st Qu.:2.000   2:137  \n",
       " Median :167.59   Median :2.000   3: 38  \n",
       " Mean   :168.68   Mean   :2.583   4: 44  \n",
       " 3rd Qu.:213.98   3rd Qu.:3.000   5: 16  \n",
       " Max.   :390.13   Max.   :6.000   6:  4  "
      ]
     },
     "metadata": {},
     "output_type": "display_data"
    }
   ],
   "source": [
    "attach(fake.trypsin)\n",
    "summary(fake.trypsin)"
   ]
  },
  {
   "cell_type": "code",
   "execution_count": 11,
   "metadata": {
    "collapsed": false,
    "deletable": true,
    "editable": true
   },
   "outputs": [
    {
     "data": {
      "text/html": [
       "<table>\n",
       "<thead><tr><th></th><th scope=col>Df</th><th scope=col>Sum Sq</th><th scope=col>Mean Sq</th><th scope=col>F value</th><th scope=col>Pr(&gt;F)</th></tr></thead>\n",
       "<tbody>\n",
       "\t<tr><th scope=row>grpf</th><td>  5         </td><td>224103.1    </td><td>44820.614   </td><td>13.50829    </td><td>9.591749e-12</td></tr>\n",
       "\t<tr><th scope=row>Residuals</th><td>265         </td><td>879271.9    </td><td> 3318.007   </td><td>      NA    </td><td>          NA</td></tr>\n",
       "</tbody>\n",
       "</table>\n"
      ],
      "text/latex": [
       "\\begin{tabular}{r|lllll}\n",
       "  & Df & Sum Sq & Mean Sq & F value & Pr(>F)\\\\\n",
       "\\hline\n",
       "\tgrpf &   5          & 224103.1     & 44820.614    & 13.50829     & 9.591749e-12\\\\\n",
       "\tResiduals & 265          & 879271.9     &  3318.007    &       NA     &           NA\\\\\n",
       "\\end{tabular}\n"
      ],
      "text/markdown": [
       "\n",
       "| <!--/--> | Df | Sum Sq | Mean Sq | F value | Pr(>F) | \n",
       "|---|---|\n",
       "| grpf |   5          | 224103.1     | 44820.614    | 13.50829     | 9.591749e-12 | \n",
       "| Residuals | 265          | 879271.9     |  3318.007    |       NA     |           NA | \n",
       "\n",
       "\n"
      ],
      "text/plain": [
       "          Df  Sum Sq   Mean Sq   F value  Pr(>F)      \n",
       "grpf        5 224103.1 44820.614 13.50829 9.591749e-12\n",
       "Residuals 265 879271.9  3318.007       NA           NA"
      ]
     },
     "metadata": {},
     "output_type": "display_data"
    }
   ],
   "source": [
    "anova(lm(trypsin~grpf))"
   ]
  },
  {
   "cell_type": "code",
   "execution_count": 12,
   "metadata": {
    "collapsed": false,
    "deletable": true,
    "editable": true
   },
   "outputs": [
    {
     "data": {
      "text/html": [
       "<table>\n",
       "<thead><tr><th></th><th scope=col>Df</th><th scope=col>Sum Sq</th><th scope=col>Mean Sq</th><th scope=col>F value</th><th scope=col>Pr(&gt;F)</th></tr></thead>\n",
       "<tbody>\n",
       "\t<tr><th scope=row>grp</th><td>  1         </td><td>206698.4    </td><td>206698.40   </td><td>62.00883    </td><td>8.451137e-14</td></tr>\n",
       "\t<tr><th scope=row>Residuals</th><td>269         </td><td>896676.6    </td><td>  3333.37   </td><td>      NA    </td><td>          NA</td></tr>\n",
       "</tbody>\n",
       "</table>\n"
      ],
      "text/latex": [
       "\\begin{tabular}{r|lllll}\n",
       "  & Df & Sum Sq & Mean Sq & F value & Pr(>F)\\\\\n",
       "\\hline\n",
       "\tgrp &   1          & 206698.4     & 206698.40    & 62.00883     & 8.451137e-14\\\\\n",
       "\tResiduals & 269          & 896676.6     &   3333.37    &       NA     &           NA\\\\\n",
       "\\end{tabular}\n"
      ],
      "text/markdown": [
       "\n",
       "| <!--/--> | Df | Sum Sq | Mean Sq | F value | Pr(>F) | \n",
       "|---|---|\n",
       "| grp |   1          | 206698.4     | 206698.40    | 62.00883     | 8.451137e-14 | \n",
       "| Residuals | 269          | 896676.6     |   3333.37    |       NA     |           NA | \n",
       "\n",
       "\n"
      ],
      "text/plain": [
       "          Df  Sum Sq   Mean Sq   F value  Pr(>F)      \n",
       "grp         1 206698.4 206698.40 62.00883 8.451137e-14\n",
       "Residuals 269 896676.6   3333.37       NA           NA"
      ]
     },
     "metadata": {},
     "output_type": "display_data"
    }
   ],
   "source": [
    "anova(lm(trypsin~grp))"
   ]
  },
  {
   "cell_type": "markdown",
   "metadata": {
    "deletable": true,
    "editable": true
   },
   "source": [
    "Notice that the residual mean squares did not change very much, indicating that the **two models describe the data nearly equally well**. If you want to have a formal test of the simple linear model against the model where there is a separate mean for each group, it can be done easily as follows:"
   ]
  },
  {
   "cell_type": "code",
   "execution_count": 13,
   "metadata": {
    "collapsed": false,
    "deletable": true,
    "editable": true
   },
   "outputs": [
    {
     "data": {
      "text/html": [
       "<table>\n",
       "<thead><tr><th scope=col>Res.Df</th><th scope=col>RSS</th><th scope=col>Df</th><th scope=col>Sum of Sq</th><th scope=col>F</th><th scope=col>Pr(&gt;F)</th></tr></thead>\n",
       "<tbody>\n",
       "\t<tr><td>269      </td><td>896676.6 </td><td>NA       </td><td>      NA </td><td>     NA  </td><td>       NA</td></tr>\n",
       "\t<tr><td>265      </td><td>879271.9 </td><td> 4       </td><td>17404.67 </td><td>1.31138  </td><td>0.2660543</td></tr>\n",
       "</tbody>\n",
       "</table>\n"
      ],
      "text/latex": [
       "\\begin{tabular}{r|llllll}\n",
       " Res.Df & RSS & Df & Sum of Sq & F & Pr(>F)\\\\\n",
       "\\hline\n",
       "\t 269       & 896676.6  & NA        &       NA  &      NA   &        NA\\\\\n",
       "\t 265       & 879271.9  &  4        & 17404.67  & 1.31138   & 0.2660543\\\\\n",
       "\\end{tabular}\n"
      ],
      "text/markdown": [
       "\n",
       "Res.Df | RSS | Df | Sum of Sq | F | Pr(>F) | \n",
       "|---|---|\n",
       "| 269       | 896676.6  | NA        |       NA  |      NA   |        NA | \n",
       "| 265       | 879271.9  |  4        | 17404.67  | 1.31138   | 0.2660543 | \n",
       "\n",
       "\n"
      ],
      "text/plain": [
       "  Res.Df RSS      Df Sum of Sq F       Pr(>F)   \n",
       "1 269    896676.6 NA       NA       NA        NA\n",
       "2 265    879271.9  4 17404.67  1.31138 0.2660543"
      ]
     },
     "metadata": {},
     "output_type": "display_data"
    }
   ],
   "source": [
    "model1 <- lm(trypsin~grp)\n",
    "model2 <- lm(trypsin~grpf)\n",
    "anova(model1,model2)"
   ]
  },
  {
   "cell_type": "markdown",
   "metadata": {
    "deletable": true,
    "editable": true
   },
   "source": [
    "So we see that the model reduction has a nonsignificant p-value and hence that model2 does not fit data significantly better than model1. --- This technique works only when one model is a submodel of the other, which is the case here since the linear model is defined by a restriction on the group means.\n",
    "\n",
    "Another way to achieve the same result is to add the two models together formally as follows:"
   ]
  },
  {
   "cell_type": "code",
   "execution_count": 14,
   "metadata": {
    "collapsed": false,
    "deletable": true,
    "editable": true
   },
   "outputs": [
    {
     "data": {
      "text/html": [
       "<table>\n",
       "<thead><tr><th></th><th scope=col>Df</th><th scope=col>Sum Sq</th><th scope=col>Mean Sq</th><th scope=col>F value</th><th scope=col>Pr(&gt;F)</th></tr></thead>\n",
       "<tbody>\n",
       "\t<tr><th scope=row>grp</th><td>  1         </td><td>206698.40   </td><td>206698.401  </td><td>62.29595    </td><td>7.832995e-14</td></tr>\n",
       "\t<tr><th scope=row>grpf</th><td>  4         </td><td> 17404.67   </td><td>  4351.167  </td><td> 1.31138    </td><td>2.660543e-01</td></tr>\n",
       "\t<tr><th scope=row>Residuals</th><td>265         </td><td>879271.91   </td><td>  3318.007  </td><td>      NA    </td><td>          NA</td></tr>\n",
       "</tbody>\n",
       "</table>\n"
      ],
      "text/latex": [
       "\\begin{tabular}{r|lllll}\n",
       "  & Df & Sum Sq & Mean Sq & F value & Pr(>F)\\\\\n",
       "\\hline\n",
       "\tgrp &   1          & 206698.40    & 206698.401   & 62.29595     & 7.832995e-14\\\\\n",
       "\tgrpf &   4          &  17404.67    &   4351.167   &  1.31138     & 2.660543e-01\\\\\n",
       "\tResiduals & 265          & 879271.91    &   3318.007   &       NA     &           NA\\\\\n",
       "\\end{tabular}\n"
      ],
      "text/markdown": [
       "\n",
       "| <!--/--> | Df | Sum Sq | Mean Sq | F value | Pr(>F) | \n",
       "|---|---|---|\n",
       "| grp |   1          | 206698.40    | 206698.401   | 62.29595     | 7.832995e-14 | \n",
       "| grpf |   4          |  17404.67    |   4351.167   |  1.31138     | 2.660543e-01 | \n",
       "| Residuals | 265          | 879271.91    |   3318.007   |       NA     |           NA | \n",
       "\n",
       "\n"
      ],
      "text/plain": [
       "          Df  Sum Sq    Mean Sq    F value  Pr(>F)      \n",
       "grp         1 206698.40 206698.401 62.29595 7.832995e-14\n",
       "grpf        4  17404.67   4351.167  1.31138 2.660543e-01\n",
       "Residuals 265 879271.91   3318.007       NA           NA"
      ]
     },
     "metadata": {},
     "output_type": "display_data"
    }
   ],
   "source": [
    "anova(lm(trypsin~grp+grpf))"
   ]
  },
  {
   "cell_type": "markdown",
   "metadata": {
    "deletable": true,
    "editable": true
   },
   "source": [
    "## 5.\tInteractions\n",
    "A basic assumption in a multiple regression model is that terms act additively on the response. However, this does not mean that linear models cannot describe nonadditivity. You can add special interaction terms that specify that the effect of one term is modified according to the level of another. In the model formulas in R, *such terms are generated using the colon operator*; for example, a:b. Usually, you will also include the terms a and b, and R allows the notation a*b for a+b+a:b. Higher-order interactions among three or more variables are also possible.\n",
    "\n",
    "Depending on the nature of the terms a and b as factors or numeric variables, the overall effect of including interaction terms can be described as follows:\n",
    "\n",
    " 1.\t**Interaction between two factors**. This is conceptually the simplest case. The model with interaction corresponds to having different levels for all possible combinations of levels of the two factors.\n",
    " 2.\t**Interaction between a factor and a numeric variable**. In this case, the model with interaction contains linear effects of the continuous variable but with different slopes within each group defined by the factor.\n",
    " 3.\t** Interaction between two continuous variables**. This gives a slightly peculiar model containing a new regression variable that is the product of the two. The interpretation is that you have a linear effect of varying one variable while keeping the other constant, but with a slope that changes as you vary the other variable."
   ]
  }
 ],
 "metadata": {
  "kernelspec": {
   "display_name": "R",
   "language": "R",
   "name": "ir"
  },
  "language_info": {
   "codemirror_mode": "r",
   "file_extension": ".r",
   "mimetype": "text/x-r-source",
   "name": "R",
   "pygments_lexer": "r",
   "version": "3.3.3"
  },
  "latex_envs": {
   "LaTeX_envs_menu_present": true,
   "autocomplete": true,
   "bibliofile": "biblio.bib",
   "cite_by": "apalike",
   "current_citInitial": 1,
   "eqLabelWithNumbers": true,
   "eqNumInitial": 1,
   "hotkeys": {
    "equation": "Ctrl-E",
    "itemize": "Ctrl-I"
   },
   "labels_anchors": false,
   "latex_user_defs": false,
   "report_style_numbering": false,
   "user_envs_cfg": false
  }
 },
 "nbformat": 4,
 "nbformat_minor": 2
}
