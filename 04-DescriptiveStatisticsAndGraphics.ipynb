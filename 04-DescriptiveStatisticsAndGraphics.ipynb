{
 "cells": [
  {
   "cell_type": "markdown",
   "metadata": {},
   "source": [
    "# Handout 4. Descriptive statistics and graphics\n",
    "\n",
    "## 1.\tSummary statistics for a single group"
   ]
  },
  {
   "cell_type": "code",
   "execution_count": 1,
   "metadata": {
    "collapsed": true
   },
   "outputs": [],
   "source": [
    "x <- rnorm(50)"
   ]
  },
  {
   "cell_type": "code",
   "execution_count": 2,
   "metadata": {
    "collapsed": false
   },
   "outputs": [
    {
     "data": {
      "text/html": [
       "-0.0671144011763604"
      ],
      "text/latex": [
       "-0.0671144011763604"
      ],
      "text/markdown": [
       "-0.0671144011763604"
      ],
      "text/plain": [
       "[1] -0.0671144"
      ]
     },
     "metadata": {},
     "output_type": "display_data"
    }
   ],
   "source": [
    "mean(x)"
   ]
  },
  {
   "cell_type": "code",
   "execution_count": 3,
   "metadata": {
    "collapsed": false
   },
   "outputs": [
    {
     "data": {
      "text/html": [
       "1.06152118658799"
      ],
      "text/latex": [
       "1.06152118658799"
      ],
      "text/markdown": [
       "1.06152118658799"
      ],
      "text/plain": [
       "[1] 1.061521"
      ]
     },
     "metadata": {},
     "output_type": "display_data"
    }
   ],
   "source": [
    "sd(x)"
   ]
  },
  {
   "cell_type": "code",
   "execution_count": 4,
   "metadata": {
    "collapsed": false
   },
   "outputs": [
    {
     "data": {
      "text/html": [
       "1.12682722957518"
      ],
      "text/latex": [
       "1.12682722957518"
      ],
      "text/markdown": [
       "1.12682722957518"
      ],
      "text/plain": [
       "[1] 1.126827"
      ]
     },
     "metadata": {},
     "output_type": "display_data"
    }
   ],
   "source": [
    "var(x)"
   ]
  },
  {
   "cell_type": "code",
   "execution_count": 5,
   "metadata": {
    "collapsed": false
   },
   "outputs": [
    {
     "data": {
      "text/html": [
       "-0.130203835033294"
      ],
      "text/latex": [
       "-0.130203835033294"
      ],
      "text/markdown": [
       "-0.130203835033294"
      ],
      "text/plain": [
       "[1] -0.1302038"
      ]
     },
     "metadata": {},
     "output_type": "display_data"
    }
   ],
   "source": [
    "median(x)"
   ]
  },
  {
   "cell_type": "code",
   "execution_count": 6,
   "metadata": {
    "collapsed": false
   },
   "outputs": [
    {
     "data": {
      "text/html": [
       "<dl class=dl-horizontal>\n",
       "\t<dt>0%</dt>\n",
       "\t\t<dd>-2.23107620390157</dd>\n",
       "\t<dt>25%</dt>\n",
       "\t\t<dd>-0.707553186527821</dd>\n",
       "\t<dt>50%</dt>\n",
       "\t\t<dd>-0.130203835033294</dd>\n",
       "\t<dt>75%</dt>\n",
       "\t\t<dd>0.684278903038773</dd>\n",
       "\t<dt>100%</dt>\n",
       "\t\t<dd>2.58658197067016</dd>\n",
       "</dl>\n"
      ],
      "text/latex": [
       "\\begin{description*}\n",
       "\\item[0\\textbackslash{}\\%] -2.23107620390157\n",
       "\\item[25\\textbackslash{}\\%] -0.707553186527821\n",
       "\\item[50\\textbackslash{}\\%] -0.130203835033294\n",
       "\\item[75\\textbackslash{}\\%] 0.684278903038773\n",
       "\\item[100\\textbackslash{}\\%] 2.58658197067016\n",
       "\\end{description*}\n"
      ],
      "text/markdown": [
       "0%\n",
       ":   -2.2310762039015725%\n",
       ":   -0.70755318652782150%\n",
       ":   -0.13020383503329475%\n",
       ":   0.684278903038773100%\n",
       ":   2.58658197067016\n",
       "\n"
      ],
      "text/plain": [
       "        0%        25%        50%        75%       100% \n",
       "-2.2310762 -0.7075532 -0.1302038  0.6842789  2.5865820 "
      ]
     },
     "metadata": {},
     "output_type": "display_data"
    }
   ],
   "source": [
    "quantile(x)"
   ]
  },
  {
   "cell_type": "code",
   "execution_count": 7,
   "metadata": {
    "collapsed": false
   },
   "outputs": [
    {
     "data": {
      "text/html": [
       "<dl class=dl-horizontal>\n",
       "\t<dt>0%</dt>\n",
       "\t\t<dd>-2.23107620390157</dd>\n",
       "\t<dt>10%</dt>\n",
       "\t\t<dd>-1.37056161791523</dd>\n",
       "\t<dt>20%</dt>\n",
       "\t\t<dd>-0.887786042165393</dd>\n",
       "\t<dt>30%</dt>\n",
       "\t\t<dd>-0.654649136578942</dd>\n",
       "\t<dt>40%</dt>\n",
       "\t\t<dd>-0.363229799273085</dd>\n",
       "\t<dt>50%</dt>\n",
       "\t\t<dd>-0.130203835033294</dd>\n",
       "\t<dt>60%</dt>\n",
       "\t\t<dd>0.343418345347193</dd>\n",
       "\t<dt>70%</dt>\n",
       "\t\t<dd>0.556571734870631</dd>\n",
       "\t<dt>80%</dt>\n",
       "\t\t<dd>0.840106486762523</dd>\n",
       "\t<dt>90%</dt>\n",
       "\t\t<dd>1.23173710192569</dd>\n",
       "\t<dt>100%</dt>\n",
       "\t\t<dd>2.58658197067016</dd>\n",
       "</dl>\n"
      ],
      "text/latex": [
       "\\begin{description*}\n",
       "\\item[0\\textbackslash{}\\%] -2.23107620390157\n",
       "\\item[10\\textbackslash{}\\%] -1.37056161791523\n",
       "\\item[20\\textbackslash{}\\%] -0.887786042165393\n",
       "\\item[30\\textbackslash{}\\%] -0.654649136578942\n",
       "\\item[40\\textbackslash{}\\%] -0.363229799273085\n",
       "\\item[50\\textbackslash{}\\%] -0.130203835033294\n",
       "\\item[60\\textbackslash{}\\%] 0.343418345347193\n",
       "\\item[70\\textbackslash{}\\%] 0.556571734870631\n",
       "\\item[80\\textbackslash{}\\%] 0.840106486762523\n",
       "\\item[90\\textbackslash{}\\%] 1.23173710192569\n",
       "\\item[100\\textbackslash{}\\%] 2.58658197067016\n",
       "\\end{description*}\n"
      ],
      "text/markdown": [
       "0%\n",
       ":   -2.2310762039015710%\n",
       ":   -1.3705616179152320%\n",
       ":   -0.88778604216539330%\n",
       ":   -0.65464913657894240%\n",
       ":   -0.36322979927308550%\n",
       ":   -0.13020383503329460%\n",
       ":   0.34341834534719370%\n",
       ":   0.55657173487063180%\n",
       ":   0.84010648676252390%\n",
       ":   1.23173710192569100%\n",
       ":   2.58658197067016\n",
       "\n"
      ],
      "text/plain": [
       "        0%        10%        20%        30%        40%        50%        60% \n",
       "-2.2310762 -1.3705616 -0.8877860 -0.6546491 -0.3632298 -0.1302038  0.3434183 \n",
       "       70%        80%        90%       100% \n",
       " 0.5565717  0.8401065  1.2317371  2.5865820 "
      ]
     },
     "metadata": {},
     "output_type": "display_data"
    }
   ],
   "source": [
    "pvec <- seq(0,1,0.1)\n",
    "quantile(x,pvec)"
   ]
  },
  {
   "cell_type": "code",
   "execution_count": 8,
   "metadata": {
    "collapsed": false
   },
   "outputs": [
    {
     "data": {
      "text/html": [
       "<ol class=list-inline>\n",
       "\t<li>'Date'</li>\n",
       "\t<li>'Pfizer'</li>\n",
       "\t<li>'Intel'</li>\n",
       "\t<li>'Citigroup'</li>\n",
       "\t<li>'AmerExp'</li>\n",
       "\t<li>'Exxon'</li>\n",
       "\t<li>'GenMotor'</li>\n",
       "</ol>\n"
      ],
      "text/latex": [
       "\\begin{enumerate*}\n",
       "\\item 'Date'\n",
       "\\item 'Pfizer'\n",
       "\\item 'Intel'\n",
       "\\item 'Citigroup'\n",
       "\\item 'AmerExp'\n",
       "\\item 'Exxon'\n",
       "\\item 'GenMotor'\n",
       "\\end{enumerate*}\n"
      ],
      "text/markdown": [
       "1. 'Date'\n",
       "2. 'Pfizer'\n",
       "3. 'Intel'\n",
       "4. 'Citigroup'\n",
       "5. 'AmerExp'\n",
       "6. 'Exxon'\n",
       "7. 'GenMotor'\n",
       "\n",
       "\n"
      ],
      "text/plain": [
       "[1] \"Date\"      \"Pfizer\"    \"Intel\"     \"Citigroup\" \"AmerExp\"   \"Exxon\"    \n",
       "[7] \"GenMotor\" "
      ]
     },
     "metadata": {},
     "output_type": "display_data"
    }
   ],
   "source": [
    "logret<-read.table(\"http://www.ams.sunysb.edu/~songwu/AMS561/d_logret_6stocks.txt\", header=T)\n",
    "names(logret)"
   ]
  },
  {
   "cell_type": "code",
   "execution_count": 9,
   "metadata": {
    "collapsed": false
   },
   "outputs": [
    {
     "data": {
      "text/html": [
       "64"
      ],
      "text/latex": [
       "64"
      ],
      "text/markdown": [
       "64"
      ],
      "text/plain": [
       "[1] 64"
      ]
     },
     "metadata": {},
     "output_type": "display_data"
    }
   ],
   "source": [
    "Intel = logret$Intel;\n",
    "sum(!is.na(Intel))"
   ]
  },
  {
   "cell_type": "code",
   "execution_count": 10,
   "metadata": {
    "collapsed": false
   },
   "outputs": [
    {
     "data": {
      "text/plain": [
       "     Min.   1st Qu.    Median      Mean   3rd Qu.      Max. \n",
       "-0.255600 -0.026720 -0.014360 -0.005986  0.045390  0.126600 "
      ]
     },
     "metadata": {},
     "output_type": "display_data"
    }
   ],
   "source": [
    "summary(Intel)"
   ]
  },
  {
   "cell_type": "code",
   "execution_count": 11,
   "metadata": {
    "collapsed": false
   },
   "outputs": [
    {
     "data": {
      "text/plain": [
       "       Date        Pfizer              Intel             Citigroup         \n",
       " 1-Apr-02: 1   Min.   :-0.060303   Min.   :-0.255619   Min.   :-0.0627462  \n",
       " 1-Apr-03: 1   1st Qu.:-0.017109   1st Qu.:-0.026718   1st Qu.:-0.0221293  \n",
       " 1-Apr-04: 1   Median :-0.002300   Median :-0.014359   Median : 0.0031789  \n",
       " 1-Apr-05: 1   Mean   :-0.004041   Mean   :-0.005986   Mean   : 0.0009359  \n",
       " 1-Aug-00: 1   3rd Qu.: 0.014631   3rd Qu.: 0.045387   3rd Qu.: 0.0215235  \n",
       " 1-Aug-01: 1   Max.   : 0.041784   Max.   : 0.126581   Max.   : 0.0976241  \n",
       " (Other) :58                                                               \n",
       "    AmerExp               Exxon              GenMotor        \n",
       " Min.   :-0.0980439   Min.   :-0.053831   Min.   :-0.105946  \n",
       " 1st Qu.:-0.0115490   1st Qu.:-0.006226   1st Qu.:-0.032169  \n",
       " Median : 0.0058001   Median : 0.001001   Median :-0.003951  \n",
       " Mean   : 0.0007047   Mean   : 0.003620   Mean   :-0.004428  \n",
       " 3rd Qu.: 0.0160063   3rd Qu.: 0.017150   3rd Qu.: 0.019791  \n",
       " Max.   : 0.0679520   Max.   : 0.090927   Max.   : 0.096344  \n",
       "                                                             "
      ]
     },
     "metadata": {},
     "output_type": "display_data"
    }
   ],
   "source": [
    "summary(logret)"
   ]
  },
  {
   "cell_type": "markdown",
   "metadata": {},
   "source": [
    "## 2.\tGraphic display of distributions --- Histograms, empirical distributions, Q-Q plot, Boxplot"
   ]
  },
  {
   "cell_type": "code",
   "execution_count": 12,
   "metadata": {
    "collapsed": false
   },
   "outputs": [
    {
     "data": {
      "image/png": "[encoded data removed]",
      "text/plain": [
       "Plot with title “Histogram of x”"
      ]
     },
     "metadata": {},
     "output_type": "display_data"
    }
   ],
   "source": [
    "hist(x)"
   ]
  },
  {
   "cell_type": "code",
   "execution_count": 13,
   "metadata": {
    "collapsed": false
   },
   "outputs": [
    {
     "data": {
      "image/png": "[encoded data removed]",
      "text/plain": [
       "plot without title"
      ]
     },
     "metadata": {},
     "output_type": "display_data"
    }
   ],
   "source": [
    "### empirical distribution function \n",
    "x<-rnorm(100)\n",
    "n <- length(x)\n",
    "plot(sort(x),(1:n)/n,type=\"s\",ylim=c(0,1))"
   ]
  },
  {
   "cell_type": "code",
   "execution_count": 14,
   "metadata": {
    "collapsed": false
   },
   "outputs": [
    {
     "data": {
      "image/png": "[encoded data removed]",
      "text/plain": [
       "Plot with title “Normal Q-Q Plot”"
      ]
     },
     "metadata": {},
     "output_type": "display_data"
    }
   ],
   "source": [
    "qqnorm(x)"
   ]
  },
  {
   "cell_type": "code",
   "execution_count": 15,
   "metadata": {
    "collapsed": false
   },
   "outputs": [
    {
     "data": {
      "image/png": "[encoded data removed]",
      "text/plain": [
       "plot without title"
      ]
     },
     "metadata": {},
     "output_type": "display_data"
    }
   ],
   "source": [
    "boxplot(Intel)"
   ]
  },
  {
   "cell_type": "markdown",
   "metadata": {},
   "source": [
    "## 3.\tTables\n",
    "Categorical data are usually described in the form of tables. A two-way table can be entered as a matrix object."
   ]
  },
  {
   "cell_type": "code",
   "execution_count": 16,
   "metadata": {
    "collapsed": false
   },
   "outputs": [
    {
     "data": {
      "text/html": [
       "<table>\n",
       "<thead><tr><th></th><th scope=col>0</th><th scope=col>1-150</th><th scope=col>151-300</th><th scope=col>&gt;300</th></tr></thead>\n",
       "<tbody>\n",
       "\t<tr><th scope=row>Married</th><td>652 </td><td>1537</td><td>598 </td><td>242 </td></tr>\n",
       "\t<tr><th scope=row>Prev.married</th><td> 36 </td><td>  46</td><td> 38 </td><td> 21 </td></tr>\n",
       "\t<tr><th scope=row>Single</th><td>218 </td><td> 327</td><td>106 </td><td> 67 </td></tr>\n",
       "</tbody>\n",
       "</table>\n"
      ],
      "text/latex": [
       "\\begin{tabular}{r|llll}\n",
       "  & 0 & 1-150 & 151-300 & >300\\\\\n",
       "\\hline\n",
       "\tMarried & 652  & 1537 & 598  & 242 \\\\\n",
       "\tPrev.married &  36  &   46 &  38  &  21 \\\\\n",
       "\tSingle & 218  &  327 & 106  &  67 \\\\\n",
       "\\end{tabular}\n"
      ],
      "text/markdown": [
       "\n",
       "| <!--/--> | 0 | 1-150 | 151-300 | >300 | \n",
       "|---|---|---|\n",
       "| Married | 652  | 1537 | 598  | 242  | \n",
       "| Prev.married |  36  |   46 |  38  |  21  | \n",
       "| Single | 218  |  327 | 106  |  67  | \n",
       "\n",
       "\n"
      ],
      "text/plain": [
       "             0   1-150 151-300 >300\n",
       "Married      652 1537  598     242 \n",
       "Prev.married  36   46   38      21 \n",
       "Single       218  327  106      67 "
      ]
     },
     "metadata": {},
     "output_type": "display_data"
    }
   ],
   "source": [
    "caff.marital <- matrix(c(652,1537,598,242,36,46,38,21,218, 327,106,67), nrow=3,byrow=T)\n",
    "colnames(caff.marital) <- c(\"0\",\"1-150\",\"151-300\",\">300\")\n",
    "rownames(caff.marital) <- c(\"Married\",\"Prev.married\",\"Single\")\n",
    "caff.marital"
   ]
  },
  {
   "cell_type": "markdown",
   "metadata": {},
   "source": [
    "Furthermore, you can name the row and column names as follows. This is particularly useful if you are generating many tables with similar classification criteria."
   ]
  },
  {
   "cell_type": "code",
   "execution_count": 17,
   "metadata": {
    "collapsed": false
   },
   "outputs": [
    {
     "data": {
      "text/html": [
       "<table>\n",
       "<thead><tr><th></th><th scope=col>0</th><th scope=col>1-150</th><th scope=col>151-300</th><th scope=col>&gt;300</th></tr></thead>\n",
       "<tbody>\n",
       "\t<tr><th scope=row>Married</th><td>652 </td><td>1537</td><td>598 </td><td>242 </td></tr>\n",
       "\t<tr><th scope=row>Prev.married</th><td> 36 </td><td>  46</td><td> 38 </td><td> 21 </td></tr>\n",
       "\t<tr><th scope=row>Single</th><td>218 </td><td> 327</td><td>106 </td><td> 67 </td></tr>\n",
       "</tbody>\n",
       "</table>\n"
      ],
      "text/latex": [
       "\\begin{tabular}{r|llll}\n",
       "  & 0 & 1-150 & 151-300 & >300\\\\\n",
       "\\hline\n",
       "\tMarried & 652  & 1537 & 598  & 242 \\\\\n",
       "\tPrev.married &  36  &   46 &  38  &  21 \\\\\n",
       "\tSingle & 218  &  327 & 106  &  67 \\\\\n",
       "\\end{tabular}\n"
      ],
      "text/markdown": [
       "\n",
       "| <!--/--> | 0 | 1-150 | 151-300 | >300 | \n",
       "|---|---|---|\n",
       "| Married | 652  | 1537 | 598  | 242  | \n",
       "| Prev.married |  36  |   46 |  38  |  21  | \n",
       "| Single | 218  |  327 | 106  |  67  | \n",
       "\n",
       "\n"
      ],
      "text/plain": [
       "              consumption\n",
       "marital        0   1-150 151-300 >300\n",
       "  Married      652 1537  598     242 \n",
       "  Prev.married  36   46   38      21 \n",
       "  Single       218  327  106      67 "
      ]
     },
     "metadata": {},
     "output_type": "display_data"
    }
   ],
   "source": [
    "names(dimnames(caff.marital)) <- c(\"marital\",\"consumption\")\n",
    "caff.marital"
   ]
  },
  {
   "cell_type": "markdown",
   "metadata": {},
   "source": [
    "Like any matrix, a table can be transposed with the `t` function:"
   ]
  },
  {
   "cell_type": "code",
   "execution_count": 18,
   "metadata": {
    "collapsed": false
   },
   "outputs": [
    {
     "data": {
      "text/html": [
       "<table>\n",
       "<thead><tr><th></th><th scope=col>Married</th><th scope=col>Prev.married</th><th scope=col>Single</th></tr></thead>\n",
       "<tbody>\n",
       "\t<tr><th scope=row>0</th><td> 652</td><td>36  </td><td>218 </td></tr>\n",
       "\t<tr><th scope=row>1-150</th><td>1537</td><td>46  </td><td>327 </td></tr>\n",
       "\t<tr><th scope=row>151-300</th><td> 598</td><td>38  </td><td>106 </td></tr>\n",
       "\t<tr><th scope=row>&gt;300</th><td> 242</td><td>21  </td><td> 67 </td></tr>\n",
       "</tbody>\n",
       "</table>\n"
      ],
      "text/latex": [
       "\\begin{tabular}{r|lll}\n",
       "  & Married & Prev.married & Single\\\\\n",
       "\\hline\n",
       "\t0 &  652 & 36   & 218 \\\\\n",
       "\t1-150 & 1537 & 46   & 327 \\\\\n",
       "\t151-300 &  598 & 38   & 106 \\\\\n",
       "\t>300 &  242 & 21   &  67 \\\\\n",
       "\\end{tabular}\n"
      ],
      "text/markdown": [
       "\n",
       "| <!--/--> | Married | Prev.married | Single | \n",
       "|---|---|---|---|\n",
       "| 0 |  652 | 36   | 218  | \n",
       "| 1-150 | 1537 | 46   | 327  | \n",
       "| 151-300 |  598 | 38   | 106  | \n",
       "| >300 |  242 | 21   |  67  | \n",
       "\n",
       "\n"
      ],
      "text/plain": [
       "           marital\n",
       "consumption Married Prev.married Single\n",
       "    0        652    36           218   \n",
       "    1-150   1537    46           327   \n",
       "    151-300  598    38           106   \n",
       "    >300     242    21            67   "
      ]
     },
     "metadata": {},
     "output_type": "display_data"
    }
   ],
   "source": [
    "t(caff.marital)"
   ]
  },
  {
   "cell_type": "markdown",
   "metadata": {},
   "source": [
    "**Exercise**: Construct the following table which summarize the number of people smoking and nonsmoking in a class. \n",
    "\n",
    "|\t     |\tSmoking\t| Nonsmoking |\n",
    "|--------|----------|------------|\n",
    "| Male   |     23\t|     45     |\n",
    "| Female |     34\t|     54     |"
   ]
  }
 ],
 "metadata": {
  "kernelspec": {
   "display_name": "R",
   "language": "R",
   "name": "ir"
  },
  "language_info": {
   "codemirror_mode": "r",
   "file_extension": ".r",
   "mimetype": "text/x-r-source",
   "name": "R",
   "pygments_lexer": "r",
   "version": "3.3.3"
  },
  "latex_envs": {
   "LaTeX_envs_menu_present": true,
   "autocomplete": true,
   "bibliofile": "biblio.bib",
   "cite_by": "apalike",
   "current_citInitial": 1,
   "eqLabelWithNumbers": true,
   "eqNumInitial": 1,
   "hotkeys": {
    "equation": "Ctrl-E",
    "itemize": "Ctrl-I"
   },
   "labels_anchors": false,
   "latex_user_defs": false,
   "report_style_numbering": false,
   "user_envs_cfg": false
  }
 },
 "nbformat": 4,
 "nbformat_minor": 2
}
